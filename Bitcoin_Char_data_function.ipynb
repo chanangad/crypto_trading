{
 "cells": [
  {
   "cell_type": "code",
   "execution_count": 1,
   "metadata": {},
   "outputs": [],
   "source": [
    "import pandas as pd\n",
    "import numpy as np\n",
    "import datetime\n",
    "import math"
   ]
  },
  {
   "cell_type": "code",
   "execution_count": 53,
   "metadata": {},
   "outputs": [
    {
     "data": {
      "text/plain": [
       "(1828151, 10)"
      ]
     },
     "execution_count": 53,
     "metadata": {},
     "output_type": "execute_result"
    }
   ],
   "source": [
    "inp = pd.read_parquet('/Users/angad/Downloads/BTC-USDT.parquet',engine = 'pyarrow')\n",
    "inp.reset_index(level=0,inplace=True)\n",
    "inp.shape"
   ]
  },
  {
   "cell_type": "code",
   "execution_count": 54,
   "metadata": {},
   "outputs": [],
   "source": [
    "#Keep the important columns only\n",
    "df = inp[['open_time','open','high','low','close','volume']]\n"
   ]
  },
  {
   "cell_type": "code",
   "execution_count": 55,
   "metadata": {},
   "outputs": [
    {
     "ename": "AttributeError",
     "evalue": "type object 'datetime.datetime' has no attribute 'datetime'",
     "output_type": "error",
     "traceback": [
      "\u001b[0;31m---------------------------------------------------------------------------\u001b[0m",
      "\u001b[0;31mAttributeError\u001b[0m                            Traceback (most recent call last)",
      "\u001b[0;32m<ipython-input-55-297b7f07c612>\u001b[0m in \u001b[0;36m<module>\u001b[0;34m\u001b[0m\n\u001b[1;32m      1\u001b[0m \u001b[0;31m#Start from 0:0:0 on 18th Aug 2017, rmeove partial data of 17th Aug 2017\u001b[0m\u001b[0;34m\u001b[0m\u001b[0;34m\u001b[0m\u001b[0;34m\u001b[0m\u001b[0m\n\u001b[0;32m----> 2\u001b[0;31m \u001b[0mdf\u001b[0m \u001b[0;34m=\u001b[0m \u001b[0mdf\u001b[0m\u001b[0;34m[\u001b[0m\u001b[0mdf\u001b[0m\u001b[0;34m[\u001b[0m\u001b[0;34m'open_time'\u001b[0m\u001b[0;34m]\u001b[0m\u001b[0;34m>=\u001b[0m\u001b[0mdatetime\u001b[0m\u001b[0;34m.\u001b[0m\u001b[0mdatetime\u001b[0m\u001b[0;34m(\u001b[0m\u001b[0;36m2017\u001b[0m\u001b[0;34m,\u001b[0m\u001b[0;36m8\u001b[0m\u001b[0;34m,\u001b[0m\u001b[0;36m18\u001b[0m\u001b[0;34m,\u001b[0m\u001b[0;36m0\u001b[0m\u001b[0;34m,\u001b[0m\u001b[0;36m0\u001b[0m\u001b[0;34m)\u001b[0m\u001b[0;34m]\u001b[0m\u001b[0;34m\u001b[0m\u001b[0;34m\u001b[0m\u001b[0m\n\u001b[0m\u001b[1;32m      3\u001b[0m \u001b[0mdf\u001b[0m\u001b[0;34m.\u001b[0m\u001b[0mreset_index\u001b[0m\u001b[0;34m(\u001b[0m\u001b[0minplace\u001b[0m \u001b[0;34m=\u001b[0m\u001b[0;32mTrue\u001b[0m\u001b[0;34m,\u001b[0m\u001b[0mdrop\u001b[0m\u001b[0;34m=\u001b[0m\u001b[0;32mTrue\u001b[0m\u001b[0;34m)\u001b[0m\u001b[0;34m\u001b[0m\u001b[0;34m\u001b[0m\u001b[0m\n\u001b[1;32m      4\u001b[0m \u001b[0mdf\u001b[0m\u001b[0;34m.\u001b[0m\u001b[0mshape\u001b[0m\u001b[0;34m\u001b[0m\u001b[0;34m\u001b[0m\u001b[0m\n",
      "\u001b[0;31mAttributeError\u001b[0m: type object 'datetime.datetime' has no attribute 'datetime'"
     ]
    }
   ],
   "source": [
    "#Start from 0:0:0 on 18th Aug 2017, rmeove partial data of 17th Aug 2017\n",
    "df = df[df['open_time']>=datetime.datetime(2017,8,18,0,0)]\n",
    "df.reset_index(inplace =True,drop=True)\n",
    "df.shape\n"
   ]
  },
  {
   "cell_type": "code",
   "execution_count": null,
   "metadata": {},
   "outputs": [],
   "source": [
    "df.head(30)"
   ]
  },
  {
   "cell_type": "code",
   "execution_count": 56,
   "metadata": {},
   "outputs": [],
   "source": [
    "#Prepare data for different timeframe candles\n",
    "\n",
    "def convert_min_hr_day(str):\n",
    "    last_char = str[-1]\n",
    "    rem_char = int(str[:-1])\n",
    "    \n",
    "    if last_char =='m':\n",
    "        time_unit = 1*rem_char\n",
    "    elif last_char == 'h':\n",
    "        time_unit = 60*rem_char\n",
    "    elif last_char == 'd':\n",
    "        time_unit = 24*60*rem_char\n",
    "    else:\n",
    "        time_unit=0\n",
    "    print(\"time_unit:\",time_unit)\n",
    "    return time_unit"
   ]
  },
  {
   "cell_type": "code",
   "execution_count": 66,
   "metadata": {},
   "outputs": [],
   "source": [
    "def prepare_data(df,time):\n",
    "    row_count = df.shape[0]\n",
    "    time_unit = convert_min_hr_day(time)\n",
    "    no_of_levels = math.ceil(row_count/time_unit)\n",
    "    levels_list = list(range(1,no_of_levels+1))\n",
    "    levels_list_expand = sorted(levels_list*time_unit)\n",
    "    group_final_list = levels_list_expand[:row_count]\n",
    "    \n",
    "    df2 = df.copy()\n",
    "    df2.insert(0,'group',group_final_list)\n",
    "    \n",
    "    output = pd.DataFrame()\n",
    "    \n",
    "    output['open'] = df2.groupby(['group']).first().open\n",
    "    output['high'] = df2.groupby(['group'])['high'].max()\n",
    "    output['low'] = df2.groupby(['group'])['low'].min()\n",
    "    output['close'] = df2.groupby(['group']).last().close\n",
    "    output['volume'] = df2.groupby(['group'])['volume'].sum()\n",
    "    output['date'] = df2.groupby(['group']).first().open_time\n",
    "    output['date'] = pd.to_datetime(output['date'])\n",
    "    #output['date'] = output['date'].dt.date\n",
    "    output.index= output['date']\n",
    "    \n",
    "    \n",
    "    \n",
    "    print('output_shape:',output.shape)\n",
    "    return output\n",
    "    \n",
    "    "
   ]
  },
  {
   "cell_type": "code",
   "execution_count": 113,
   "metadata": {},
   "outputs": [
    {
     "name": "stdout",
     "output_type": "stream",
     "text": [
      "time_unit: 28800\n",
      "output_shape: (64, 6)\n"
     ]
    }
   ],
   "source": [
    "output = prepare_data(df,'20d')"
   ]
  },
  {
   "cell_type": "code",
   "execution_count": 114,
   "metadata": {},
   "outputs": [
    {
     "data": {
      "text/html": [
       "<div>\n",
       "<style scoped>\n",
       "    .dataframe tbody tr th:only-of-type {\n",
       "        vertical-align: middle;\n",
       "    }\n",
       "\n",
       "    .dataframe tbody tr th {\n",
       "        vertical-align: top;\n",
       "    }\n",
       "\n",
       "    .dataframe thead th {\n",
       "        text-align: right;\n",
       "    }\n",
       "</style>\n",
       "<table border=\"1\" class=\"dataframe\">\n",
       "  <thead>\n",
       "    <tr style=\"text-align: right;\">\n",
       "      <th></th>\n",
       "      <th>open</th>\n",
       "      <th>high</th>\n",
       "      <th>low</th>\n",
       "      <th>close</th>\n",
       "      <th>volume</th>\n",
       "      <th>date</th>\n",
       "    </tr>\n",
       "    <tr>\n",
       "      <th>date</th>\n",
       "      <th></th>\n",
       "      <th></th>\n",
       "      <th></th>\n",
       "      <th></th>\n",
       "      <th></th>\n",
       "      <th></th>\n",
       "    </tr>\n",
       "  </thead>\n",
       "  <tbody>\n",
       "    <tr>\n",
       "      <th>2017-08-17 04:00:00.000</th>\n",
       "      <td>4261.479980</td>\n",
       "      <td>4939.189941</td>\n",
       "      <td>3400.000000</td>\n",
       "      <td>4430.020020</td>\n",
       "      <td>15007.674805</td>\n",
       "      <td>2017-08-17 04:00:00.000</td>\n",
       "    </tr>\n",
       "    <tr>\n",
       "      <th>2017-09-06 04:00:00.000</th>\n",
       "      <td>4430.020020</td>\n",
       "      <td>4788.589844</td>\n",
       "      <td>2817.000000</td>\n",
       "      <td>3937.000000</td>\n",
       "      <td>18632.933594</td>\n",
       "      <td>2017-09-06 04:00:00.000</td>\n",
       "    </tr>\n",
       "    <tr>\n",
       "      <th>2017-09-26 11:01:00.000</th>\n",
       "      <td>3931.000000</td>\n",
       "      <td>5922.299805</td>\n",
       "      <td>3872.810059</td>\n",
       "      <td>5705.149902</td>\n",
       "      <td>17884.791016</td>\n",
       "      <td>2017-09-26 11:01:00.000</td>\n",
       "    </tr>\n",
       "    <tr>\n",
       "      <th>2017-10-16 11:01:00.000</th>\n",
       "      <td>5705.140137</td>\n",
       "      <td>7480.990234</td>\n",
       "      <td>5037.950195</td>\n",
       "      <td>7415.109863</td>\n",
       "      <td>35634.753906</td>\n",
       "      <td>2017-10-16 11:01:00.000</td>\n",
       "    </tr>\n",
       "    <tr>\n",
       "      <th>2017-11-05 11:01:00.000</th>\n",
       "      <td>7416.029785</td>\n",
       "      <td>8448.990234</td>\n",
       "      <td>5325.009766</td>\n",
       "      <td>8391.320312</td>\n",
       "      <td>61777.738281</td>\n",
       "      <td>2017-11-05 11:01:00.000</td>\n",
       "    </tr>\n",
       "    <tr>\n",
       "      <th>2017-11-25 11:01:00.000</th>\n",
       "      <td>8391.330078</td>\n",
       "      <td>17982.220703</td>\n",
       "      <td>8288.000000</td>\n",
       "      <td>17806.519531</td>\n",
       "      <td>177701.796875</td>\n",
       "      <td>2017-11-25 11:01:00.000</td>\n",
       "    </tr>\n",
       "    <tr>\n",
       "      <th>2017-12-15 11:01:20.799</th>\n",
       "      <td>17788.609375</td>\n",
       "      <td>19798.679688</td>\n",
       "      <td>10961.000000</td>\n",
       "      <td>14472.419922</td>\n",
       "      <td>326496.406250</td>\n",
       "      <td>2017-12-15 11:01:20.799</td>\n",
       "    </tr>\n",
       "    <tr>\n",
       "      <th>2018-01-04 14:26:00.000</th>\n",
       "      <td>14448.070312</td>\n",
       "      <td>17176.240234</td>\n",
       "      <td>9035.000000</td>\n",
       "      <td>11417.000000</td>\n",
       "      <td>602568.000000</td>\n",
       "      <td>2018-01-04 14:26:00.000</td>\n",
       "    </tr>\n",
       "    <tr>\n",
       "      <th>2018-01-24 14:26:00.000</th>\n",
       "      <td>11416.000000</td>\n",
       "      <td>12244.000000</td>\n",
       "      <td>6000.009766</td>\n",
       "      <td>9313.700195</td>\n",
       "      <td>761788.562500</td>\n",
       "      <td>2018-01-24 14:26:00.000</td>\n",
       "    </tr>\n",
       "    <tr>\n",
       "      <th>2018-02-15 00:48:00.000</th>\n",
       "      <td>9319.919922</td>\n",
       "      <td>11786.009766</td>\n",
       "      <td>9274.799805</td>\n",
       "      <td>10876.000000</td>\n",
       "      <td>772479.937500</td>\n",
       "      <td>2018-02-15 00:48:00.000</td>\n",
       "    </tr>\n",
       "  </tbody>\n",
       "</table>\n",
       "</div>"
      ],
      "text/plain": [
       "                                 open          high           low  \\\n",
       "date                                                                \n",
       "2017-08-17 04:00:00.000   4261.479980   4939.189941   3400.000000   \n",
       "2017-09-06 04:00:00.000   4430.020020   4788.589844   2817.000000   \n",
       "2017-09-26 11:01:00.000   3931.000000   5922.299805   3872.810059   \n",
       "2017-10-16 11:01:00.000   5705.140137   7480.990234   5037.950195   \n",
       "2017-11-05 11:01:00.000   7416.029785   8448.990234   5325.009766   \n",
       "2017-11-25 11:01:00.000   8391.330078  17982.220703   8288.000000   \n",
       "2017-12-15 11:01:20.799  17788.609375  19798.679688  10961.000000   \n",
       "2018-01-04 14:26:00.000  14448.070312  17176.240234   9035.000000   \n",
       "2018-01-24 14:26:00.000  11416.000000  12244.000000   6000.009766   \n",
       "2018-02-15 00:48:00.000   9319.919922  11786.009766   9274.799805   \n",
       "\n",
       "                                close         volume                    date  \n",
       "date                                                                          \n",
       "2017-08-17 04:00:00.000   4430.020020   15007.674805 2017-08-17 04:00:00.000  \n",
       "2017-09-06 04:00:00.000   3937.000000   18632.933594 2017-09-06 04:00:00.000  \n",
       "2017-09-26 11:01:00.000   5705.149902   17884.791016 2017-09-26 11:01:00.000  \n",
       "2017-10-16 11:01:00.000   7415.109863   35634.753906 2017-10-16 11:01:00.000  \n",
       "2017-11-05 11:01:00.000   8391.320312   61777.738281 2017-11-05 11:01:00.000  \n",
       "2017-11-25 11:01:00.000  17806.519531  177701.796875 2017-11-25 11:01:00.000  \n",
       "2017-12-15 11:01:20.799  14472.419922  326496.406250 2017-12-15 11:01:20.799  \n",
       "2018-01-04 14:26:00.000  11417.000000  602568.000000 2018-01-04 14:26:00.000  \n",
       "2018-01-24 14:26:00.000   9313.700195  761788.562500 2018-01-24 14:26:00.000  \n",
       "2018-02-15 00:48:00.000  10876.000000  772479.937500 2018-02-15 00:48:00.000  "
      ]
     },
     "execution_count": 114,
     "metadata": {},
     "output_type": "execute_result"
    }
   ],
   "source": [
    "output.head(10)"
   ]
  },
  {
   "cell_type": "markdown",
   "metadata": {},
   "source": [
    "import plotly.graph_objects as go\n",
    "\n",
    "from datetime import datetime\n",
    "\n",
    "\n",
    "fig = go.Figure(data=[go.Candlestick(x=output.index,\n",
    "                open=output['open'],\n",
    "                high=output['high'],\n",
    "                low=output['low'],\n",
    "                close=output['volume'])])\n",
    "\n",
    "fig.show()"
   ]
  },
  {
   "cell_type": "code",
   "execution_count": 80,
   "metadata": {},
   "outputs": [],
   "source": [
    "import mplfinance as fplt\n"
   ]
  },
  {
   "cell_type": "code",
   "execution_count": 83,
   "metadata": {},
   "outputs": [
    {
     "data": {
      "image/png": "[encoded data removed]",
      "text/plain": [
       "<Figure size 800x575 with 4 Axes>"
      ]
     },
     "metadata": {},
     "output_type": "display_data"
    }
   ],
   "source": [
    "fplt.plot(\n",
    "            output,\n",
    "            type='candle',\n",
    "            style='charles',\n",
    "\n",
    "            title='Candlestick chart for BTC-USDT',\n",
    "            ylabel='Price ($)',\n",
    "            volume=True,\n",
    "            mav = 2,\n",
    "            #savefig = 'plot.png'\n",
    "        )"
   ]
  },
  {
   "cell_type": "code",
   "execution_count": 84,
   "metadata": {},
   "outputs": [
    {
     "data": {
      "application/vnd.plotly.v1+json": {
       "config": {
        "plotlyServerURL": "https://plot.ly"
       },
       "data": [
        {
         "close": [
          3529.989990234375,
          5705.14990234375,
          6898.8798828125,
          17806.51953125,
          13220,
          9313.7001953125,
          8261.009765625,
          8384,
          8427.3701171875,
          6603.2099609375,
          6359.89013671875,
          6069.9599609375,
          6438.75,
          6323.009765625,
          6452.16015625,
          3379.889892578125,
          3579.179931640625,
          3629.800048828125,
          3864.47998046875,
          5050.91015625,
          7061.8701171875,
          7892.330078125,
          11250,
          11343.23046875,
          10297.650390625,
          8630.6298828125,
          8860,
          7472.97998046875,
          8342,
          9808.8603515625,
          8280,
          7103.68994140625,
          9957.6298828125,
          9663.1201171875,
          9288.5595703125,
          11647.8798828125,
          10458.259765625,
          10698,
          13846.490234375,
          19219.490234375,
          34437.421875,
          34822.390625,
          47857.75
         ],
         "high": [
          4939.18994140625,
          5922.2998046875,
          7770.02001953125,
          17982.220703125,
          19798.6796875,
          14249.990234375,
          11786.009765625,
          9177.009765625,
          10020,
          8609,
          6841.740234375,
          8491.76953125,
          7410,
          6839.02978515625,
          7680,
          6498,
          4198,
          3733.580078125,
          4198,
          5422,
          7521.77978515625,
          9074.259765625,
          13970,
          12330.7001953125,
          11600,
          10448.8095703125,
          10370,
          9147.1904296875,
          8455,
          9885,
          10500,
          8280,
          9999,
          10380,
          9992.7197265625,
          12123.4599609375,
          12468,
          11179.7900390625,
          14100,
          19888,
          34778.109375,
          41950,
          48678.8984375
         ],
         "low": [
          2817,
          3499.02001953125,
          5037.9501953125,
          6888.06005859375,
          10961,
          6000.009765625,
          7650,
          6430,
          7825.39990234375,
          6118.68017578125,
          5750,
          5880,
          6046.580078125,
          6123,
          6245.02001953125,
          3222,
          3156.260009765625,
          3349.919921875,
          3568.110107421875,
          3810.429931640625,
          4950,
          6750,
          7788.990234375,
          9060,
          9320,
          7710,
          7300,
          6515,
          6435,
          7672,
          8149.27001953125,
          3782.1298828125,
          6468.27001953125,
          8117,
          8833,
          9047.25,
          9875.5,
          9825,
          10525,
          13525,
          17572.330078125,
          28130,
          34333
         ],
         "open": [
          4261.47998046875,
          3529.989990234375,
          5705.14013671875,
          6888.06005859375,
          17788.609375,
          13220,
          9319.919921875,
          8261.0400390625,
          8383.91015625,
          8427.330078125,
          6604.60009765625,
          6359.1298828125,
          6069.9599609375,
          6438.259765625,
          6326.259765625,
          6450.64013671875,
          3379.6298828125,
          3579.159912109375,
          3629.81005859375,
          3864.419921875,
          5051.97998046875,
          7062.10009765625,
          7890.39990234375,
          11250,
          11344.080078125,
          10297.650390625,
          8630.6298828125,
          8859.990234375,
          7472.990234375,
          8341.650390625,
          9807.76953125,
          8279.8203125,
          7103.68017578125,
          9957.58984375,
          9662.900390625,
          9288.5595703125,
          11647.8798828125,
          10458.26953125,
          10698,
          13846.490234375,
          19219.490234375,
          34437.421875,
          34822.390625
         ],
         "type": "candlestick",
         "x": [
          "2017-08-17T04:00:00",
          "2017-09-16T11:01:00",
          "2017-10-16T11:01:00",
          "2017-11-15T11:01:00",
          "2017-12-15T11:01:20.799000",
          "2018-01-14T14:26:00",
          "2018-02-15T00:48:00",
          "2018-03-17T00:48:00",
          "2018-04-16T00:48:00",
          "2018-05-16T00:48:00",
          "2018-06-15T00:48:00",
          "2018-07-15T20:11:00",
          "2018-08-14T20:11:00",
          "2018-09-13T20:11:00",
          "2018-10-13T20:11:00",
          "2018-11-12T23:41:00",
          "2018-12-13T06:41:00",
          "2019-01-12T06:41:00",
          "2019-02-11T06:41:00",
          "2019-03-13T12:41:00",
          "2019-04-12T12:41:00",
          "2019-05-12T12:41:00",
          "2019-06-11T23:43:00",
          "2019-07-11T23:43:00",
          "2019-08-10T23:43:00",
          "2019-09-10T07:43:00",
          "2019-10-10T07:43:00",
          "2019-11-09T07:43:00",
          "2019-12-09T12:06:00",
          "2020-01-08T12:06:00",
          "2020-02-07T12:06:00",
          "2020-03-08T21:10:00",
          "2020-04-07T21:10:00",
          "2020-05-07T23:40:00",
          "2020-06-06T23:40:00",
          "2020-07-07T03:10:00",
          "2020-08-06T03:10:00",
          "2020-09-05T03:10:00",
          "2020-10-05T03:10:00",
          "2020-11-04T03:10:00",
          "2020-12-04T04:10:00",
          "2021-01-03T09:01:00",
          "2021-02-02T09:01:00"
         ]
        }
       ],
       "layout": {
        "template": {
         "data": {
          "bar": [
           {
            "error_x": {
             "color": "#2a3f5f"
            },
            "error_y": {
             "color": "#2a3f5f"
            },
            "marker": {
             "line": {
              "color": "#E5ECF6",
              "width": 0.5
             }
            },
            "type": "bar"
           }
          ],
          "barpolar": [
           {
            "marker": {
             "line": {
              "color": "#E5ECF6",
              "width": 0.5
             }
            },
            "type": "barpolar"
           }
          ],
          "carpet": [
           {
            "aaxis": {
             "endlinecolor": "#2a3f5f",
             "gridcolor": "white",
             "linecolor": "white",
             "minorgridcolor": "white",
             "startlinecolor": "#2a3f5f"
            },
            "baxis": {
             "endlinecolor": "#2a3f5f",
             "gridcolor": "white",
             "linecolor": "white",
             "minorgridcolor": "white",
             "startlinecolor": "#2a3f5f"
            },
            "type": "carpet"
           }
          ],
          "choropleth": [
           {
            "colorbar": {
             "outlinewidth": 0,
             "ticks": ""
            },
            "type": "choropleth"
           }
          ],
          "contour": [
           {
            "colorbar": {
             "outlinewidth": 0,
             "ticks": ""
            },
            "colorscale": [
             [
              0,
              "#0d0887"
             ],
             [
              0.1111111111111111,
              "#46039f"
             ],
             [
              0.2222222222222222,
              "#7201a8"
             ],
             [
              0.3333333333333333,
              "#9c179e"
             ],
             [
              0.4444444444444444,
              "#bd3786"
             ],
             [
              0.5555555555555556,
              "#d8576b"
             ],
             [
              0.6666666666666666,
              "#ed7953"
             ],
             [
              0.7777777777777778,
              "#fb9f3a"
             ],
             [
              0.8888888888888888,
              "#fdca26"
             ],
             [
              1,
              "#f0f921"
             ]
            ],
            "type": "contour"
           }
          ],
          "contourcarpet": [
           {
            "colorbar": {
             "outlinewidth": 0,
             "ticks": ""
            },
            "type": "contourcarpet"
           }
          ],
          "heatmap": [
           {
            "colorbar": {
             "outlinewidth": 0,
             "ticks": ""
            },
            "colorscale": [
             [
              0,
              "#0d0887"
             ],
             [
              0.1111111111111111,
              "#46039f"
             ],
             [
              0.2222222222222222,
              "#7201a8"
             ],
             [
              0.3333333333333333,
              "#9c179e"
             ],
             [
              0.4444444444444444,
              "#bd3786"
             ],
             [
              0.5555555555555556,
              "#d8576b"
             ],
             [
              0.6666666666666666,
              "#ed7953"
             ],
             [
              0.7777777777777778,
              "#fb9f3a"
             ],
             [
              0.8888888888888888,
              "#fdca26"
             ],
             [
              1,
              "#f0f921"
             ]
            ],
            "type": "heatmap"
           }
          ],
          "heatmapgl": [
           {
            "colorbar": {
             "outlinewidth": 0,
             "ticks": ""
            },
            "colorscale": [
             [
              0,
              "#0d0887"
             ],
             [
              0.1111111111111111,
              "#46039f"
             ],
             [
              0.2222222222222222,
              "#7201a8"
             ],
             [
              0.3333333333333333,
              "#9c179e"
             ],
             [
              0.4444444444444444,
              "#bd3786"
             ],
             [
              0.5555555555555556,
              "#d8576b"
             ],
             [
              0.6666666666666666,
              "#ed7953"
             ],
             [
              0.7777777777777778,
              "#fb9f3a"
             ],
             [
              0.8888888888888888,
              "#fdca26"
             ],
             [
              1,
              "#f0f921"
             ]
            ],
            "type": "heatmapgl"
           }
          ],
          "histogram": [
           {
            "marker": {
             "colorbar": {
              "outlinewidth": 0,
              "ticks": ""
             }
            },
            "type": "histogram"
           }
          ],
          "histogram2d": [
           {
            "colorbar": {
             "outlinewidth": 0,
             "ticks": ""
            },
            "colorscale": [
             [
              0,
              "#0d0887"
             ],
             [
              0.1111111111111111,
              "#46039f"
             ],
             [
              0.2222222222222222,
              "#7201a8"
             ],
             [
              0.3333333333333333,
              "#9c179e"
             ],
             [
              0.4444444444444444,
              "#bd3786"
             ],
             [
              0.5555555555555556,
              "#d8576b"
             ],
             [
              0.6666666666666666,
              "#ed7953"
             ],
             [
              0.7777777777777778,
              "#fb9f3a"
             ],
             [
              0.8888888888888888,
              "#fdca26"
             ],
             [
              1,
              "#f0f921"
             ]
            ],
            "type": "histogram2d"
           }
          ],
          "histogram2dcontour": [
           {
            "colorbar": {
             "outlinewidth": 0,
             "ticks": ""
            },
            "colorscale": [
             [
              0,
              "#0d0887"
             ],
             [
              0.1111111111111111,
              "#46039f"
             ],
             [
              0.2222222222222222,
              "#7201a8"
             ],
             [
              0.3333333333333333,
              "#9c179e"
             ],
             [
              0.4444444444444444,
              "#bd3786"
             ],
             [
              0.5555555555555556,
              "#d8576b"
             ],
             [
              0.6666666666666666,
              "#ed7953"
             ],
             [
              0.7777777777777778,
              "#fb9f3a"
             ],
             [
              0.8888888888888888,
              "#fdca26"
             ],
             [
              1,
              "#f0f921"
             ]
            ],
            "type": "histogram2dcontour"
           }
          ],
          "mesh3d": [
           {
            "colorbar": {
             "outlinewidth": 0,
             "ticks": ""
            },
            "type": "mesh3d"
           }
          ],
          "parcoords": [
           {
            "line": {
             "colorbar": {
              "outlinewidth": 0,
              "ticks": ""
             }
            },
            "type": "parcoords"
           }
          ],
          "pie": [
           {
            "automargin": true,
            "type": "pie"
           }
          ],
          "scatter": [
           {
            "marker": {
             "colorbar": {
              "outlinewidth": 0,
              "ticks": ""
             }
            },
            "type": "scatter"
           }
          ],
          "scatter3d": [
           {
            "line": {
             "colorbar": {
              "outlinewidth": 0,
              "ticks": ""
             }
            },
            "marker": {
             "colorbar": {
              "outlinewidth": 0,
              "ticks": ""
             }
            },
            "type": "scatter3d"
           }
          ],
          "scattercarpet": [
           {
            "marker": {
             "colorbar": {
              "outlinewidth": 0,
              "ticks": ""
             }
            },
            "type": "scattercarpet"
           }
          ],
          "scattergeo": [
           {
            "marker": {
             "colorbar": {
              "outlinewidth": 0,
              "ticks": ""
             }
            },
            "type": "scattergeo"
           }
          ],
          "scattergl": [
           {
            "marker": {
             "colorbar": {
              "outlinewidth": 0,
              "ticks": ""
             }
            },
            "type": "scattergl"
           }
          ],
          "scattermapbox": [
           {
            "marker": {
             "colorbar": {
              "outlinewidth": 0,
              "ticks": ""
             }
            },
            "type": "scattermapbox"
           }
          ],
          "scatterpolar": [
           {
            "marker": {
             "colorbar": {
              "outlinewidth": 0,
              "ticks": ""
             }
            },
            "type": "scatterpolar"
           }
          ],
          "scatterpolargl": [
           {
            "marker": {
             "colorbar": {
              "outlinewidth": 0,
              "ticks": ""
             }
            },
            "type": "scatterpolargl"
           }
          ],
          "scatterternary": [
           {
            "marker": {
             "colorbar": {
              "outlinewidth": 0,
              "ticks": ""
             }
            },
            "type": "scatterternary"
           }
          ],
          "surface": [
           {
            "colorbar": {
             "outlinewidth": 0,
             "ticks": ""
            },
            "colorscale": [
             [
              0,
              "#0d0887"
             ],
             [
              0.1111111111111111,
              "#46039f"
             ],
             [
              0.2222222222222222,
              "#7201a8"
             ],
             [
              0.3333333333333333,
              "#9c179e"
             ],
             [
              0.4444444444444444,
              "#bd3786"
             ],
             [
              0.5555555555555556,
              "#d8576b"
             ],
             [
              0.6666666666666666,
              "#ed7953"
             ],
             [
              0.7777777777777778,
              "#fb9f3a"
             ],
             [
              0.8888888888888888,
              "#fdca26"
             ],
             [
              1,
              "#f0f921"
             ]
            ],
            "type": "surface"
           }
          ],
          "table": [
           {
            "cells": {
             "fill": {
              "color": "#EBF0F8"
             },
             "line": {
              "color": "white"
             }
            },
            "header": {
             "fill": {
              "color": "#C8D4E3"
             },
             "line": {
              "color": "white"
             }
            },
            "type": "table"
           }
          ]
         },
         "layout": {
          "annotationdefaults": {
           "arrowcolor": "#2a3f5f",
           "arrowhead": 0,
           "arrowwidth": 1
          },
          "autotypenumbers": "strict",
          "coloraxis": {
           "colorbar": {
            "outlinewidth": 0,
            "ticks": ""
           }
          },
          "colorscale": {
           "diverging": [
            [
             0,
             "#8e0152"
            ],
            [
             0.1,
             "#c51b7d"
            ],
            [
             0.2,
             "#de77ae"
            ],
            [
             0.3,
             "#f1b6da"
            ],
            [
             0.4,
             "#fde0ef"
            ],
            [
             0.5,
             "#f7f7f7"
            ],
            [
             0.6,
             "#e6f5d0"
            ],
            [
             0.7,
             "#b8e186"
            ],
            [
             0.8,
             "#7fbc41"
            ],
            [
             0.9,
             "#4d9221"
            ],
            [
             1,
             "#276419"
            ]
           ],
           "sequential": [
            [
             0,
             "#0d0887"
            ],
            [
             0.1111111111111111,
             "#46039f"
            ],
            [
             0.2222222222222222,
             "#7201a8"
            ],
            [
             0.3333333333333333,
             "#9c179e"
            ],
            [
             0.4444444444444444,
             "#bd3786"
            ],
            [
             0.5555555555555556,
             "#d8576b"
            ],
            [
             0.6666666666666666,
             "#ed7953"
            ],
            [
             0.7777777777777778,
             "#fb9f3a"
            ],
            [
             0.8888888888888888,
             "#fdca26"
            ],
            [
             1,
             "#f0f921"
            ]
           ],
           "sequentialminus": [
            [
             0,
             "#0d0887"
            ],
            [
             0.1111111111111111,
             "#46039f"
            ],
            [
             0.2222222222222222,
             "#7201a8"
            ],
            [
             0.3333333333333333,
             "#9c179e"
            ],
            [
             0.4444444444444444,
             "#bd3786"
            ],
            [
             0.5555555555555556,
             "#d8576b"
            ],
            [
             0.6666666666666666,
             "#ed7953"
            ],
            [
             0.7777777777777778,
             "#fb9f3a"
            ],
            [
             0.8888888888888888,
             "#fdca26"
            ],
            [
             1,
             "#f0f921"
            ]
           ]
          },
          "colorway": [
           "#636efa",
           "#EF553B",
           "#00cc96",
           "#ab63fa",
           "#FFA15A",
           "#19d3f3",
           "#FF6692",
           "#B6E880",
           "#FF97FF",
           "#FECB52"
          ],
          "font": {
           "color": "#2a3f5f"
          },
          "geo": {
           "bgcolor": "white",
           "lakecolor": "white",
           "landcolor": "#E5ECF6",
           "showlakes": true,
           "showland": true,
           "subunitcolor": "white"
          },
          "hoverlabel": {
           "align": "left"
          },
          "hovermode": "closest",
          "mapbox": {
           "style": "light"
          },
          "paper_bgcolor": "white",
          "plot_bgcolor": "#E5ECF6",
          "polar": {
           "angularaxis": {
            "gridcolor": "white",
            "linecolor": "white",
            "ticks": ""
           },
           "bgcolor": "#E5ECF6",
           "radialaxis": {
            "gridcolor": "white",
            "linecolor": "white",
            "ticks": ""
           }
          },
          "scene": {
           "xaxis": {
            "backgroundcolor": "#E5ECF6",
            "gridcolor": "white",
            "gridwidth": 2,
            "linecolor": "white",
            "showbackground": true,
            "ticks": "",
            "zerolinecolor": "white"
           },
           "yaxis": {
            "backgroundcolor": "#E5ECF6",
            "gridcolor": "white",
            "gridwidth": 2,
            "linecolor": "white",
            "showbackground": true,
            "ticks": "",
            "zerolinecolor": "white"
           },
           "zaxis": {
            "backgroundcolor": "#E5ECF6",
            "gridcolor": "white",
            "gridwidth": 2,
            "linecolor": "white",
            "showbackground": true,
            "ticks": "",
            "zerolinecolor": "white"
           }
          },
          "shapedefaults": {
           "line": {
            "color": "#2a3f5f"
           }
          },
          "ternary": {
           "aaxis": {
            "gridcolor": "white",
            "linecolor": "white",
            "ticks": ""
           },
           "baxis": {
            "gridcolor": "white",
            "linecolor": "white",
            "ticks": ""
           },
           "bgcolor": "#E5ECF6",
           "caxis": {
            "gridcolor": "white",
            "linecolor": "white",
            "ticks": ""
           }
          },
          "title": {
           "x": 0.05
          },
          "xaxis": {
           "automargin": true,
           "gridcolor": "white",
           "linecolor": "white",
           "ticks": "",
           "title": {
            "standoff": 15
           },
           "zerolinecolor": "white",
           "zerolinewidth": 2
          },
          "yaxis": {
           "automargin": true,
           "gridcolor": "white",
           "linecolor": "white",
           "ticks": "",
           "title": {
            "standoff": 15
           },
           "zerolinecolor": "white",
           "zerolinewidth": 2
          }
         }
        }
       }
      },
      "text/html": [
       "<div>                            <div id=\"84f725ec-8e9f-48da-9d5b-a114bab368bb\" class=\"plotly-graph-div\" style=\"height:525px; width:100%;\"></div>            <script type=\"text/javascript\">                require([\"plotly\"], function(Plotly) {                    window.PLOTLYENV=window.PLOTLYENV || {};                                    if (document.getElementById(\"84f725ec-8e9f-48da-9d5b-a114bab368bb\")) {                    Plotly.newPlot(                        \"84f725ec-8e9f-48da-9d5b-a114bab368bb\",                        [{\"close\": [3529.989990234375, 5705.14990234375, 6898.8798828125, 17806.51953125, 13220.0, 9313.7001953125, 8261.009765625, 8384.0, 8427.3701171875, 6603.2099609375, 6359.89013671875, 6069.9599609375, 6438.75, 6323.009765625, 6452.16015625, 3379.889892578125, 3579.179931640625, 3629.800048828125, 3864.47998046875, 5050.91015625, 7061.8701171875, 7892.330078125, 11250.0, 11343.23046875, 10297.650390625, 8630.6298828125, 8860.0, 7472.97998046875, 8342.0, 9808.8603515625, 8280.0, 7103.68994140625, 9957.6298828125, 9663.1201171875, 9288.5595703125, 11647.8798828125, 10458.259765625, 10698.0, 13846.490234375, 19219.490234375, 34437.421875, 34822.390625, 47857.75], \"high\": [4939.18994140625, 5922.2998046875, 7770.02001953125, 17982.220703125, 19798.6796875, 14249.990234375, 11786.009765625, 9177.009765625, 10020.0, 8609.0, 6841.740234375, 8491.76953125, 7410.0, 6839.02978515625, 7680.0, 6498.0, 4198.0, 3733.580078125, 4198.0, 5422.0, 7521.77978515625, 9074.259765625, 13970.0, 12330.7001953125, 11600.0, 10448.8095703125, 10370.0, 9147.1904296875, 8455.0, 9885.0, 10500.0, 8280.0, 9999.0, 10380.0, 9992.7197265625, 12123.4599609375, 12468.0, 11179.7900390625, 14100.0, 19888.0, 34778.109375, 41950.0, 48678.8984375], \"low\": [2817.0, 3499.02001953125, 5037.9501953125, 6888.06005859375, 10961.0, 6000.009765625, 7650.0, 6430.0, 7825.39990234375, 6118.68017578125, 5750.0, 5880.0, 6046.580078125, 6123.0, 6245.02001953125, 3222.0, 3156.260009765625, 3349.919921875, 3568.110107421875, 3810.429931640625, 4950.0, 6750.0, 7788.990234375, 9060.0, 9320.0, 7710.0, 7300.0, 6515.0, 6435.0, 7672.0, 8149.27001953125, 3782.1298828125, 6468.27001953125, 8117.0, 8833.0, 9047.25, 9875.5, 9825.0, 10525.0, 13525.0, 17572.330078125, 28130.0, 34333.0], \"open\": [4261.47998046875, 3529.989990234375, 5705.14013671875, 6888.06005859375, 17788.609375, 13220.0, 9319.919921875, 8261.0400390625, 8383.91015625, 8427.330078125, 6604.60009765625, 6359.1298828125, 6069.9599609375, 6438.259765625, 6326.259765625, 6450.64013671875, 3379.6298828125, 3579.159912109375, 3629.81005859375, 3864.419921875, 5051.97998046875, 7062.10009765625, 7890.39990234375, 11250.0, 11344.080078125, 10297.650390625, 8630.6298828125, 8859.990234375, 7472.990234375, 8341.650390625, 9807.76953125, 8279.8203125, 7103.68017578125, 9957.58984375, 9662.900390625, 9288.5595703125, 11647.8798828125, 10458.26953125, 10698.0, 13846.490234375, 19219.490234375, 34437.421875, 34822.390625], \"type\": \"candlestick\", \"x\": [\"2017-08-17T04:00:00\", \"2017-09-16T11:01:00\", \"2017-10-16T11:01:00\", \"2017-11-15T11:01:00\", \"2017-12-15T11:01:20.799000\", \"2018-01-14T14:26:00\", \"2018-02-15T00:48:00\", \"2018-03-17T00:48:00\", \"2018-04-16T00:48:00\", \"2018-05-16T00:48:00\", \"2018-06-15T00:48:00\", \"2018-07-15T20:11:00\", \"2018-08-14T20:11:00\", \"2018-09-13T20:11:00\", \"2018-10-13T20:11:00\", \"2018-11-12T23:41:00\", \"2018-12-13T06:41:00\", \"2019-01-12T06:41:00\", \"2019-02-11T06:41:00\", \"2019-03-13T12:41:00\", \"2019-04-12T12:41:00\", \"2019-05-12T12:41:00\", \"2019-06-11T23:43:00\", \"2019-07-11T23:43:00\", \"2019-08-10T23:43:00\", \"2019-09-10T07:43:00\", \"2019-10-10T07:43:00\", \"2019-11-09T07:43:00\", \"2019-12-09T12:06:00\", \"2020-01-08T12:06:00\", \"2020-02-07T12:06:00\", \"2020-03-08T21:10:00\", \"2020-04-07T21:10:00\", \"2020-05-07T23:40:00\", \"2020-06-06T23:40:00\", \"2020-07-07T03:10:00\", \"2020-08-06T03:10:00\", \"2020-09-05T03:10:00\", \"2020-10-05T03:10:00\", \"2020-11-04T03:10:00\", \"2020-12-04T04:10:00\", \"2021-01-03T09:01:00\", \"2021-02-02T09:01:00\"]}],                        {\"template\": {\"data\": {\"bar\": [{\"error_x\": {\"color\": \"#2a3f5f\"}, \"error_y\": {\"color\": \"#2a3f5f\"}, \"marker\": {\"line\": {\"color\": \"#E5ECF6\", \"width\": 0.5}}, \"type\": \"bar\"}], \"barpolar\": [{\"marker\": {\"line\": {\"color\": \"#E5ECF6\", \"width\": 0.5}}, \"type\": \"barpolar\"}], \"carpet\": [{\"aaxis\": {\"endlinecolor\": \"#2a3f5f\", \"gridcolor\": \"white\", \"linecolor\": \"white\", \"minorgridcolor\": \"white\", \"startlinecolor\": \"#2a3f5f\"}, \"baxis\": {\"endlinecolor\": \"#2a3f5f\", \"gridcolor\": \"white\", \"linecolor\": \"white\", \"minorgridcolor\": \"white\", \"startlinecolor\": \"#2a3f5f\"}, \"type\": \"carpet\"}], \"choropleth\": [{\"colorbar\": {\"outlinewidth\": 0, \"ticks\": \"\"}, \"type\": \"choropleth\"}], \"contour\": [{\"colorbar\": {\"outlinewidth\": 0, \"ticks\": \"\"}, \"colorscale\": [[0.0, \"#0d0887\"], [0.1111111111111111, \"#46039f\"], [0.2222222222222222, \"#7201a8\"], [0.3333333333333333, \"#9c179e\"], [0.4444444444444444, \"#bd3786\"], [0.5555555555555556, \"#d8576b\"], [0.6666666666666666, \"#ed7953\"], [0.7777777777777778, \"#fb9f3a\"], [0.8888888888888888, \"#fdca26\"], [1.0, \"#f0f921\"]], \"type\": \"contour\"}], \"contourcarpet\": [{\"colorbar\": {\"outlinewidth\": 0, \"ticks\": \"\"}, \"type\": \"contourcarpet\"}], \"heatmap\": [{\"colorbar\": {\"outlinewidth\": 0, \"ticks\": \"\"}, \"colorscale\": [[0.0, \"#0d0887\"], [0.1111111111111111, \"#46039f\"], [0.2222222222222222, \"#7201a8\"], [0.3333333333333333, \"#9c179e\"], [0.4444444444444444, \"#bd3786\"], [0.5555555555555556, \"#d8576b\"], [0.6666666666666666, \"#ed7953\"], [0.7777777777777778, \"#fb9f3a\"], [0.8888888888888888, \"#fdca26\"], [1.0, \"#f0f921\"]], \"type\": \"heatmap\"}], \"heatmapgl\": [{\"colorbar\": {\"outlinewidth\": 0, \"ticks\": \"\"}, \"colorscale\": [[0.0, \"#0d0887\"], [0.1111111111111111, \"#46039f\"], [0.2222222222222222, \"#7201a8\"], [0.3333333333333333, \"#9c179e\"], [0.4444444444444444, \"#bd3786\"], [0.5555555555555556, \"#d8576b\"], [0.6666666666666666, \"#ed7953\"], [0.7777777777777778, \"#fb9f3a\"], [0.8888888888888888, \"#fdca26\"], [1.0, \"#f0f921\"]], \"type\": \"heatmapgl\"}], \"histogram\": [{\"marker\": {\"colorbar\": {\"outlinewidth\": 0, \"ticks\": \"\"}}, \"type\": \"histogram\"}], \"histogram2d\": [{\"colorbar\": {\"outlinewidth\": 0, \"ticks\": \"\"}, \"colorscale\": [[0.0, \"#0d0887\"], [0.1111111111111111, \"#46039f\"], [0.2222222222222222, \"#7201a8\"], [0.3333333333333333, \"#9c179e\"], [0.4444444444444444, \"#bd3786\"], [0.5555555555555556, \"#d8576b\"], [0.6666666666666666, \"#ed7953\"], [0.7777777777777778, \"#fb9f3a\"], [0.8888888888888888, \"#fdca26\"], [1.0, \"#f0f921\"]], \"type\": \"histogram2d\"}], \"histogram2dcontour\": [{\"colorbar\": {\"outlinewidth\": 0, \"ticks\": \"\"}, \"colorscale\": [[0.0, \"#0d0887\"], [0.1111111111111111, \"#46039f\"], [0.2222222222222222, \"#7201a8\"], [0.3333333333333333, \"#9c179e\"], [0.4444444444444444, \"#bd3786\"], [0.5555555555555556, \"#d8576b\"], [0.6666666666666666, \"#ed7953\"], [0.7777777777777778, \"#fb9f3a\"], [0.8888888888888888, \"#fdca26\"], [1.0, \"#f0f921\"]], \"type\": \"histogram2dcontour\"}], \"mesh3d\": [{\"colorbar\": {\"outlinewidth\": 0, \"ticks\": \"\"}, \"type\": \"mesh3d\"}], \"parcoords\": [{\"line\": {\"colorbar\": {\"outlinewidth\": 0, \"ticks\": \"\"}}, \"type\": \"parcoords\"}], \"pie\": [{\"automargin\": true, \"type\": \"pie\"}], \"scatter\": [{\"marker\": {\"colorbar\": {\"outlinewidth\": 0, \"ticks\": \"\"}}, \"type\": \"scatter\"}], \"scatter3d\": [{\"line\": {\"colorbar\": {\"outlinewidth\": 0, \"ticks\": \"\"}}, \"marker\": {\"colorbar\": {\"outlinewidth\": 0, \"ticks\": \"\"}}, \"type\": \"scatter3d\"}], \"scattercarpet\": [{\"marker\": {\"colorbar\": {\"outlinewidth\": 0, \"ticks\": \"\"}}, \"type\": \"scattercarpet\"}], \"scattergeo\": [{\"marker\": {\"colorbar\": {\"outlinewidth\": 0, \"ticks\": \"\"}}, \"type\": \"scattergeo\"}], \"scattergl\": [{\"marker\": {\"colorbar\": {\"outlinewidth\": 0, \"ticks\": \"\"}}, \"type\": \"scattergl\"}], \"scattermapbox\": [{\"marker\": {\"colorbar\": {\"outlinewidth\": 0, \"ticks\": \"\"}}, \"type\": \"scattermapbox\"}], \"scatterpolar\": [{\"marker\": {\"colorbar\": {\"outlinewidth\": 0, \"ticks\": \"\"}}, \"type\": \"scatterpolar\"}], \"scatterpolargl\": [{\"marker\": {\"colorbar\": {\"outlinewidth\": 0, \"ticks\": \"\"}}, \"type\": \"scatterpolargl\"}], \"scatterternary\": [{\"marker\": {\"colorbar\": {\"outlinewidth\": 0, \"ticks\": \"\"}}, \"type\": \"scatterternary\"}], \"surface\": [{\"colorbar\": {\"outlinewidth\": 0, \"ticks\": \"\"}, \"colorscale\": [[0.0, \"#0d0887\"], [0.1111111111111111, \"#46039f\"], [0.2222222222222222, \"#7201a8\"], [0.3333333333333333, \"#9c179e\"], [0.4444444444444444, \"#bd3786\"], [0.5555555555555556, \"#d8576b\"], [0.6666666666666666, \"#ed7953\"], [0.7777777777777778, \"#fb9f3a\"], [0.8888888888888888, \"#fdca26\"], [1.0, \"#f0f921\"]], \"type\": \"surface\"}], \"table\": [{\"cells\": {\"fill\": {\"color\": \"#EBF0F8\"}, \"line\": {\"color\": \"white\"}}, \"header\": {\"fill\": {\"color\": \"#C8D4E3\"}, \"line\": {\"color\": \"white\"}}, \"type\": \"table\"}]}, \"layout\": {\"annotationdefaults\": {\"arrowcolor\": \"#2a3f5f\", \"arrowhead\": 0, \"arrowwidth\": 1}, \"autotypenumbers\": \"strict\", \"coloraxis\": {\"colorbar\": {\"outlinewidth\": 0, \"ticks\": \"\"}}, \"colorscale\": {\"diverging\": [[0, \"#8e0152\"], [0.1, \"#c51b7d\"], [0.2, \"#de77ae\"], [0.3, \"#f1b6da\"], [0.4, \"#fde0ef\"], [0.5, \"#f7f7f7\"], [0.6, \"#e6f5d0\"], [0.7, \"#b8e186\"], [0.8, \"#7fbc41\"], [0.9, \"#4d9221\"], [1, \"#276419\"]], \"sequential\": [[0.0, \"#0d0887\"], [0.1111111111111111, \"#46039f\"], [0.2222222222222222, \"#7201a8\"], [0.3333333333333333, \"#9c179e\"], [0.4444444444444444, \"#bd3786\"], [0.5555555555555556, \"#d8576b\"], [0.6666666666666666, \"#ed7953\"], [0.7777777777777778, \"#fb9f3a\"], [0.8888888888888888, \"#fdca26\"], [1.0, \"#f0f921\"]], \"sequentialminus\": [[0.0, \"#0d0887\"], [0.1111111111111111, \"#46039f\"], [0.2222222222222222, \"#7201a8\"], [0.3333333333333333, \"#9c179e\"], [0.4444444444444444, \"#bd3786\"], [0.5555555555555556, \"#d8576b\"], [0.6666666666666666, \"#ed7953\"], [0.7777777777777778, \"#fb9f3a\"], [0.8888888888888888, \"#fdca26\"], [1.0, \"#f0f921\"]]}, \"colorway\": [\"#636efa\", \"#EF553B\", \"#00cc96\", \"#ab63fa\", \"#FFA15A\", \"#19d3f3\", \"#FF6692\", \"#B6E880\", \"#FF97FF\", \"#FECB52\"], \"font\": {\"color\": \"#2a3f5f\"}, \"geo\": {\"bgcolor\": \"white\", \"lakecolor\": \"white\", \"landcolor\": \"#E5ECF6\", \"showlakes\": true, \"showland\": true, \"subunitcolor\": \"white\"}, \"hoverlabel\": {\"align\": \"left\"}, \"hovermode\": \"closest\", \"mapbox\": {\"style\": \"light\"}, \"paper_bgcolor\": \"white\", \"plot_bgcolor\": \"#E5ECF6\", \"polar\": {\"angularaxis\": {\"gridcolor\": \"white\", \"linecolor\": \"white\", \"ticks\": \"\"}, \"bgcolor\": \"#E5ECF6\", \"radialaxis\": {\"gridcolor\": \"white\", \"linecolor\": \"white\", \"ticks\": \"\"}}, \"scene\": {\"xaxis\": {\"backgroundcolor\": \"#E5ECF6\", \"gridcolor\": \"white\", \"gridwidth\": 2, \"linecolor\": \"white\", \"showbackground\": true, \"ticks\": \"\", \"zerolinecolor\": \"white\"}, \"yaxis\": {\"backgroundcolor\": \"#E5ECF6\", \"gridcolor\": \"white\", \"gridwidth\": 2, \"linecolor\": \"white\", \"showbackground\": true, \"ticks\": \"\", \"zerolinecolor\": \"white\"}, \"zaxis\": {\"backgroundcolor\": \"#E5ECF6\", \"gridcolor\": \"white\", \"gridwidth\": 2, \"linecolor\": \"white\", \"showbackground\": true, \"ticks\": \"\", \"zerolinecolor\": \"white\"}}, \"shapedefaults\": {\"line\": {\"color\": \"#2a3f5f\"}}, \"ternary\": {\"aaxis\": {\"gridcolor\": \"white\", \"linecolor\": \"white\", \"ticks\": \"\"}, \"baxis\": {\"gridcolor\": \"white\", \"linecolor\": \"white\", \"ticks\": \"\"}, \"bgcolor\": \"#E5ECF6\", \"caxis\": {\"gridcolor\": \"white\", \"linecolor\": \"white\", \"ticks\": \"\"}}, \"title\": {\"x\": 0.05}, \"xaxis\": {\"automargin\": true, \"gridcolor\": \"white\", \"linecolor\": \"white\", \"ticks\": \"\", \"title\": {\"standoff\": 15}, \"zerolinecolor\": \"white\", \"zerolinewidth\": 2}, \"yaxis\": {\"automargin\": true, \"gridcolor\": \"white\", \"linecolor\": \"white\", \"ticks\": \"\", \"title\": {\"standoff\": 15}, \"zerolinecolor\": \"white\", \"zerolinewidth\": 2}}}},                        {\"responsive\": true}                    ).then(function(){\n",
       "                            \n",
       "var gd = document.getElementById('84f725ec-8e9f-48da-9d5b-a114bab368bb');\n",
       "var x = new MutationObserver(function (mutations, observer) {{\n",
       "        var display = window.getComputedStyle(gd).display;\n",
       "        if (!display || display === 'none') {{\n",
       "            console.log([gd, 'removed!']);\n",
       "            Plotly.purge(gd);\n",
       "            observer.disconnect();\n",
       "        }}\n",
       "}});\n",
       "\n",
       "// Listen for the removal of the full notebook cells\n",
       "var notebookContainer = gd.closest('#notebook-container');\n",
       "if (notebookContainer) {{\n",
       "    x.observe(notebookContainer, {childList: true});\n",
       "}}\n",
       "\n",
       "// Listen for the clearing of the current output cell\n",
       "var outputEl = gd.closest('.output');\n",
       "if (outputEl) {{\n",
       "    x.observe(outputEl, {childList: true});\n",
       "}}\n",
       "\n",
       "                        })                };                });            </script>        </div>"
      ]
     },
     "metadata": {},
     "output_type": "display_data"
    }
   ],
   "source": [
    "import plotly.graph_objects as go\n",
    "\n",
    "candlestick = go.Candlestick(\n",
    "                            x=output.index,\n",
    "                            open=output['open'],\n",
    "                            high=output['high'],\n",
    "                            low=output['low'],\n",
    "                            close=output['close']\n",
    "                            )\n",
    "\n",
    "fig = go.Figure(data=[candlestick])\n",
    "\n",
    "fig.show()\n"
   ]
  },
  {
   "cell_type": "code",
   "execution_count": 87,
   "metadata": {},
   "outputs": [
    {
     "data": {
      "text/html": [
       "        <script type=\"text/javascript\">\n",
       "        window.PlotlyConfig = {MathJaxConfig: 'local'};\n",
       "        if (window.MathJax) {MathJax.Hub.Config({SVG: {font: \"STIX-Web\"}});}\n",
       "        if (typeof require !== 'undefined') {\n",
       "        require.undef(\"plotly\");\n",
       "        requirejs.config({\n",
       "            paths: {\n",
       "                'plotly': ['https://cdn.plot.ly/plotly-latest.min']\n",
       "            }\n",
       "        });\n",
       "        require(['plotly'], function(Plotly) {\n",
       "            window._Plotly = Plotly;\n",
       "        });\n",
       "        }\n",
       "        </script>\n",
       "        "
      ]
     },
     "metadata": {},
     "output_type": "display_data"
    }
   ],
   "source": [
    "import cufflinks as cf\n",
    "cf.set_config_file(theme='pearl',sharing='public',offline=True)\n"
   ]
  },
  {
   "cell_type": "code",
   "execution_count": 88,
   "metadata": {},
   "outputs": [
    {
     "data": {
      "application/vnd.plotly.v1+json": {
       "config": {
        "linkText": "Export to plot.ly",
        "plotlyServerURL": "https://plot.ly",
        "showLink": true
       },
       "data": [
        {
         "close": [
          3529.989990234375,
          5705.14990234375,
          6898.8798828125,
          17806.51953125,
          13220,
          9313.7001953125,
          8261.009765625,
          8384,
          8427.3701171875,
          6603.2099609375,
          6359.89013671875,
          6069.9599609375,
          6438.75,
          6323.009765625,
          6452.16015625,
          3379.889892578125,
          3579.179931640625,
          3629.800048828125,
          3864.47998046875,
          5050.91015625,
          7061.8701171875,
          7892.330078125,
          11250,
          11343.23046875,
          10297.650390625,
          8630.6298828125,
          8860,
          7472.97998046875,
          8342,
          9808.8603515625,
          8280,
          7103.68994140625,
          9957.6298828125,
          9663.1201171875,
          9288.5595703125,
          11647.8798828125,
          10458.259765625,
          10698,
          13846.490234375,
          19219.490234375,
          34437.421875,
          34822.390625,
          47857.75
         ],
         "high": [
          4939.18994140625,
          5922.2998046875,
          7770.02001953125,
          17982.220703125,
          19798.6796875,
          14249.990234375,
          11786.009765625,
          9177.009765625,
          10020,
          8609,
          6841.740234375,
          8491.76953125,
          7410,
          6839.02978515625,
          7680,
          6498,
          4198,
          3733.580078125,
          4198,
          5422,
          7521.77978515625,
          9074.259765625,
          13970,
          12330.7001953125,
          11600,
          10448.8095703125,
          10370,
          9147.1904296875,
          8455,
          9885,
          10500,
          8280,
          9999,
          10380,
          9992.7197265625,
          12123.4599609375,
          12468,
          11179.7900390625,
          14100,
          19888,
          34778.109375,
          41950,
          48678.8984375
         ],
         "low": [
          2817,
          3499.02001953125,
          5037.9501953125,
          6888.06005859375,
          10961,
          6000.009765625,
          7650,
          6430,
          7825.39990234375,
          6118.68017578125,
          5750,
          5880,
          6046.580078125,
          6123,
          6245.02001953125,
          3222,
          3156.260009765625,
          3349.919921875,
          3568.110107421875,
          3810.429931640625,
          4950,
          6750,
          7788.990234375,
          9060,
          9320,
          7710,
          7300,
          6515,
          6435,
          7672,
          8149.27001953125,
          3782.1298828125,
          6468.27001953125,
          8117,
          8833,
          9047.25,
          9875.5,
          9825,
          10525,
          13525,
          17572.330078125,
          28130,
          34333
         ],
         "open": [
          4261.47998046875,
          3529.989990234375,
          5705.14013671875,
          6888.06005859375,
          17788.609375,
          13220,
          9319.919921875,
          8261.0400390625,
          8383.91015625,
          8427.330078125,
          6604.60009765625,
          6359.1298828125,
          6069.9599609375,
          6438.259765625,
          6326.259765625,
          6450.64013671875,
          3379.6298828125,
          3579.159912109375,
          3629.81005859375,
          3864.419921875,
          5051.97998046875,
          7062.10009765625,
          7890.39990234375,
          11250,
          11344.080078125,
          10297.650390625,
          8630.6298828125,
          8859.990234375,
          7472.990234375,
          8341.650390625,
          9807.76953125,
          8279.8203125,
          7103.68017578125,
          9957.58984375,
          9662.900390625,
          9288.5595703125,
          11647.8798828125,
          10458.26953125,
          10698,
          13846.490234375,
          19219.490234375,
          34437.421875,
          34822.390625
         ],
         "showlegend": false,
         "type": "candlestick",
         "x": [
          "2017-08-17 04:00:00.000",
          "2017-09-16 11:01:00.000",
          "2017-10-16 11:01:00.000",
          "2017-11-15 11:01:00.000",
          "2017-12-15 11:01:20.799",
          "2018-01-14 14:26:00.000",
          "2018-02-15 00:48:00.000",
          "2018-03-17 00:48:00.000",
          "2018-04-16 00:48:00.000",
          "2018-05-16 00:48:00.000",
          "2018-06-15 00:48:00.000",
          "2018-07-15 20:11:00.000",
          "2018-08-14 20:11:00.000",
          "2018-09-13 20:11:00.000",
          "2018-10-13 20:11:00.000",
          "2018-11-12 23:41:00.000",
          "2018-12-13 06:41:00.000",
          "2019-01-12 06:41:00.000",
          "2019-02-11 06:41:00.000",
          "2019-03-13 12:41:00.000",
          "2019-04-12 12:41:00.000",
          "2019-05-12 12:41:00.000",
          "2019-06-11 23:43:00.000",
          "2019-07-11 23:43:00.000",
          "2019-08-10 23:43:00.000",
          "2019-09-10 07:43:00.000",
          "2019-10-10 07:43:00.000",
          "2019-11-09 07:43:00.000",
          "2019-12-09 12:06:00.000",
          "2020-01-08 12:06:00.000",
          "2020-02-07 12:06:00.000",
          "2020-03-08 21:10:00.000",
          "2020-04-07 21:10:00.000",
          "2020-05-07 23:40:00.000",
          "2020-06-06 23:40:00.000",
          "2020-07-07 03:10:00.000",
          "2020-08-06 03:10:00.000",
          "2020-09-05 03:10:00.000",
          "2020-10-05 03:10:00.000",
          "2020-11-04 03:10:00.000",
          "2020-12-04 04:10:00.000",
          "2021-01-03 09:01:00.000",
          "2021-02-02 09:01:00.000"
         ],
         "yaxis": "y2"
        }
       ],
       "layout": {
        "legend": {
         "bgcolor": "#F5F6F9",
         "font": {
          "color": "#4D5663"
         }
        },
        "paper_bgcolor": "#F5F6F9",
        "plot_bgcolor": "#F5F6F9",
        "template": {
         "data": {
          "bar": [
           {
            "error_x": {
             "color": "#2a3f5f"
            },
            "error_y": {
             "color": "#2a3f5f"
            },
            "marker": {
             "line": {
              "color": "#E5ECF6",
              "width": 0.5
             }
            },
            "type": "bar"
           }
          ],
          "barpolar": [
           {
            "marker": {
             "line": {
              "color": "#E5ECF6",
              "width": 0.5
             }
            },
            "type": "barpolar"
           }
          ],
          "carpet": [
           {
            "aaxis": {
             "endlinecolor": "#2a3f5f",
             "gridcolor": "white",
             "linecolor": "white",
             "minorgridcolor": "white",
             "startlinecolor": "#2a3f5f"
            },
            "baxis": {
             "endlinecolor": "#2a3f5f",
             "gridcolor": "white",
             "linecolor": "white",
             "minorgridcolor": "white",
             "startlinecolor": "#2a3f5f"
            },
            "type": "carpet"
           }
          ],
          "choropleth": [
           {
            "colorbar": {
             "outlinewidth": 0,
             "ticks": ""
            },
            "type": "choropleth"
           }
          ],
          "contour": [
           {
            "colorbar": {
             "outlinewidth": 0,
             "ticks": ""
            },
            "colorscale": [
             [
              0,
              "#0d0887"
             ],
             [
              0.1111111111111111,
              "#46039f"
             ],
             [
              0.2222222222222222,
              "#7201a8"
             ],
             [
              0.3333333333333333,
              "#9c179e"
             ],
             [
              0.4444444444444444,
              "#bd3786"
             ],
             [
              0.5555555555555556,
              "#d8576b"
             ],
             [
              0.6666666666666666,
              "#ed7953"
             ],
             [
              0.7777777777777778,
              "#fb9f3a"
             ],
             [
              0.8888888888888888,
              "#fdca26"
             ],
             [
              1,
              "#f0f921"
             ]
            ],
            "type": "contour"
           }
          ],
          "contourcarpet": [
           {
            "colorbar": {
             "outlinewidth": 0,
             "ticks": ""
            },
            "type": "contourcarpet"
           }
          ],
          "heatmap": [
           {
            "colorbar": {
             "outlinewidth": 0,
             "ticks": ""
            },
            "colorscale": [
             [
              0,
              "#0d0887"
             ],
             [
              0.1111111111111111,
              "#46039f"
             ],
             [
              0.2222222222222222,
              "#7201a8"
             ],
             [
              0.3333333333333333,
              "#9c179e"
             ],
             [
              0.4444444444444444,
              "#bd3786"
             ],
             [
              0.5555555555555556,
              "#d8576b"
             ],
             [
              0.6666666666666666,
              "#ed7953"
             ],
             [
              0.7777777777777778,
              "#fb9f3a"
             ],
             [
              0.8888888888888888,
              "#fdca26"
             ],
             [
              1,
              "#f0f921"
             ]
            ],
            "type": "heatmap"
           }
          ],
          "heatmapgl": [
           {
            "colorbar": {
             "outlinewidth": 0,
             "ticks": ""
            },
            "colorscale": [
             [
              0,
              "#0d0887"
             ],
             [
              0.1111111111111111,
              "#46039f"
             ],
             [
              0.2222222222222222,
              "#7201a8"
             ],
             [
              0.3333333333333333,
              "#9c179e"
             ],
             [
              0.4444444444444444,
              "#bd3786"
             ],
             [
              0.5555555555555556,
              "#d8576b"
             ],
             [
              0.6666666666666666,
              "#ed7953"
             ],
             [
              0.7777777777777778,
              "#fb9f3a"
             ],
             [
              0.8888888888888888,
              "#fdca26"
             ],
             [
              1,
              "#f0f921"
             ]
            ],
            "type": "heatmapgl"
           }
          ],
          "histogram": [
           {
            "marker": {
             "colorbar": {
              "outlinewidth": 0,
              "ticks": ""
             }
            },
            "type": "histogram"
           }
          ],
          "histogram2d": [
           {
            "colorbar": {
             "outlinewidth": 0,
             "ticks": ""
            },
            "colorscale": [
             [
              0,
              "#0d0887"
             ],
             [
              0.1111111111111111,
              "#46039f"
             ],
             [
              0.2222222222222222,
              "#7201a8"
             ],
             [
              0.3333333333333333,
              "#9c179e"
             ],
             [
              0.4444444444444444,
              "#bd3786"
             ],
             [
              0.5555555555555556,
              "#d8576b"
             ],
             [
              0.6666666666666666,
              "#ed7953"
             ],
             [
              0.7777777777777778,
              "#fb9f3a"
             ],
             [
              0.8888888888888888,
              "#fdca26"
             ],
             [
              1,
              "#f0f921"
             ]
            ],
            "type": "histogram2d"
           }
          ],
          "histogram2dcontour": [
           {
            "colorbar": {
             "outlinewidth": 0,
             "ticks": ""
            },
            "colorscale": [
             [
              0,
              "#0d0887"
             ],
             [
              0.1111111111111111,
              "#46039f"
             ],
             [
              0.2222222222222222,
              "#7201a8"
             ],
             [
              0.3333333333333333,
              "#9c179e"
             ],
             [
              0.4444444444444444,
              "#bd3786"
             ],
             [
              0.5555555555555556,
              "#d8576b"
             ],
             [
              0.6666666666666666,
              "#ed7953"
             ],
             [
              0.7777777777777778,
              "#fb9f3a"
             ],
             [
              0.8888888888888888,
              "#fdca26"
             ],
             [
              1,
              "#f0f921"
             ]
            ],
            "type": "histogram2dcontour"
           }
          ],
          "mesh3d": [
           {
            "colorbar": {
             "outlinewidth": 0,
             "ticks": ""
            },
            "type": "mesh3d"
           }
          ],
          "parcoords": [
           {
            "line": {
             "colorbar": {
              "outlinewidth": 0,
              "ticks": ""
             }
            },
            "type": "parcoords"
           }
          ],
          "pie": [
           {
            "automargin": true,
            "type": "pie"
           }
          ],
          "scatter": [
           {
            "marker": {
             "colorbar": {
              "outlinewidth": 0,
              "ticks": ""
             }
            },
            "type": "scatter"
           }
          ],
          "scatter3d": [
           {
            "line": {
             "colorbar": {
              "outlinewidth": 0,
              "ticks": ""
             }
            },
            "marker": {
             "colorbar": {
              "outlinewidth": 0,
              "ticks": ""
             }
            },
            "type": "scatter3d"
           }
          ],
          "scattercarpet": [
           {
            "marker": {
             "colorbar": {
              "outlinewidth": 0,
              "ticks": ""
             }
            },
            "type": "scattercarpet"
           }
          ],
          "scattergeo": [
           {
            "marker": {
             "colorbar": {
              "outlinewidth": 0,
              "ticks": ""
             }
            },
            "type": "scattergeo"
           }
          ],
          "scattergl": [
           {
            "marker": {
             "colorbar": {
              "outlinewidth": 0,
              "ticks": ""
             }
            },
            "type": "scattergl"
           }
          ],
          "scattermapbox": [
           {
            "marker": {
             "colorbar": {
              "outlinewidth": 0,
              "ticks": ""
             }
            },
            "type": "scattermapbox"
           }
          ],
          "scatterpolar": [
           {
            "marker": {
             "colorbar": {
              "outlinewidth": 0,
              "ticks": ""
             }
            },
            "type": "scatterpolar"
           }
          ],
          "scatterpolargl": [
           {
            "marker": {
             "colorbar": {
              "outlinewidth": 0,
              "ticks": ""
             }
            },
            "type": "scatterpolargl"
           }
          ],
          "scatterternary": [
           {
            "marker": {
             "colorbar": {
              "outlinewidth": 0,
              "ticks": ""
             }
            },
            "type": "scatterternary"
           }
          ],
          "surface": [
           {
            "colorbar": {
             "outlinewidth": 0,
             "ticks": ""
            },
            "colorscale": [
             [
              0,
              "#0d0887"
             ],
             [
              0.1111111111111111,
              "#46039f"
             ],
             [
              0.2222222222222222,
              "#7201a8"
             ],
             [
              0.3333333333333333,
              "#9c179e"
             ],
             [
              0.4444444444444444,
              "#bd3786"
             ],
             [
              0.5555555555555556,
              "#d8576b"
             ],
             [
              0.6666666666666666,
              "#ed7953"
             ],
             [
              0.7777777777777778,
              "#fb9f3a"
             ],
             [
              0.8888888888888888,
              "#fdca26"
             ],
             [
              1,
              "#f0f921"
             ]
            ],
            "type": "surface"
           }
          ],
          "table": [
           {
            "cells": {
             "fill": {
              "color": "#EBF0F8"
             },
             "line": {
              "color": "white"
             }
            },
            "header": {
             "fill": {
              "color": "#C8D4E3"
             },
             "line": {
              "color": "white"
             }
            },
            "type": "table"
           }
          ]
         },
         "layout": {
          "annotationdefaults": {
           "arrowcolor": "#2a3f5f",
           "arrowhead": 0,
           "arrowwidth": 1
          },
          "autotypenumbers": "strict",
          "coloraxis": {
           "colorbar": {
            "outlinewidth": 0,
            "ticks": ""
           }
          },
          "colorscale": {
           "diverging": [
            [
             0,
             "#8e0152"
            ],
            [
             0.1,
             "#c51b7d"
            ],
            [
             0.2,
             "#de77ae"
            ],
            [
             0.3,
             "#f1b6da"
            ],
            [
             0.4,
             "#fde0ef"
            ],
            [
             0.5,
             "#f7f7f7"
            ],
            [
             0.6,
             "#e6f5d0"
            ],
            [
             0.7,
             "#b8e186"
            ],
            [
             0.8,
             "#7fbc41"
            ],
            [
             0.9,
             "#4d9221"
            ],
            [
             1,
             "#276419"
            ]
           ],
           "sequential": [
            [
             0,
             "#0d0887"
            ],
            [
             0.1111111111111111,
             "#46039f"
            ],
            [
             0.2222222222222222,
             "#7201a8"
            ],
            [
             0.3333333333333333,
             "#9c179e"
            ],
            [
             0.4444444444444444,
             "#bd3786"
            ],
            [
             0.5555555555555556,
             "#d8576b"
            ],
            [
             0.6666666666666666,
             "#ed7953"
            ],
            [
             0.7777777777777778,
             "#fb9f3a"
            ],
            [
             0.8888888888888888,
             "#fdca26"
            ],
            [
             1,
             "#f0f921"
            ]
           ],
           "sequentialminus": [
            [
             0,
             "#0d0887"
            ],
            [
             0.1111111111111111,
             "#46039f"
            ],
            [
             0.2222222222222222,
             "#7201a8"
            ],
            [
             0.3333333333333333,
             "#9c179e"
            ],
            [
             0.4444444444444444,
             "#bd3786"
            ],
            [
             0.5555555555555556,
             "#d8576b"
            ],
            [
             0.6666666666666666,
             "#ed7953"
            ],
            [
             0.7777777777777778,
             "#fb9f3a"
            ],
            [
             0.8888888888888888,
             "#fdca26"
            ],
            [
             1,
             "#f0f921"
            ]
           ]
          },
          "colorway": [
           "#636efa",
           "#EF553B",
           "#00cc96",
           "#ab63fa",
           "#FFA15A",
           "#19d3f3",
           "#FF6692",
           "#B6E880",
           "#FF97FF",
           "#FECB52"
          ],
          "font": {
           "color": "#2a3f5f"
          },
          "geo": {
           "bgcolor": "white",
           "lakecolor": "white",
           "landcolor": "#E5ECF6",
           "showlakes": true,
           "showland": true,
           "subunitcolor": "white"
          },
          "hoverlabel": {
           "align": "left"
          },
          "hovermode": "closest",
          "mapbox": {
           "style": "light"
          },
          "paper_bgcolor": "white",
          "plot_bgcolor": "#E5ECF6",
          "polar": {
           "angularaxis": {
            "gridcolor": "white",
            "linecolor": "white",
            "ticks": ""
           },
           "bgcolor": "#E5ECF6",
           "radialaxis": {
            "gridcolor": "white",
            "linecolor": "white",
            "ticks": ""
           }
          },
          "scene": {
           "xaxis": {
            "backgroundcolor": "#E5ECF6",
            "gridcolor": "white",
            "gridwidth": 2,
            "linecolor": "white",
            "showbackground": true,
            "ticks": "",
            "zerolinecolor": "white"
           },
           "yaxis": {
            "backgroundcolor": "#E5ECF6",
            "gridcolor": "white",
            "gridwidth": 2,
            "linecolor": "white",
            "showbackground": true,
            "ticks": "",
            "zerolinecolor": "white"
           },
           "zaxis": {
            "backgroundcolor": "#E5ECF6",
            "gridcolor": "white",
            "gridwidth": 2,
            "linecolor": "white",
            "showbackground": true,
            "ticks": "",
            "zerolinecolor": "white"
           }
          },
          "shapedefaults": {
           "line": {
            "color": "#2a3f5f"
           }
          },
          "ternary": {
           "aaxis": {
            "gridcolor": "white",
            "linecolor": "white",
            "ticks": ""
           },
           "baxis": {
            "gridcolor": "white",
            "linecolor": "white",
            "ticks": ""
           },
           "bgcolor": "#E5ECF6",
           "caxis": {
            "gridcolor": "white",
            "linecolor": "white",
            "ticks": ""
           }
          },
          "title": {
           "x": 0.05
          },
          "xaxis": {
           "automargin": true,
           "gridcolor": "white",
           "linecolor": "white",
           "ticks": "",
           "title": {
            "standoff": 15
           },
           "zerolinecolor": "white",
           "zerolinewidth": 2
          },
          "yaxis": {
           "automargin": true,
           "gridcolor": "white",
           "linecolor": "white",
           "ticks": "",
           "title": {
            "standoff": 15
           },
           "zerolinecolor": "white",
           "zerolinewidth": 2
          }
         }
        },
        "title": {
         "font": {
          "color": "#4D5663"
         }
        },
        "xaxis": {
         "gridcolor": "#E1E5ED",
         "rangeslider": {
          "visible": true
         },
         "showgrid": true,
         "tickfont": {
          "color": "#4D5663"
         },
         "title": {
          "font": {
           "color": "#4D5663"
          },
          "text": ""
         },
         "zerolinecolor": "#E1E5ED"
        },
        "yaxis": {
         "gridcolor": "#E1E5ED",
         "showgrid": true,
         "showticklabels": false,
         "tickfont": {
          "color": "#4D5663"
         },
         "title": {
          "font": {
           "color": "#4D5663"
          },
          "text": ""
         },
         "zerolinecolor": "#E1E5ED"
        },
        "yaxis2": {
         "gridcolor": "#E1E5ED",
         "showgrid": true,
         "tickfont": {
          "color": "#4D5663"
         },
         "title": {
          "font": {
           "color": "#4D5663"
          },
          "text": ""
         },
         "zerolinecolor": "#E1E5ED"
        }
       }
      },
      "text/html": [
       "<div>                            <div id=\"e019e5a3-d406-4d48-b0d1-6c8597b120f7\" class=\"plotly-graph-div\" style=\"height:525px; width:100%;\"></div>            <script type=\"text/javascript\">                require([\"plotly\"], function(Plotly) {                    window.PLOTLYENV=window.PLOTLYENV || {};\n",
       "                    window.PLOTLYENV.BASE_URL='https://plot.ly';                                    if (document.getElementById(\"e019e5a3-d406-4d48-b0d1-6c8597b120f7\")) {                    Plotly.newPlot(                        \"e019e5a3-d406-4d48-b0d1-6c8597b120f7\",                        [{\"close\": [3529.989990234375, 5705.14990234375, 6898.8798828125, 17806.51953125, 13220.0, 9313.7001953125, 8261.009765625, 8384.0, 8427.3701171875, 6603.2099609375, 6359.89013671875, 6069.9599609375, 6438.75, 6323.009765625, 6452.16015625, 3379.889892578125, 3579.179931640625, 3629.800048828125, 3864.47998046875, 5050.91015625, 7061.8701171875, 7892.330078125, 11250.0, 11343.23046875, 10297.650390625, 8630.6298828125, 8860.0, 7472.97998046875, 8342.0, 9808.8603515625, 8280.0, 7103.68994140625, 9957.6298828125, 9663.1201171875, 9288.5595703125, 11647.8798828125, 10458.259765625, 10698.0, 13846.490234375, 19219.490234375, 34437.421875, 34822.390625, 47857.75], \"high\": [4939.18994140625, 5922.2998046875, 7770.02001953125, 17982.220703125, 19798.6796875, 14249.990234375, 11786.009765625, 9177.009765625, 10020.0, 8609.0, 6841.740234375, 8491.76953125, 7410.0, 6839.02978515625, 7680.0, 6498.0, 4198.0, 3733.580078125, 4198.0, 5422.0, 7521.77978515625, 9074.259765625, 13970.0, 12330.7001953125, 11600.0, 10448.8095703125, 10370.0, 9147.1904296875, 8455.0, 9885.0, 10500.0, 8280.0, 9999.0, 10380.0, 9992.7197265625, 12123.4599609375, 12468.0, 11179.7900390625, 14100.0, 19888.0, 34778.109375, 41950.0, 48678.8984375], \"low\": [2817.0, 3499.02001953125, 5037.9501953125, 6888.06005859375, 10961.0, 6000.009765625, 7650.0, 6430.0, 7825.39990234375, 6118.68017578125, 5750.0, 5880.0, 6046.580078125, 6123.0, 6245.02001953125, 3222.0, 3156.260009765625, 3349.919921875, 3568.110107421875, 3810.429931640625, 4950.0, 6750.0, 7788.990234375, 9060.0, 9320.0, 7710.0, 7300.0, 6515.0, 6435.0, 7672.0, 8149.27001953125, 3782.1298828125, 6468.27001953125, 8117.0, 8833.0, 9047.25, 9875.5, 9825.0, 10525.0, 13525.0, 17572.330078125, 28130.0, 34333.0], \"open\": [4261.47998046875, 3529.989990234375, 5705.14013671875, 6888.06005859375, 17788.609375, 13220.0, 9319.919921875, 8261.0400390625, 8383.91015625, 8427.330078125, 6604.60009765625, 6359.1298828125, 6069.9599609375, 6438.259765625, 6326.259765625, 6450.64013671875, 3379.6298828125, 3579.159912109375, 3629.81005859375, 3864.419921875, 5051.97998046875, 7062.10009765625, 7890.39990234375, 11250.0, 11344.080078125, 10297.650390625, 8630.6298828125, 8859.990234375, 7472.990234375, 8341.650390625, 9807.76953125, 8279.8203125, 7103.68017578125, 9957.58984375, 9662.900390625, 9288.5595703125, 11647.8798828125, 10458.26953125, 10698.0, 13846.490234375, 19219.490234375, 34437.421875, 34822.390625], \"showlegend\": false, \"type\": \"candlestick\", \"x\": [\"2017-08-17 04:00:00.000\", \"2017-09-16 11:01:00.000\", \"2017-10-16 11:01:00.000\", \"2017-11-15 11:01:00.000\", \"2017-12-15 11:01:20.799\", \"2018-01-14 14:26:00.000\", \"2018-02-15 00:48:00.000\", \"2018-03-17 00:48:00.000\", \"2018-04-16 00:48:00.000\", \"2018-05-16 00:48:00.000\", \"2018-06-15 00:48:00.000\", \"2018-07-15 20:11:00.000\", \"2018-08-14 20:11:00.000\", \"2018-09-13 20:11:00.000\", \"2018-10-13 20:11:00.000\", \"2018-11-12 23:41:00.000\", \"2018-12-13 06:41:00.000\", \"2019-01-12 06:41:00.000\", \"2019-02-11 06:41:00.000\", \"2019-03-13 12:41:00.000\", \"2019-04-12 12:41:00.000\", \"2019-05-12 12:41:00.000\", \"2019-06-11 23:43:00.000\", \"2019-07-11 23:43:00.000\", \"2019-08-10 23:43:00.000\", \"2019-09-10 07:43:00.000\", \"2019-10-10 07:43:00.000\", \"2019-11-09 07:43:00.000\", \"2019-12-09 12:06:00.000\", \"2020-01-08 12:06:00.000\", \"2020-02-07 12:06:00.000\", \"2020-03-08 21:10:00.000\", \"2020-04-07 21:10:00.000\", \"2020-05-07 23:40:00.000\", \"2020-06-06 23:40:00.000\", \"2020-07-07 03:10:00.000\", \"2020-08-06 03:10:00.000\", \"2020-09-05 03:10:00.000\", \"2020-10-05 03:10:00.000\", \"2020-11-04 03:10:00.000\", \"2020-12-04 04:10:00.000\", \"2021-01-03 09:01:00.000\", \"2021-02-02 09:01:00.000\"], \"yaxis\": \"y2\"}],                        {\"legend\": {\"bgcolor\": \"#F5F6F9\", \"font\": {\"color\": \"#4D5663\"}}, \"paper_bgcolor\": \"#F5F6F9\", \"plot_bgcolor\": \"#F5F6F9\", \"template\": {\"data\": {\"bar\": [{\"error_x\": {\"color\": \"#2a3f5f\"}, \"error_y\": {\"color\": \"#2a3f5f\"}, \"marker\": {\"line\": {\"color\": \"#E5ECF6\", \"width\": 0.5}}, \"type\": \"bar\"}], \"barpolar\": [{\"marker\": {\"line\": {\"color\": \"#E5ECF6\", \"width\": 0.5}}, \"type\": \"barpolar\"}], \"carpet\": [{\"aaxis\": {\"endlinecolor\": \"#2a3f5f\", \"gridcolor\": \"white\", \"linecolor\": \"white\", \"minorgridcolor\": \"white\", \"startlinecolor\": \"#2a3f5f\"}, \"baxis\": {\"endlinecolor\": \"#2a3f5f\", \"gridcolor\": \"white\", \"linecolor\": \"white\", \"minorgridcolor\": \"white\", \"startlinecolor\": \"#2a3f5f\"}, \"type\": \"carpet\"}], \"choropleth\": [{\"colorbar\": {\"outlinewidth\": 0, \"ticks\": \"\"}, \"type\": \"choropleth\"}], \"contour\": [{\"colorbar\": {\"outlinewidth\": 0, \"ticks\": \"\"}, \"colorscale\": [[0.0, \"#0d0887\"], [0.1111111111111111, \"#46039f\"], [0.2222222222222222, \"#7201a8\"], [0.3333333333333333, \"#9c179e\"], [0.4444444444444444, \"#bd3786\"], [0.5555555555555556, \"#d8576b\"], [0.6666666666666666, \"#ed7953\"], [0.7777777777777778, \"#fb9f3a\"], [0.8888888888888888, \"#fdca26\"], [1.0, \"#f0f921\"]], \"type\": \"contour\"}], \"contourcarpet\": [{\"colorbar\": {\"outlinewidth\": 0, \"ticks\": \"\"}, \"type\": \"contourcarpet\"}], \"heatmap\": [{\"colorbar\": {\"outlinewidth\": 0, \"ticks\": \"\"}, \"colorscale\": [[0.0, \"#0d0887\"], [0.1111111111111111, \"#46039f\"], [0.2222222222222222, \"#7201a8\"], [0.3333333333333333, \"#9c179e\"], [0.4444444444444444, \"#bd3786\"], [0.5555555555555556, \"#d8576b\"], [0.6666666666666666, \"#ed7953\"], [0.7777777777777778, \"#fb9f3a\"], [0.8888888888888888, \"#fdca26\"], [1.0, \"#f0f921\"]], \"type\": \"heatmap\"}], \"heatmapgl\": [{\"colorbar\": {\"outlinewidth\": 0, \"ticks\": \"\"}, \"colorscale\": [[0.0, \"#0d0887\"], [0.1111111111111111, \"#46039f\"], [0.2222222222222222, \"#7201a8\"], [0.3333333333333333, \"#9c179e\"], [0.4444444444444444, \"#bd3786\"], [0.5555555555555556, \"#d8576b\"], [0.6666666666666666, \"#ed7953\"], [0.7777777777777778, \"#fb9f3a\"], [0.8888888888888888, \"#fdca26\"], [1.0, \"#f0f921\"]], \"type\": \"heatmapgl\"}], \"histogram\": [{\"marker\": {\"colorbar\": {\"outlinewidth\": 0, \"ticks\": \"\"}}, \"type\": \"histogram\"}], \"histogram2d\": [{\"colorbar\": {\"outlinewidth\": 0, \"ticks\": \"\"}, \"colorscale\": [[0.0, \"#0d0887\"], [0.1111111111111111, \"#46039f\"], [0.2222222222222222, \"#7201a8\"], [0.3333333333333333, \"#9c179e\"], [0.4444444444444444, \"#bd3786\"], [0.5555555555555556, \"#d8576b\"], [0.6666666666666666, \"#ed7953\"], [0.7777777777777778, \"#fb9f3a\"], [0.8888888888888888, \"#fdca26\"], [1.0, \"#f0f921\"]], \"type\": \"histogram2d\"}], \"histogram2dcontour\": [{\"colorbar\": {\"outlinewidth\": 0, \"ticks\": \"\"}, \"colorscale\": [[0.0, \"#0d0887\"], [0.1111111111111111, \"#46039f\"], [0.2222222222222222, \"#7201a8\"], [0.3333333333333333, \"#9c179e\"], [0.4444444444444444, \"#bd3786\"], [0.5555555555555556, \"#d8576b\"], [0.6666666666666666, \"#ed7953\"], [0.7777777777777778, \"#fb9f3a\"], [0.8888888888888888, \"#fdca26\"], [1.0, \"#f0f921\"]], \"type\": \"histogram2dcontour\"}], \"mesh3d\": [{\"colorbar\": {\"outlinewidth\": 0, \"ticks\": \"\"}, \"type\": \"mesh3d\"}], \"parcoords\": [{\"line\": {\"colorbar\": {\"outlinewidth\": 0, \"ticks\": \"\"}}, \"type\": \"parcoords\"}], \"pie\": [{\"automargin\": true, \"type\": \"pie\"}], \"scatter\": [{\"marker\": {\"colorbar\": {\"outlinewidth\": 0, \"ticks\": \"\"}}, \"type\": \"scatter\"}], \"scatter3d\": [{\"line\": {\"colorbar\": {\"outlinewidth\": 0, \"ticks\": \"\"}}, \"marker\": {\"colorbar\": {\"outlinewidth\": 0, \"ticks\": \"\"}}, \"type\": \"scatter3d\"}], \"scattercarpet\": [{\"marker\": {\"colorbar\": {\"outlinewidth\": 0, \"ticks\": \"\"}}, \"type\": \"scattercarpet\"}], \"scattergeo\": [{\"marker\": {\"colorbar\": {\"outlinewidth\": 0, \"ticks\": \"\"}}, \"type\": \"scattergeo\"}], \"scattergl\": [{\"marker\": {\"colorbar\": {\"outlinewidth\": 0, \"ticks\": \"\"}}, \"type\": \"scattergl\"}], \"scattermapbox\": [{\"marker\": {\"colorbar\": {\"outlinewidth\": 0, \"ticks\": \"\"}}, \"type\": \"scattermapbox\"}], \"scatterpolar\": [{\"marker\": {\"colorbar\": {\"outlinewidth\": 0, \"ticks\": \"\"}}, \"type\": \"scatterpolar\"}], \"scatterpolargl\": [{\"marker\": {\"colorbar\": {\"outlinewidth\": 0, \"ticks\": \"\"}}, \"type\": \"scatterpolargl\"}], \"scatterternary\": [{\"marker\": {\"colorbar\": {\"outlinewidth\": 0, \"ticks\": \"\"}}, \"type\": \"scatterternary\"}], \"surface\": [{\"colorbar\": {\"outlinewidth\": 0, \"ticks\": \"\"}, \"colorscale\": [[0.0, \"#0d0887\"], [0.1111111111111111, \"#46039f\"], [0.2222222222222222, \"#7201a8\"], [0.3333333333333333, \"#9c179e\"], [0.4444444444444444, \"#bd3786\"], [0.5555555555555556, \"#d8576b\"], [0.6666666666666666, \"#ed7953\"], [0.7777777777777778, \"#fb9f3a\"], [0.8888888888888888, \"#fdca26\"], [1.0, \"#f0f921\"]], \"type\": \"surface\"}], \"table\": [{\"cells\": {\"fill\": {\"color\": \"#EBF0F8\"}, \"line\": {\"color\": \"white\"}}, \"header\": {\"fill\": {\"color\": \"#C8D4E3\"}, \"line\": {\"color\": \"white\"}}, \"type\": \"table\"}]}, \"layout\": {\"annotationdefaults\": {\"arrowcolor\": \"#2a3f5f\", \"arrowhead\": 0, \"arrowwidth\": 1}, \"autotypenumbers\": \"strict\", \"coloraxis\": {\"colorbar\": {\"outlinewidth\": 0, \"ticks\": \"\"}}, \"colorscale\": {\"diverging\": [[0, \"#8e0152\"], [0.1, \"#c51b7d\"], [0.2, \"#de77ae\"], [0.3, \"#f1b6da\"], [0.4, \"#fde0ef\"], [0.5, \"#f7f7f7\"], [0.6, \"#e6f5d0\"], [0.7, \"#b8e186\"], [0.8, \"#7fbc41\"], [0.9, \"#4d9221\"], [1, \"#276419\"]], \"sequential\": [[0.0, \"#0d0887\"], [0.1111111111111111, \"#46039f\"], [0.2222222222222222, \"#7201a8\"], [0.3333333333333333, \"#9c179e\"], [0.4444444444444444, \"#bd3786\"], [0.5555555555555556, \"#d8576b\"], [0.6666666666666666, \"#ed7953\"], [0.7777777777777778, \"#fb9f3a\"], [0.8888888888888888, \"#fdca26\"], [1.0, \"#f0f921\"]], \"sequentialminus\": [[0.0, \"#0d0887\"], [0.1111111111111111, \"#46039f\"], [0.2222222222222222, \"#7201a8\"], [0.3333333333333333, \"#9c179e\"], [0.4444444444444444, \"#bd3786\"], [0.5555555555555556, \"#d8576b\"], [0.6666666666666666, \"#ed7953\"], [0.7777777777777778, \"#fb9f3a\"], [0.8888888888888888, \"#fdca26\"], [1.0, \"#f0f921\"]]}, \"colorway\": [\"#636efa\", \"#EF553B\", \"#00cc96\", \"#ab63fa\", \"#FFA15A\", \"#19d3f3\", \"#FF6692\", \"#B6E880\", \"#FF97FF\", \"#FECB52\"], \"font\": {\"color\": \"#2a3f5f\"}, \"geo\": {\"bgcolor\": \"white\", \"lakecolor\": \"white\", \"landcolor\": \"#E5ECF6\", \"showlakes\": true, \"showland\": true, \"subunitcolor\": \"white\"}, \"hoverlabel\": {\"align\": \"left\"}, \"hovermode\": \"closest\", \"mapbox\": {\"style\": \"light\"}, \"paper_bgcolor\": \"white\", \"plot_bgcolor\": \"#E5ECF6\", \"polar\": {\"angularaxis\": {\"gridcolor\": \"white\", \"linecolor\": \"white\", \"ticks\": \"\"}, \"bgcolor\": \"#E5ECF6\", \"radialaxis\": {\"gridcolor\": \"white\", \"linecolor\": \"white\", \"ticks\": \"\"}}, \"scene\": {\"xaxis\": {\"backgroundcolor\": \"#E5ECF6\", \"gridcolor\": \"white\", \"gridwidth\": 2, \"linecolor\": \"white\", \"showbackground\": true, \"ticks\": \"\", \"zerolinecolor\": \"white\"}, \"yaxis\": {\"backgroundcolor\": \"#E5ECF6\", \"gridcolor\": \"white\", \"gridwidth\": 2, \"linecolor\": \"white\", \"showbackground\": true, \"ticks\": \"\", \"zerolinecolor\": \"white\"}, \"zaxis\": {\"backgroundcolor\": \"#E5ECF6\", \"gridcolor\": \"white\", \"gridwidth\": 2, \"linecolor\": \"white\", \"showbackground\": true, \"ticks\": \"\", \"zerolinecolor\": \"white\"}}, \"shapedefaults\": {\"line\": {\"color\": \"#2a3f5f\"}}, \"ternary\": {\"aaxis\": {\"gridcolor\": \"white\", \"linecolor\": \"white\", \"ticks\": \"\"}, \"baxis\": {\"gridcolor\": \"white\", \"linecolor\": \"white\", \"ticks\": \"\"}, \"bgcolor\": \"#E5ECF6\", \"caxis\": {\"gridcolor\": \"white\", \"linecolor\": \"white\", \"ticks\": \"\"}}, \"title\": {\"x\": 0.05}, \"xaxis\": {\"automargin\": true, \"gridcolor\": \"white\", \"linecolor\": \"white\", \"ticks\": \"\", \"title\": {\"standoff\": 15}, \"zerolinecolor\": \"white\", \"zerolinewidth\": 2}, \"yaxis\": {\"automargin\": true, \"gridcolor\": \"white\", \"linecolor\": \"white\", \"ticks\": \"\", \"title\": {\"standoff\": 15}, \"zerolinecolor\": \"white\", \"zerolinewidth\": 2}}}, \"title\": {\"font\": {\"color\": \"#4D5663\"}}, \"xaxis\": {\"gridcolor\": \"#E1E5ED\", \"rangeslider\": {\"visible\": true}, \"showgrid\": true, \"tickfont\": {\"color\": \"#4D5663\"}, \"title\": {\"font\": {\"color\": \"#4D5663\"}, \"text\": \"\"}, \"zerolinecolor\": \"#E1E5ED\"}, \"yaxis\": {\"gridcolor\": \"#E1E5ED\", \"showgrid\": true, \"showticklabels\": false, \"tickfont\": {\"color\": \"#4D5663\"}, \"title\": {\"font\": {\"color\": \"#4D5663\"}, \"text\": \"\"}, \"zerolinecolor\": \"#E1E5ED\"}, \"yaxis2\": {\"gridcolor\": \"#E1E5ED\", \"showgrid\": true, \"tickfont\": {\"color\": \"#4D5663\"}, \"title\": {\"font\": {\"color\": \"#4D5663\"}, \"text\": \"\"}, \"zerolinecolor\": \"#E1E5ED\"}},                        {\"showLink\": true, \"linkText\": \"Export to plot.ly\", \"plotlyServerURL\": \"https://plot.ly\", \"responsive\": true}                    ).then(function(){\n",
       "                            \n",
       "var gd = document.getElementById('e019e5a3-d406-4d48-b0d1-6c8597b120f7');\n",
       "var x = new MutationObserver(function (mutations, observer) {{\n",
       "        var display = window.getComputedStyle(gd).display;\n",
       "        if (!display || display === 'none') {{\n",
       "            console.log([gd, 'removed!']);\n",
       "            Plotly.purge(gd);\n",
       "            observer.disconnect();\n",
       "        }}\n",
       "}});\n",
       "\n",
       "// Listen for the removal of the full notebook cells\n",
       "var notebookContainer = gd.closest('#notebook-container');\n",
       "if (notebookContainer) {{\n",
       "    x.observe(notebookContainer, {childList: true});\n",
       "}}\n",
       "\n",
       "// Listen for the clearing of the current output cell\n",
       "var outputEl = gd.closest('.output');\n",
       "if (outputEl) {{\n",
       "    x.observe(outputEl, {childList: true});\n",
       "}}\n",
       "\n",
       "                        })                };                });            </script>        </div>"
      ]
     },
     "metadata": {},
     "output_type": "display_data"
    }
   ],
   "source": [
    "output.iplot(kind=\"candle\",\n",
    "                          keys=[\"open\", \"high\", \"low\", \"close\"],\n",
    "                          rangeslider=True\n",
    "                          )"
   ]
  },
  {
   "cell_type": "code",
   "execution_count": 116,
   "metadata": {},
   "outputs": [
    {
     "data": {
      "application/vnd.plotly.v1+json": {
       "config": {
        "linkText": "Export to plot.ly",
        "plotlyServerURL": "https://plot.ly",
        "showLink": true
       },
       "data": [
        {
         "legendgroup": "BOLL(close,20)",
         "line": {
          "color": "rgba(55, 128, 191, 1.0)",
          "dash": "solid",
          "shape": "linear",
          "width": 1.3
         },
         "mode": "lines",
         "name": "BOLL(close,20)",
         "showlegend": true,
         "text": "",
         "type": "scatter",
         "x": [
          "2017-08-17 04:00:00.000",
          "2017-09-06 04:00:00.000",
          "2017-09-26 11:01:00.000",
          "2017-10-16 11:01:00.000",
          "2017-11-05 11:01:00.000",
          "2017-11-25 11:01:00.000",
          "2017-12-15 11:01:20.799",
          "2018-01-04 14:26:00.000",
          "2018-01-24 14:26:00.000",
          "2018-02-15 00:48:00.000",
          "2018-03-07 00:48:00.000",
          "2018-03-27 00:48:00.000",
          "2018-04-16 00:48:00.000",
          "2018-05-06 00:48:00.000",
          "2018-05-26 00:48:00.000",
          "2018-06-15 00:48:00.000",
          "2018-07-05 20:11:00.000",
          "2018-07-25 20:11:00.000",
          "2018-08-14 20:11:00.000",
          "2018-09-03 20:11:00.000",
          "2018-09-23 20:11:00.000",
          "2018-10-13 20:11:00.000",
          "2018-11-02 23:41:00.000",
          "2018-11-23 06:41:00.000",
          "2018-12-13 06:41:00.000",
          "2019-01-02 06:41:00.000",
          "2019-01-22 06:41:00.000",
          "2019-02-11 06:41:00.000",
          "2019-03-03 06:41:00.000",
          "2019-03-23 12:41:00.000",
          "2019-04-12 12:41:00.000",
          "2019-05-02 12:41:00.000",
          "2019-05-22 22:41:00.000",
          "2019-06-11 23:43:00.000",
          "2019-07-01 23:43:00.000",
          "2019-07-21 23:43:00.000",
          "2019-08-10 23:43:00.000",
          "2019-08-31 07:43:00.000",
          "2019-09-20 07:43:00.000",
          "2019-10-10 07:43:00.000",
          "2019-10-30 07:43:00.000",
          "2019-11-19 10:06:00.000",
          "2019-12-09 12:06:00.000",
          "2019-12-29 12:06:00.000",
          "2020-01-18 12:06:00.000",
          "2020-02-07 12:06:00.000",
          "2020-02-27 19:01:00.000",
          "2020-03-18 21:10:00.000",
          "2020-04-07 21:10:00.000",
          "2020-04-27 23:40:00.000",
          "2020-05-17 23:40:00.000",
          "2020-06-06 23:40:00.000",
          "2020-06-26 23:40:00.000",
          "2020-07-17 03:10:00.000",
          "2020-08-06 03:10:00.000",
          "2020-08-26 03:10:00.000",
          "2020-09-15 03:10:00.000",
          "2020-10-05 03:10:00.000",
          "2020-10-25 03:10:00.000",
          "2020-11-14 03:10:00.000",
          "2020-12-04 04:10:00.000",
          "2020-12-24 08:01:00.000",
          "2021-01-13 09:01:00.000",
          "2021-02-02 09:01:00.000"
         ],
         "y": [
          "",
          "",
          "",
          "",
          "",
          "",
          "",
          "",
          "",
          "",
          "",
          "",
          "",
          "",
          "",
          "",
          "",
          "",
          "",
          8450.53798828125,
          8545.187475585937,
          8670.2884765625,
          8601.748974609374,
          8399.987976074219,
          8168.477465820312,
          7454.094494628906,
          6911.9635009765625,
          6532.217504882812,
          6266.3544921875,
          5975.1,
          5837.956005859375,
          5803.760009765625,
          5701.176513671875,
          5860.347998046875,
          6061.710986328125,
          6303.997998046875,
          6376.97900390625,
          6581.61201171875,
          6647.840502929687,
          6773.625512695313,
          6865.102026367187,
          6916.800024414062,
          7066.59853515625,
          7341.889050292969,
          7644.2765625,
          7912.674035644532,
          7998.313037109375,
          8162.393530273437,
          8350.822534179688,
          8582.146020507813,
          8793.245532226563,
          8867.117016601562,
          8928.600512695313,
          8980.140014648438,
          9016.666528320313,
          8987.821020507812,
          9042.983520507812,
          9191.700024414062,
          9568.766040039063,
          10069.505541992188,
          10821.638500976562,
          12178.881494140625,
          13553.484521484375,
          15502.08701171875
         ],
         "yaxis": "y2"
        },
        {
         "legendgroup": "BOLL(close,20)",
         "line": {
          "color": "rgba(55, 128, 191, 0.8999999999999999)",
          "dash": "solid",
          "shape": "linear",
          "width": 1.3
         },
         "mode": "lines",
         "name": "UPPER(close,20)",
         "showlegend": false,
         "text": "",
         "type": "scatter",
         "x": [
          "2017-08-17 04:00:00.000",
          "2017-09-06 04:00:00.000",
          "2017-09-26 11:01:00.000",
          "2017-10-16 11:01:00.000",
          "2017-11-05 11:01:00.000",
          "2017-11-25 11:01:00.000",
          "2017-12-15 11:01:20.799",
          "2018-01-04 14:26:00.000",
          "2018-01-24 14:26:00.000",
          "2018-02-15 00:48:00.000",
          "2018-03-07 00:48:00.000",
          "2018-03-27 00:48:00.000",
          "2018-04-16 00:48:00.000",
          "2018-05-06 00:48:00.000",
          "2018-05-26 00:48:00.000",
          "2018-06-15 00:48:00.000",
          "2018-07-05 20:11:00.000",
          "2018-07-25 20:11:00.000",
          "2018-08-14 20:11:00.000",
          "2018-09-03 20:11:00.000",
          "2018-09-23 20:11:00.000",
          "2018-10-13 20:11:00.000",
          "2018-11-02 23:41:00.000",
          "2018-11-23 06:41:00.000",
          "2018-12-13 06:41:00.000",
          "2019-01-02 06:41:00.000",
          "2019-01-22 06:41:00.000",
          "2019-02-11 06:41:00.000",
          "2019-03-03 06:41:00.000",
          "2019-03-23 12:41:00.000",
          "2019-04-12 12:41:00.000",
          "2019-05-02 12:41:00.000",
          "2019-05-22 22:41:00.000",
          "2019-06-11 23:43:00.000",
          "2019-07-01 23:43:00.000",
          "2019-07-21 23:43:00.000",
          "2019-08-10 23:43:00.000",
          "2019-08-31 07:43:00.000",
          "2019-09-20 07:43:00.000",
          "2019-10-10 07:43:00.000",
          "2019-10-30 07:43:00.000",
          "2019-11-19 10:06:00.000",
          "2019-12-09 12:06:00.000",
          "2019-12-29 12:06:00.000",
          "2020-01-18 12:06:00.000",
          "2020-02-07 12:06:00.000",
          "2020-02-27 19:01:00.000",
          "2020-03-18 21:10:00.000",
          "2020-04-07 21:10:00.000",
          "2020-04-27 23:40:00.000",
          "2020-05-17 23:40:00.000",
          "2020-06-06 23:40:00.000",
          "2020-06-26 23:40:00.000",
          "2020-07-17 03:10:00.000",
          "2020-08-06 03:10:00.000",
          "2020-08-26 03:10:00.000",
          "2020-09-15 03:10:00.000",
          "2020-10-05 03:10:00.000",
          "2020-10-25 03:10:00.000",
          "2020-11-14 03:10:00.000",
          "2020-12-04 04:10:00.000",
          "2020-12-24 08:01:00.000",
          "2021-01-13 09:01:00.000",
          "2021-02-02 09:01:00.000"
         ],
         "y": [
          "",
          "",
          "",
          "",
          "",
          "",
          "",
          "",
          "",
          "",
          "",
          "",
          "",
          "",
          "",
          "",
          "",
          "",
          "",
          15021.94428461165,
          14924.491174128063,
          14760.682013333044,
          14861.150673176006,
          15067.28555211537,
          15151.13630220349,
          13075.828019258457,
          11715.66126687836,
          11027.280723275842,
          10697.260955614705,
          9862.686643014116,
          9588.548640820647,
          9468.09072358692,
          8971.130264721007,
          9738.704441989199,
          10482.692246844692,
          11317.025075403064,
          11542.432517120305,
          12013.261893363713,
          12148.54518653551,
          12392.086101370403,
          12512.173251520795,
          12566.378114386189,
          12585.226279687467,
          12630.68675961484,
          12759.769359894217,
          12667.35814019436,
          12482.179837067011,
          12222.987798935676,
          11917.116474657512,
          11833.470311757383,
          11717.698998615486,
          11749.643018969524,
          11775.822356676921,
          11988.795974530874,
          12125.74569953714,
          12015.657506060712,
          12156.367592307291,
          12778.434556082393,
          14307.690501512958,
          16471.179772912008,
          19429.551684740174,
          25713.71233639614,
          30233.69468947844,
          37983.15783111102
         ],
         "yaxis": "y2"
        },
        {
         "fill": "tonexty",
         "fillcolor": "rgba(55, 128, 191, 0.1)",
         "legendgroup": "BOLL(close,20)",
         "line": {
          "color": "rgba(55, 128, 191, 0.7999999999999998)",
          "dash": "solid",
          "shape": "linear",
          "width": 1.3
         },
         "mode": "lines",
         "name": "LOWER(close,20)",
         "showlegend": false,
         "text": "",
         "type": "scatter",
         "x": [
          "2017-08-17 04:00:00.000",
          "2017-09-06 04:00:00.000",
          "2017-09-26 11:01:00.000",
          "2017-10-16 11:01:00.000",
          "2017-11-05 11:01:00.000",
          "2017-11-25 11:01:00.000",
          "2017-12-15 11:01:20.799",
          "2018-01-04 14:26:00.000",
          "2018-01-24 14:26:00.000",
          "2018-02-15 00:48:00.000",
          "2018-03-07 00:48:00.000",
          "2018-03-27 00:48:00.000",
          "2018-04-16 00:48:00.000",
          "2018-05-06 00:48:00.000",
          "2018-05-26 00:48:00.000",
          "2018-06-15 00:48:00.000",
          "2018-07-05 20:11:00.000",
          "2018-07-25 20:11:00.000",
          "2018-08-14 20:11:00.000",
          "2018-09-03 20:11:00.000",
          "2018-09-23 20:11:00.000",
          "2018-10-13 20:11:00.000",
          "2018-11-02 23:41:00.000",
          "2018-11-23 06:41:00.000",
          "2018-12-13 06:41:00.000",
          "2019-01-02 06:41:00.000",
          "2019-01-22 06:41:00.000",
          "2019-02-11 06:41:00.000",
          "2019-03-03 06:41:00.000",
          "2019-03-23 12:41:00.000",
          "2019-04-12 12:41:00.000",
          "2019-05-02 12:41:00.000",
          "2019-05-22 22:41:00.000",
          "2019-06-11 23:43:00.000",
          "2019-07-01 23:43:00.000",
          "2019-07-21 23:43:00.000",
          "2019-08-10 23:43:00.000",
          "2019-08-31 07:43:00.000",
          "2019-09-20 07:43:00.000",
          "2019-10-10 07:43:00.000",
          "2019-10-30 07:43:00.000",
          "2019-11-19 10:06:00.000",
          "2019-12-09 12:06:00.000",
          "2019-12-29 12:06:00.000",
          "2020-01-18 12:06:00.000",
          "2020-02-07 12:06:00.000",
          "2020-02-27 19:01:00.000",
          "2020-03-18 21:10:00.000",
          "2020-04-07 21:10:00.000",
          "2020-04-27 23:40:00.000",
          "2020-05-17 23:40:00.000",
          "2020-06-06 23:40:00.000",
          "2020-06-26 23:40:00.000",
          "2020-07-17 03:10:00.000",
          "2020-08-06 03:10:00.000",
          "2020-08-26 03:10:00.000",
          "2020-09-15 03:10:00.000",
          "2020-10-05 03:10:00.000",
          "2020-10-25 03:10:00.000",
          "2020-11-14 03:10:00.000",
          "2020-12-04 04:10:00.000",
          "2020-12-24 08:01:00.000",
          "2021-01-13 09:01:00.000",
          "2021-02-02 09:01:00.000"
         ],
         "y": [
          "",
          "",
          "",
          "",
          "",
          "",
          "",
          "",
          "",
          "",
          "",
          "",
          "",
          "",
          "",
          "",
          "",
          "",
          "",
          1879.131691950849,
          2165.8837770438113,
          2579.894939791956,
          2342.347276042744,
          1732.690400033067,
          1185.8186294371362,
          1832.3609699993558,
          2108.265735074764,
          2037.154286489782,
          1835.4480287602946,
          2087.5133569858854,
          2087.3633708981038,
          2139.429295944329,
          2431.2227626227436,
          1981.9915541045498,
          1640.7297258115577,
          1290.9709206906864,
          1211.5254906921937,
          1149.9621300737863,
          1147.1358193238657,
          1155.1649240202223,
          1218.0308012135783,
          1267.2219344419364,
          1547.9707906250333,
          2053.0913409710984,
          2528.7837651057835,
          3157.989931094703,
          3514.4462371517375,
          4101.799261611199,
          4784.5285937018625,
          5330.821729258243,
          5868.792065837641,
          5984.5910142336,
          6081.378668713705,
          5971.484054766001,
          5907.587357103486,
          5959.984534954912,
          5929.5994487083335,
          5604.9654927457295,
          4829.841578565169,
          3667.8313110723693,
          2213.7253172129494,
          -1355.9493481148893,
          -3126.7256465096925,
          -6978.98380767352
         ],
         "yaxis": "y2"
        },
        {
         "marker": {
          "color": [
           "#808080",
           "#808080",
           "#17BECF",
           "#17BECF",
           "#17BECF",
           "#17BECF",
           "#808080",
           "#808080",
           "#808080",
           "#17BECF",
           "#808080",
           "#17BECF",
           "#17BECF",
           "#808080",
           "#808080",
           "#808080",
           "#17BECF",
           "#808080",
           "#17BECF",
           "#808080",
           "#808080",
           "#17BECF",
           "#808080",
           "#808080",
           "#17BECF",
           "#808080",
           "#17BECF",
           "#17BECF",
           "#17BECF",
           "#17BECF",
           "#17BECF",
           "#17BECF",
           "#17BECF",
           "#17BECF",
           "#17BECF",
           "#17BECF",
           "#808080",
           "#17BECF",
           "#808080",
           "#17BECF",
           "#808080",
           "#808080",
           "#808080",
           "#17BECF",
           "#17BECF",
           "#808080",
           "#808080",
           "#17BECF",
           "#17BECF",
           "#17BECF",
           "#808080",
           "#808080",
           "#808080",
           "#17BECF",
           "#808080",
           "#808080",
           "#808080",
           "#17BECF",
           "#17BECF",
           "#17BECF",
           "#17BECF",
           "#17BECF",
           "#17BECF",
           "#17BECF"
          ],
          "line": {
           "color": [
            "#808080",
            "#808080",
            "#17BECF",
            "#17BECF",
            "#17BECF",
            "#17BECF",
            "#808080",
            "#808080",
            "#808080",
            "#17BECF",
            "#808080",
            "#17BECF",
            "#17BECF",
            "#808080",
            "#808080",
            "#808080",
            "#17BECF",
            "#808080",
            "#17BECF",
            "#808080",
            "#808080",
            "#17BECF",
            "#808080",
            "#808080",
            "#17BECF",
            "#808080",
            "#17BECF",
            "#17BECF",
            "#17BECF",
            "#17BECF",
            "#17BECF",
            "#17BECF",
            "#17BECF",
            "#17BECF",
            "#17BECF",
            "#17BECF",
            "#808080",
            "#17BECF",
            "#808080",
            "#17BECF",
            "#808080",
            "#808080",
            "#808080",
            "#17BECF",
            "#17BECF",
            "#808080",
            "#808080",
            "#17BECF",
            "#17BECF",
            "#17BECF",
            "#808080",
            "#808080",
            "#808080",
            "#17BECF",
            "#808080",
            "#808080",
            "#808080",
            "#17BECF",
            "#17BECF",
            "#17BECF",
            "#17BECF",
            "#17BECF",
            "#17BECF",
            "#17BECF"
           ],
           "width": 1
          }
         },
         "name": "volume",
         "opacity": 0.8,
         "orientation": "v",
         "text": "",
         "type": "bar",
         "x": [
          "2017-08-17 04:00:00.000",
          "2017-09-06 04:00:00.000",
          "2017-09-26 11:01:00.000",
          "2017-10-16 11:01:00.000",
          "2017-11-05 11:01:00.000",
          "2017-11-25 11:01:00.000",
          "2017-12-15 11:01:20.799",
          "2018-01-04 14:26:00.000",
          "2018-01-24 14:26:00.000",
          "2018-02-15 00:48:00.000",
          "2018-03-07 00:48:00.000",
          "2018-03-27 00:48:00.000",
          "2018-04-16 00:48:00.000",
          "2018-05-06 00:48:00.000",
          "2018-05-26 00:48:00.000",
          "2018-06-15 00:48:00.000",
          "2018-07-05 20:11:00.000",
          "2018-07-25 20:11:00.000",
          "2018-08-14 20:11:00.000",
          "2018-09-03 20:11:00.000",
          "2018-09-23 20:11:00.000",
          "2018-10-13 20:11:00.000",
          "2018-11-02 23:41:00.000",
          "2018-11-23 06:41:00.000",
          "2018-12-13 06:41:00.000",
          "2019-01-02 06:41:00.000",
          "2019-01-22 06:41:00.000",
          "2019-02-11 06:41:00.000",
          "2019-03-03 06:41:00.000",
          "2019-03-23 12:41:00.000",
          "2019-04-12 12:41:00.000",
          "2019-05-02 12:41:00.000",
          "2019-05-22 22:41:00.000",
          "2019-06-11 23:43:00.000",
          "2019-07-01 23:43:00.000",
          "2019-07-21 23:43:00.000",
          "2019-08-10 23:43:00.000",
          "2019-08-31 07:43:00.000",
          "2019-09-20 07:43:00.000",
          "2019-10-10 07:43:00.000",
          "2019-10-30 07:43:00.000",
          "2019-11-19 10:06:00.000",
          "2019-12-09 12:06:00.000",
          "2019-12-29 12:06:00.000",
          "2020-01-18 12:06:00.000",
          "2020-02-07 12:06:00.000",
          "2020-02-27 19:01:00.000",
          "2020-03-18 21:10:00.000",
          "2020-04-07 21:10:00.000",
          "2020-04-27 23:40:00.000",
          "2020-05-17 23:40:00.000",
          "2020-06-06 23:40:00.000",
          "2020-06-26 23:40:00.000",
          "2020-07-17 03:10:00.000",
          "2020-08-06 03:10:00.000",
          "2020-08-26 03:10:00.000",
          "2020-09-15 03:10:00.000",
          "2020-10-05 03:10:00.000",
          "2020-10-25 03:10:00.000",
          "2020-11-14 03:10:00.000",
          "2020-12-04 04:10:00.000",
          "2020-12-24 08:01:00.000",
          "2021-01-13 09:01:00.000",
          "2021-02-02 09:01:00.000"
         ],
         "y": [
          15007.6748046875,
          18632.93359375,
          17884.791015625,
          35634.75390625,
          61777.73828125,
          177701.796875,
          326496.40625,
          602568,
          761788.5625,
          772479.9375,
          882478.375,
          757155.625,
          733521.75,
          587082.125,
          623986.8125,
          642114.6875,
          711824.0625,
          861948.5625,
          887738.75,
          746953.0625,
          537980.5,
          356781.21875,
          602614.3125,
          1198788,
          1011354.1875,
          626371.75,
          520559.8125,
          639441.875,
          538523,
          823719,
          531991.1875,
          1062112,
          829823.1875,
          1360003.75,
          1424673.5,
          873717.5,
          686339.1875,
          648988.8125,
          818561.75,
          1015799.1875,
          786695.375,
          1214383.125,
          820235.875,
          1140336.625,
          961755.75,
          1156509.75,
          2271609.75,
          2325807.75,
          1404521.625,
          2178823.25,
          1312694.875,
          984456.1875,
          783270.0625,
          1256810.625,
          1221338.5,
          1256741.625,
          922435.1875,
          947984.1875,
          1618677.5,
          1852182.875,
          1526994.125,
          2278804.5,
          1952338.25,
          915206.9375
         ],
         "yaxis": "y3"
        },
        {
         "close": [
          4430.02001953125,
          3937,
          5705.14990234375,
          7415.10986328125,
          8391.3203125,
          17806.51953125,
          14472.419921875,
          11417,
          9313.7001953125,
          10876,
          8184.009765625,
          8384,
          9944,
          7433.66015625,
          6603.2099609375,
          6497.490234375,
          8135.1298828125,
          6069.9599609375,
          7306.06005859375,
          6689,
          6323.009765625,
          6439.02001953125,
          4334.35986328125,
          3379.889892578125,
          3761.110107421875,
          3518.860107421875,
          3629.800048828125,
          3822.080078125,
          3996.43994140625,
          5050.91015625,
          5441.1298828125,
          7700.080078125,
          7892.330078125,
          10617.08984375,
          10630.4697265625,
          11343.23046875,
          9594.75,
          10162.6201171875,
          8630.6298828125,
          9204.7001953125,
          8152.5400390625,
          7472.97998046875,
          7330.330078125,
          8885.7001953125,
          9808.8603515625,
          8886.8095703125,
          5342.580078125,
          7103.68994140625,
          7765.02001953125,
          9677.3798828125,
          9663.1201171875,
          9177.509765625,
          9122,
          11647.8798828125,
          11361,
          10766.3203125,
          10698,
          13136.9501953125,
          16171.9501953125,
          19219.490234375,
          23195.19921875,
          34617.83984375,
          34822.390625,
          47857.75
         ],
         "decreasing": {
          "line": {
           "color": "#808080"
          }
         },
         "high": [
          4939.18994140625,
          4788.58984375,
          5922.2998046875,
          7480.990234375,
          8448.990234375,
          17982.220703125,
          19798.6796875,
          17176.240234375,
          12244,
          11786.009765625,
          10899,
          8429.5400390625,
          10020,
          9970,
          7786.68994140625,
          6841.740234375,
          8491.76953125,
          8337.599609375,
          7345.4501953125,
          7410,
          6814.7998046875,
          7680,
          6615.14990234375,
          4527,
          4198,
          4069.800048828125,
          3733.580078125,
          4198,
          4069.320068359375,
          5422,
          5600,
          8366,
          9074.259765625,
          13970,
          13147.080078125,
          12330.7001953125,
          11600,
          10905.8701171875,
          10231,
          10370,
          9513.6796875,
          8264.2900390625,
          7695.3798828125,
          9041.650390625,
          9885,
          10500,
          9188,
          7459.68994140625,
          7792.02001953125,
          10067,
          10380,
          9992.7197265625,
          9470,
          12123.4599609375,
          12468,
          12050.849609375,
          11179.7900390625,
          13217.6796875,
          16480,
          19888,
          24295,
          41950,
          40100,
          48678.8984375
         ],
         "increasing": {
          "line": {
           "color": "#17BECF"
          }
         },
         "low": [
          3400,
          2817,
          3872.81005859375,
          5037.9501953125,
          5325.009765625,
          8288,
          10961,
          9035,
          6000.009765625,
          9274.7998046875,
          7322,
          6430,
          7825.39990234375,
          7266.990234375,
          6118.68017578125,
          5750,
          6070,
          5880,
          6046.580078125,
          6111,
          6205,
          6245.02001953125,
          4222.93994140625,
          3222,
          3156.260009765625,
          3441.300048828125,
          3349.919921875,
          3568.110107421875,
          3670.68994140625,
          3888.7099609375,
          4950,
          5418.10009765625,
          7444.580078125,
          7788.990234375,
          9060,
          9165,
          9320,
          9420.75,
          7710,
          7300,
          8060,
          6515,
          6435,
          6871.0400390625,
          8238,
          8531,
          3782.1298828125,
          5252.52978515625,
          6468.27001953125,
          7659.1201171875,
          8642.7197265625,
          8910.4501953125,
          8833,
          9089.8095703125,
          11117.6396484375,
          9825,
          10136.8203125,
          10525,
          12765,
          15670,
          17572.330078125,
          23012.2890625,
          28850,
          34333
         ],
         "name": "plot",
         "open": [
          4261.47998046875,
          4430.02001953125,
          3931,
          5705.14013671875,
          7416.02978515625,
          8391.330078125,
          17788.609375,
          14448.0703125,
          11416,
          9319.919921875,
          10875.7099609375,
          8186,
          8383.91015625,
          9944,
          7434.0400390625,
          6604.60009765625,
          6497.97021484375,
          8135.1298828125,
          6069.9599609375,
          7306.97021484375,
          6688.990234375,
          6326.259765625,
          6439.02001953125,
          4335.6201171875,
          3379.6298828125,
          3761,
          3518.860107421875,
          3629.81005859375,
          3822.3798828125,
          3996.43994140625,
          5051.97998046875,
          5441.1201171875,
          7701.81982421875,
          7890.39990234375,
          10617.08984375,
          10630.490234375,
          11344.080078125,
          9594.7900390625,
          10163.58984375,
          8630.6298828125,
          9205.490234375,
          8153.1201171875,
          7472.990234375,
          7330,
          8885.7001953125,
          9807.76953125,
          8887.51953125,
          5342.60009765625,
          7103.68017578125,
          7765.009765625,
          9677.33984375,
          9662.900390625,
          9177.509765625,
          9122.009765625,
          11647.8798828125,
          11361,
          10766.3203125,
          10698,
          13136.9404296875,
          16172.3701171875,
          19219.490234375,
          23195.189453125,
          34617.83984375,
          34822.390625
         ],
         "showlegend": true,
         "type": "candlestick",
         "x": [
          "2017-08-17 04:00:00.000",
          "2017-09-06 04:00:00.000",
          "2017-09-26 11:01:00.000",
          "2017-10-16 11:01:00.000",
          "2017-11-05 11:01:00.000",
          "2017-11-25 11:01:00.000",
          "2017-12-15 11:01:20.799",
          "2018-01-04 14:26:00.000",
          "2018-01-24 14:26:00.000",
          "2018-02-15 00:48:00.000",
          "2018-03-07 00:48:00.000",
          "2018-03-27 00:48:00.000",
          "2018-04-16 00:48:00.000",
          "2018-05-06 00:48:00.000",
          "2018-05-26 00:48:00.000",
          "2018-06-15 00:48:00.000",
          "2018-07-05 20:11:00.000",
          "2018-07-25 20:11:00.000",
          "2018-08-14 20:11:00.000",
          "2018-09-03 20:11:00.000",
          "2018-09-23 20:11:00.000",
          "2018-10-13 20:11:00.000",
          "2018-11-02 23:41:00.000",
          "2018-11-23 06:41:00.000",
          "2018-12-13 06:41:00.000",
          "2019-01-02 06:41:00.000",
          "2019-01-22 06:41:00.000",
          "2019-02-11 06:41:00.000",
          "2019-03-03 06:41:00.000",
          "2019-03-23 12:41:00.000",
          "2019-04-12 12:41:00.000",
          "2019-05-02 12:41:00.000",
          "2019-05-22 22:41:00.000",
          "2019-06-11 23:43:00.000",
          "2019-07-01 23:43:00.000",
          "2019-07-21 23:43:00.000",
          "2019-08-10 23:43:00.000",
          "2019-08-31 07:43:00.000",
          "2019-09-20 07:43:00.000",
          "2019-10-10 07:43:00.000",
          "2019-10-30 07:43:00.000",
          "2019-11-19 10:06:00.000",
          "2019-12-09 12:06:00.000",
          "2019-12-29 12:06:00.000",
          "2020-01-18 12:06:00.000",
          "2020-02-07 12:06:00.000",
          "2020-02-27 19:01:00.000",
          "2020-03-18 21:10:00.000",
          "2020-04-07 21:10:00.000",
          "2020-04-27 23:40:00.000",
          "2020-05-17 23:40:00.000",
          "2020-06-06 23:40:00.000",
          "2020-06-26 23:40:00.000",
          "2020-07-17 03:10:00.000",
          "2020-08-06 03:10:00.000",
          "2020-08-26 03:10:00.000",
          "2020-09-15 03:10:00.000",
          "2020-10-05 03:10:00.000",
          "2020-10-25 03:10:00.000",
          "2020-11-14 03:10:00.000",
          "2020-12-04 04:10:00.000",
          "2020-12-24 08:01:00.000",
          "2021-01-13 09:01:00.000",
          "2021-02-02 09:01:00.000"
         ],
         "yaxis": "y2"
        }
       ],
       "layout": {
        "legend": {
         "bgcolor": "#F5F6F9",
         "font": {
          "color": "#4D5663"
         },
         "orientation": "h",
         "x": 0.3,
         "y": 0.95,
         "yanchor": "bottom"
        },
        "margin": {
         "b": 30,
         "l": 30,
         "r": 30,
         "t": 30
        },
        "paper_bgcolor": "#F5F6F9",
        "plot_bgcolor": "#F5F6F9",
        "showlegend": true,
        "template": {
         "data": {
          "bar": [
           {
            "error_x": {
             "color": "#2a3f5f"
            },
            "error_y": {
             "color": "#2a3f5f"
            },
            "marker": {
             "line": {
              "color": "#E5ECF6",
              "width": 0.5
             }
            },
            "type": "bar"
           }
          ],
          "barpolar": [
           {
            "marker": {
             "line": {
              "color": "#E5ECF6",
              "width": 0.5
             }
            },
            "type": "barpolar"
           }
          ],
          "carpet": [
           {
            "aaxis": {
             "endlinecolor": "#2a3f5f",
             "gridcolor": "white",
             "linecolor": "white",
             "minorgridcolor": "white",
             "startlinecolor": "#2a3f5f"
            },
            "baxis": {
             "endlinecolor": "#2a3f5f",
             "gridcolor": "white",
             "linecolor": "white",
             "minorgridcolor": "white",
             "startlinecolor": "#2a3f5f"
            },
            "type": "carpet"
           }
          ],
          "choropleth": [
           {
            "colorbar": {
             "outlinewidth": 0,
             "ticks": ""
            },
            "type": "choropleth"
           }
          ],
          "contour": [
           {
            "colorbar": {
             "outlinewidth": 0,
             "ticks": ""
            },
            "colorscale": [
             [
              0,
              "#0d0887"
             ],
             [
              0.1111111111111111,
              "#46039f"
             ],
             [
              0.2222222222222222,
              "#7201a8"
             ],
             [
              0.3333333333333333,
              "#9c179e"
             ],
             [
              0.4444444444444444,
              "#bd3786"
             ],
             [
              0.5555555555555556,
              "#d8576b"
             ],
             [
              0.6666666666666666,
              "#ed7953"
             ],
             [
              0.7777777777777778,
              "#fb9f3a"
             ],
             [
              0.8888888888888888,
              "#fdca26"
             ],
             [
              1,
              "#f0f921"
             ]
            ],
            "type": "contour"
           }
          ],
          "contourcarpet": [
           {
            "colorbar": {
             "outlinewidth": 0,
             "ticks": ""
            },
            "type": "contourcarpet"
           }
          ],
          "heatmap": [
           {
            "colorbar": {
             "outlinewidth": 0,
             "ticks": ""
            },
            "colorscale": [
             [
              0,
              "#0d0887"
             ],
             [
              0.1111111111111111,
              "#46039f"
             ],
             [
              0.2222222222222222,
              "#7201a8"
             ],
             [
              0.3333333333333333,
              "#9c179e"
             ],
             [
              0.4444444444444444,
              "#bd3786"
             ],
             [
              0.5555555555555556,
              "#d8576b"
             ],
             [
              0.6666666666666666,
              "#ed7953"
             ],
             [
              0.7777777777777778,
              "#fb9f3a"
             ],
             [
              0.8888888888888888,
              "#fdca26"
             ],
             [
              1,
              "#f0f921"
             ]
            ],
            "type": "heatmap"
           }
          ],
          "heatmapgl": [
           {
            "colorbar": {
             "outlinewidth": 0,
             "ticks": ""
            },
            "colorscale": [
             [
              0,
              "#0d0887"
             ],
             [
              0.1111111111111111,
              "#46039f"
             ],
             [
              0.2222222222222222,
              "#7201a8"
             ],
             [
              0.3333333333333333,
              "#9c179e"
             ],
             [
              0.4444444444444444,
              "#bd3786"
             ],
             [
              0.5555555555555556,
              "#d8576b"
             ],
             [
              0.6666666666666666,
              "#ed7953"
             ],
             [
              0.7777777777777778,
              "#fb9f3a"
             ],
             [
              0.8888888888888888,
              "#fdca26"
             ],
             [
              1,
              "#f0f921"
             ]
            ],
            "type": "heatmapgl"
           }
          ],
          "histogram": [
           {
            "marker": {
             "colorbar": {
              "outlinewidth": 0,
              "ticks": ""
             }
            },
            "type": "histogram"
           }
          ],
          "histogram2d": [
           {
            "colorbar": {
             "outlinewidth": 0,
             "ticks": ""
            },
            "colorscale": [
             [
              0,
              "#0d0887"
             ],
             [
              0.1111111111111111,
              "#46039f"
             ],
             [
              0.2222222222222222,
              "#7201a8"
             ],
             [
              0.3333333333333333,
              "#9c179e"
             ],
             [
              0.4444444444444444,
              "#bd3786"
             ],
             [
              0.5555555555555556,
              "#d8576b"
             ],
             [
              0.6666666666666666,
              "#ed7953"
             ],
             [
              0.7777777777777778,
              "#fb9f3a"
             ],
             [
              0.8888888888888888,
              "#fdca26"
             ],
             [
              1,
              "#f0f921"
             ]
            ],
            "type": "histogram2d"
           }
          ],
          "histogram2dcontour": [
           {
            "colorbar": {
             "outlinewidth": 0,
             "ticks": ""
            },
            "colorscale": [
             [
              0,
              "#0d0887"
             ],
             [
              0.1111111111111111,
              "#46039f"
             ],
             [
              0.2222222222222222,
              "#7201a8"
             ],
             [
              0.3333333333333333,
              "#9c179e"
             ],
             [
              0.4444444444444444,
              "#bd3786"
             ],
             [
              0.5555555555555556,
              "#d8576b"
             ],
             [
              0.6666666666666666,
              "#ed7953"
             ],
             [
              0.7777777777777778,
              "#fb9f3a"
             ],
             [
              0.8888888888888888,
              "#fdca26"
             ],
             [
              1,
              "#f0f921"
             ]
            ],
            "type": "histogram2dcontour"
           }
          ],
          "mesh3d": [
           {
            "colorbar": {
             "outlinewidth": 0,
             "ticks": ""
            },
            "type": "mesh3d"
           }
          ],
          "parcoords": [
           {
            "line": {
             "colorbar": {
              "outlinewidth": 0,
              "ticks": ""
             }
            },
            "type": "parcoords"
           }
          ],
          "pie": [
           {
            "automargin": true,
            "type": "pie"
           }
          ],
          "scatter": [
           {
            "marker": {
             "colorbar": {
              "outlinewidth": 0,
              "ticks": ""
             }
            },
            "type": "scatter"
           }
          ],
          "scatter3d": [
           {
            "line": {
             "colorbar": {
              "outlinewidth": 0,
              "ticks": ""
             }
            },
            "marker": {
             "colorbar": {
              "outlinewidth": 0,
              "ticks": ""
             }
            },
            "type": "scatter3d"
           }
          ],
          "scattercarpet": [
           {
            "marker": {
             "colorbar": {
              "outlinewidth": 0,
              "ticks": ""
             }
            },
            "type": "scattercarpet"
           }
          ],
          "scattergeo": [
           {
            "marker": {
             "colorbar": {
              "outlinewidth": 0,
              "ticks": ""
             }
            },
            "type": "scattergeo"
           }
          ],
          "scattergl": [
           {
            "marker": {
             "colorbar": {
              "outlinewidth": 0,
              "ticks": ""
             }
            },
            "type": "scattergl"
           }
          ],
          "scattermapbox": [
           {
            "marker": {
             "colorbar": {
              "outlinewidth": 0,
              "ticks": ""
             }
            },
            "type": "scattermapbox"
           }
          ],
          "scatterpolar": [
           {
            "marker": {
             "colorbar": {
              "outlinewidth": 0,
              "ticks": ""
             }
            },
            "type": "scatterpolar"
           }
          ],
          "scatterpolargl": [
           {
            "marker": {
             "colorbar": {
              "outlinewidth": 0,
              "ticks": ""
             }
            },
            "type": "scatterpolargl"
           }
          ],
          "scatterternary": [
           {
            "marker": {
             "colorbar": {
              "outlinewidth": 0,
              "ticks": ""
             }
            },
            "type": "scatterternary"
           }
          ],
          "surface": [
           {
            "colorbar": {
             "outlinewidth": 0,
             "ticks": ""
            },
            "colorscale": [
             [
              0,
              "#0d0887"
             ],
             [
              0.1111111111111111,
              "#46039f"
             ],
             [
              0.2222222222222222,
              "#7201a8"
             ],
             [
              0.3333333333333333,
              "#9c179e"
             ],
             [
              0.4444444444444444,
              "#bd3786"
             ],
             [
              0.5555555555555556,
              "#d8576b"
             ],
             [
              0.6666666666666666,
              "#ed7953"
             ],
             [
              0.7777777777777778,
              "#fb9f3a"
             ],
             [
              0.8888888888888888,
              "#fdca26"
             ],
             [
              1,
              "#f0f921"
             ]
            ],
            "type": "surface"
           }
          ],
          "table": [
           {
            "cells": {
             "fill": {
              "color": "#EBF0F8"
             },
             "line": {
              "color": "white"
             }
            },
            "header": {
             "fill": {
              "color": "#C8D4E3"
             },
             "line": {
              "color": "white"
             }
            },
            "type": "table"
           }
          ]
         },
         "layout": {
          "annotationdefaults": {
           "arrowcolor": "#2a3f5f",
           "arrowhead": 0,
           "arrowwidth": 1
          },
          "autotypenumbers": "strict",
          "coloraxis": {
           "colorbar": {
            "outlinewidth": 0,
            "ticks": ""
           }
          },
          "colorscale": {
           "diverging": [
            [
             0,
             "#8e0152"
            ],
            [
             0.1,
             "#c51b7d"
            ],
            [
             0.2,
             "#de77ae"
            ],
            [
             0.3,
             "#f1b6da"
            ],
            [
             0.4,
             "#fde0ef"
            ],
            [
             0.5,
             "#f7f7f7"
            ],
            [
             0.6,
             "#e6f5d0"
            ],
            [
             0.7,
             "#b8e186"
            ],
            [
             0.8,
             "#7fbc41"
            ],
            [
             0.9,
             "#4d9221"
            ],
            [
             1,
             "#276419"
            ]
           ],
           "sequential": [
            [
             0,
             "#0d0887"
            ],
            [
             0.1111111111111111,
             "#46039f"
            ],
            [
             0.2222222222222222,
             "#7201a8"
            ],
            [
             0.3333333333333333,
             "#9c179e"
            ],
            [
             0.4444444444444444,
             "#bd3786"
            ],
            [
             0.5555555555555556,
             "#d8576b"
            ],
            [
             0.6666666666666666,
             "#ed7953"
            ],
            [
             0.7777777777777778,
             "#fb9f3a"
            ],
            [
             0.8888888888888888,
             "#fdca26"
            ],
            [
             1,
             "#f0f921"
            ]
           ],
           "sequentialminus": [
            [
             0,
             "#0d0887"
            ],
            [
             0.1111111111111111,
             "#46039f"
            ],
            [
             0.2222222222222222,
             "#7201a8"
            ],
            [
             0.3333333333333333,
             "#9c179e"
            ],
            [
             0.4444444444444444,
             "#bd3786"
            ],
            [
             0.5555555555555556,
             "#d8576b"
            ],
            [
             0.6666666666666666,
             "#ed7953"
            ],
            [
             0.7777777777777778,
             "#fb9f3a"
            ],
            [
             0.8888888888888888,
             "#fdca26"
            ],
            [
             1,
             "#f0f921"
            ]
           ]
          },
          "colorway": [
           "#636efa",
           "#EF553B",
           "#00cc96",
           "#ab63fa",
           "#FFA15A",
           "#19d3f3",
           "#FF6692",
           "#B6E880",
           "#FF97FF",
           "#FECB52"
          ],
          "font": {
           "color": "#2a3f5f"
          },
          "geo": {
           "bgcolor": "white",
           "lakecolor": "white",
           "landcolor": "#E5ECF6",
           "showlakes": true,
           "showland": true,
           "subunitcolor": "white"
          },
          "hoverlabel": {
           "align": "left"
          },
          "hovermode": "closest",
          "mapbox": {
           "style": "light"
          },
          "paper_bgcolor": "white",
          "plot_bgcolor": "#E5ECF6",
          "polar": {
           "angularaxis": {
            "gridcolor": "white",
            "linecolor": "white",
            "ticks": ""
           },
           "bgcolor": "#E5ECF6",
           "radialaxis": {
            "gridcolor": "white",
            "linecolor": "white",
            "ticks": ""
           }
          },
          "scene": {
           "xaxis": {
            "backgroundcolor": "#E5ECF6",
            "gridcolor": "white",
            "gridwidth": 2,
            "linecolor": "white",
            "showbackground": true,
            "ticks": "",
            "zerolinecolor": "white"
           },
           "yaxis": {
            "backgroundcolor": "#E5ECF6",
            "gridcolor": "white",
            "gridwidth": 2,
            "linecolor": "white",
            "showbackground": true,
            "ticks": "",
            "zerolinecolor": "white"
           },
           "zaxis": {
            "backgroundcolor": "#E5ECF6",
            "gridcolor": "white",
            "gridwidth": 2,
            "linecolor": "white",
            "showbackground": true,
            "ticks": "",
            "zerolinecolor": "white"
           }
          },
          "shapedefaults": {
           "line": {
            "color": "#2a3f5f"
           }
          },
          "ternary": {
           "aaxis": {
            "gridcolor": "white",
            "linecolor": "white",
            "ticks": ""
           },
           "baxis": {
            "gridcolor": "white",
            "linecolor": "white",
            "ticks": ""
           },
           "bgcolor": "#E5ECF6",
           "caxis": {
            "gridcolor": "white",
            "linecolor": "white",
            "ticks": ""
           }
          },
          "title": {
           "x": 0.05
          },
          "xaxis": {
           "automargin": true,
           "gridcolor": "white",
           "linecolor": "white",
           "ticks": "",
           "title": {
            "standoff": 15
           },
           "zerolinecolor": "white",
           "zerolinewidth": 2
          },
          "yaxis": {
           "automargin": true,
           "gridcolor": "white",
           "linecolor": "white",
           "ticks": "",
           "title": {
            "standoff": 15
           },
           "zerolinecolor": "white",
           "zerolinewidth": 2
          }
         }
        },
        "title": {
         "font": {
          "color": "#4D5663"
         },
         "text": "BTC-USDT data"
        },
        "xaxis": {
         "anchor": "y2",
         "gridcolor": "#E1E5ED",
         "rangeselector": {
          "bgcolor": "rgba(150, 200, 250, 1)",
          "buttons": [
           {
            "count": 1,
            "label": "1m",
            "step": "month",
            "stepmode": "backward"
           },
           {
            "count": 1,
            "label": "1y",
            "step": "year",
            "stepmode": "backward"
           }
          ],
          "font": {
           "size": 13
          },
          "visible": false,
          "x": 0,
          "y": 0.9
         },
         "rangeslider": {
          "visible": false
         },
         "showgrid": true,
         "tickfont": {
          "color": "#4D5663"
         },
         "title": {
          "font": {
           "color": "#4D5663"
          },
          "text": ""
         },
         "zerolinecolor": "#E1E5ED"
        },
        "yaxis": {
         "gridcolor": "#E1E5ED",
         "showgrid": true,
         "showticklabels": false,
         "tickfont": {
          "color": "#4D5663"
         },
         "title": {
          "font": {
           "color": "#4D5663"
          },
          "text": ""
         },
         "zerolinecolor": "#E1E5ED"
        },
        "yaxis2": {
         "domain": [
          0.23,
          0.9
         ],
         "gridcolor": "#E1E5ED",
         "showgrid": true,
         "tickfont": {
          "color": "#4D5663"
         },
         "title": {
          "font": {
           "color": "#4D5663"
          },
          "text": ""
         },
         "zerolinecolor": "#E1E5ED"
        },
        "yaxis3": {
         "domain": [
          0,
          0.15
         ],
         "gridcolor": "#E1E5ED",
         "showgrid": true,
         "tickfont": {
          "color": "#4D5663"
         },
         "title": {
          "font": {
           "color": "#4D5663"
          },
          "text": ""
         },
         "zerolinecolor": "#E1E5ED"
        }
       }
      },
      "text/html": [
       "<div>                            <div id=\"9ca9d6ef-5166-4ab7-8aee-5bc63d798504\" class=\"plotly-graph-div\" style=\"height:525px; width:100%;\"></div>            <script type=\"text/javascript\">                require([\"plotly\"], function(Plotly) {                    window.PLOTLYENV=window.PLOTLYENV || {};\n",
       "                    window.PLOTLYENV.BASE_URL='https://plot.ly';                                    if (document.getElementById(\"9ca9d6ef-5166-4ab7-8aee-5bc63d798504\")) {                    Plotly.newPlot(                        \"9ca9d6ef-5166-4ab7-8aee-5bc63d798504\",                        [{\"legendgroup\": \"BOLL(close,20)\", \"line\": {\"color\": \"rgba(55, 128, 191, 1.0)\", \"dash\": \"solid\", \"shape\": \"linear\", \"width\": 1.3}, \"mode\": \"lines\", \"name\": \"BOLL(close,20)\", \"showlegend\": true, \"text\": \"\", \"type\": \"scatter\", \"x\": [\"2017-08-17 04:00:00.000\", \"2017-09-06 04:00:00.000\", \"2017-09-26 11:01:00.000\", \"2017-10-16 11:01:00.000\", \"2017-11-05 11:01:00.000\", \"2017-11-25 11:01:00.000\", \"2017-12-15 11:01:20.799\", \"2018-01-04 14:26:00.000\", \"2018-01-24 14:26:00.000\", \"2018-02-15 00:48:00.000\", \"2018-03-07 00:48:00.000\", \"2018-03-27 00:48:00.000\", \"2018-04-16 00:48:00.000\", \"2018-05-06 00:48:00.000\", \"2018-05-26 00:48:00.000\", \"2018-06-15 00:48:00.000\", \"2018-07-05 20:11:00.000\", \"2018-07-25 20:11:00.000\", \"2018-08-14 20:11:00.000\", \"2018-09-03 20:11:00.000\", \"2018-09-23 20:11:00.000\", \"2018-10-13 20:11:00.000\", \"2018-11-02 23:41:00.000\", \"2018-11-23 06:41:00.000\", \"2018-12-13 06:41:00.000\", \"2019-01-02 06:41:00.000\", \"2019-01-22 06:41:00.000\", \"2019-02-11 06:41:00.000\", \"2019-03-03 06:41:00.000\", \"2019-03-23 12:41:00.000\", \"2019-04-12 12:41:00.000\", \"2019-05-02 12:41:00.000\", \"2019-05-22 22:41:00.000\", \"2019-06-11 23:43:00.000\", \"2019-07-01 23:43:00.000\", \"2019-07-21 23:43:00.000\", \"2019-08-10 23:43:00.000\", \"2019-08-31 07:43:00.000\", \"2019-09-20 07:43:00.000\", \"2019-10-10 07:43:00.000\", \"2019-10-30 07:43:00.000\", \"2019-11-19 10:06:00.000\", \"2019-12-09 12:06:00.000\", \"2019-12-29 12:06:00.000\", \"2020-01-18 12:06:00.000\", \"2020-02-07 12:06:00.000\", \"2020-02-27 19:01:00.000\", \"2020-03-18 21:10:00.000\", \"2020-04-07 21:10:00.000\", \"2020-04-27 23:40:00.000\", \"2020-05-17 23:40:00.000\", \"2020-06-06 23:40:00.000\", \"2020-06-26 23:40:00.000\", \"2020-07-17 03:10:00.000\", \"2020-08-06 03:10:00.000\", \"2020-08-26 03:10:00.000\", \"2020-09-15 03:10:00.000\", \"2020-10-05 03:10:00.000\", \"2020-10-25 03:10:00.000\", \"2020-11-14 03:10:00.000\", \"2020-12-04 04:10:00.000\", \"2020-12-24 08:01:00.000\", \"2021-01-13 09:01:00.000\", \"2021-02-02 09:01:00.000\"], \"y\": [\"\", \"\", \"\", \"\", \"\", \"\", \"\", \"\", \"\", \"\", \"\", \"\", \"\", \"\", \"\", \"\", \"\", \"\", \"\", 8450.53798828125, 8545.187475585937, 8670.2884765625, 8601.748974609374, 8399.987976074219, 8168.477465820312, 7454.094494628906, 6911.9635009765625, 6532.217504882812, 6266.3544921875, 5975.1, 5837.956005859375, 5803.760009765625, 5701.176513671875, 5860.347998046875, 6061.710986328125, 6303.997998046875, 6376.97900390625, 6581.61201171875, 6647.840502929687, 6773.625512695313, 6865.102026367187, 6916.800024414062, 7066.59853515625, 7341.889050292969, 7644.2765625, 7912.674035644532, 7998.313037109375, 8162.393530273437, 8350.822534179688, 8582.146020507813, 8793.245532226563, 8867.117016601562, 8928.600512695313, 8980.140014648438, 9016.666528320313, 8987.821020507812, 9042.983520507812, 9191.700024414062, 9568.766040039063, 10069.505541992188, 10821.638500976562, 12178.881494140625, 13553.484521484375, 15502.08701171875], \"yaxis\": \"y2\"}, {\"legendgroup\": \"BOLL(close,20)\", \"line\": {\"color\": \"rgba(55, 128, 191, 0.8999999999999999)\", \"dash\": \"solid\", \"shape\": \"linear\", \"width\": 1.3}, \"mode\": \"lines\", \"name\": \"UPPER(close,20)\", \"showlegend\": false, \"text\": \"\", \"type\": \"scatter\", \"x\": [\"2017-08-17 04:00:00.000\", \"2017-09-06 04:00:00.000\", \"2017-09-26 11:01:00.000\", \"2017-10-16 11:01:00.000\", \"2017-11-05 11:01:00.000\", \"2017-11-25 11:01:00.000\", \"2017-12-15 11:01:20.799\", \"2018-01-04 14:26:00.000\", \"2018-01-24 14:26:00.000\", \"2018-02-15 00:48:00.000\", \"2018-03-07 00:48:00.000\", \"2018-03-27 00:48:00.000\", \"2018-04-16 00:48:00.000\", \"2018-05-06 00:48:00.000\", \"2018-05-26 00:48:00.000\", \"2018-06-15 00:48:00.000\", \"2018-07-05 20:11:00.000\", \"2018-07-25 20:11:00.000\", \"2018-08-14 20:11:00.000\", \"2018-09-03 20:11:00.000\", \"2018-09-23 20:11:00.000\", \"2018-10-13 20:11:00.000\", \"2018-11-02 23:41:00.000\", \"2018-11-23 06:41:00.000\", \"2018-12-13 06:41:00.000\", \"2019-01-02 06:41:00.000\", \"2019-01-22 06:41:00.000\", \"2019-02-11 06:41:00.000\", \"2019-03-03 06:41:00.000\", \"2019-03-23 12:41:00.000\", \"2019-04-12 12:41:00.000\", \"2019-05-02 12:41:00.000\", \"2019-05-22 22:41:00.000\", \"2019-06-11 23:43:00.000\", \"2019-07-01 23:43:00.000\", \"2019-07-21 23:43:00.000\", \"2019-08-10 23:43:00.000\", \"2019-08-31 07:43:00.000\", \"2019-09-20 07:43:00.000\", \"2019-10-10 07:43:00.000\", \"2019-10-30 07:43:00.000\", \"2019-11-19 10:06:00.000\", \"2019-12-09 12:06:00.000\", \"2019-12-29 12:06:00.000\", \"2020-01-18 12:06:00.000\", \"2020-02-07 12:06:00.000\", \"2020-02-27 19:01:00.000\", \"2020-03-18 21:10:00.000\", \"2020-04-07 21:10:00.000\", \"2020-04-27 23:40:00.000\", \"2020-05-17 23:40:00.000\", \"2020-06-06 23:40:00.000\", \"2020-06-26 23:40:00.000\", \"2020-07-17 03:10:00.000\", \"2020-08-06 03:10:00.000\", \"2020-08-26 03:10:00.000\", \"2020-09-15 03:10:00.000\", \"2020-10-05 03:10:00.000\", \"2020-10-25 03:10:00.000\", \"2020-11-14 03:10:00.000\", \"2020-12-04 04:10:00.000\", \"2020-12-24 08:01:00.000\", \"2021-01-13 09:01:00.000\", \"2021-02-02 09:01:00.000\"], \"y\": [\"\", \"\", \"\", \"\", \"\", \"\", \"\", \"\", \"\", \"\", \"\", \"\", \"\", \"\", \"\", \"\", \"\", \"\", \"\", 15021.94428461165, 14924.491174128063, 14760.682013333044, 14861.150673176006, 15067.28555211537, 15151.13630220349, 13075.828019258457, 11715.66126687836, 11027.280723275842, 10697.260955614705, 9862.686643014116, 9588.548640820647, 9468.09072358692, 8971.130264721007, 9738.704441989199, 10482.692246844692, 11317.025075403064, 11542.432517120305, 12013.261893363713, 12148.54518653551, 12392.086101370403, 12512.173251520795, 12566.378114386189, 12585.226279687467, 12630.68675961484, 12759.769359894217, 12667.35814019436, 12482.179837067011, 12222.987798935676, 11917.116474657512, 11833.470311757383, 11717.698998615486, 11749.643018969524, 11775.822356676921, 11988.795974530874, 12125.74569953714, 12015.657506060712, 12156.367592307291, 12778.434556082393, 14307.690501512958, 16471.179772912008, 19429.551684740174, 25713.71233639614, 30233.69468947844, 37983.15783111102], \"yaxis\": \"y2\"}, {\"fill\": \"tonexty\", \"fillcolor\": \"rgba(55, 128, 191, 0.1)\", \"legendgroup\": \"BOLL(close,20)\", \"line\": {\"color\": \"rgba(55, 128, 191, 0.7999999999999998)\", \"dash\": \"solid\", \"shape\": \"linear\", \"width\": 1.3}, \"mode\": \"lines\", \"name\": \"LOWER(close,20)\", \"showlegend\": false, \"text\": \"\", \"type\": \"scatter\", \"x\": [\"2017-08-17 04:00:00.000\", \"2017-09-06 04:00:00.000\", \"2017-09-26 11:01:00.000\", \"2017-10-16 11:01:00.000\", \"2017-11-05 11:01:00.000\", \"2017-11-25 11:01:00.000\", \"2017-12-15 11:01:20.799\", \"2018-01-04 14:26:00.000\", \"2018-01-24 14:26:00.000\", \"2018-02-15 00:48:00.000\", \"2018-03-07 00:48:00.000\", \"2018-03-27 00:48:00.000\", \"2018-04-16 00:48:00.000\", \"2018-05-06 00:48:00.000\", \"2018-05-26 00:48:00.000\", \"2018-06-15 00:48:00.000\", \"2018-07-05 20:11:00.000\", \"2018-07-25 20:11:00.000\", \"2018-08-14 20:11:00.000\", \"2018-09-03 20:11:00.000\", \"2018-09-23 20:11:00.000\", \"2018-10-13 20:11:00.000\", \"2018-11-02 23:41:00.000\", \"2018-11-23 06:41:00.000\", \"2018-12-13 06:41:00.000\", \"2019-01-02 06:41:00.000\", \"2019-01-22 06:41:00.000\", \"2019-02-11 06:41:00.000\", \"2019-03-03 06:41:00.000\", \"2019-03-23 12:41:00.000\", \"2019-04-12 12:41:00.000\", \"2019-05-02 12:41:00.000\", \"2019-05-22 22:41:00.000\", \"2019-06-11 23:43:00.000\", \"2019-07-01 23:43:00.000\", \"2019-07-21 23:43:00.000\", \"2019-08-10 23:43:00.000\", \"2019-08-31 07:43:00.000\", \"2019-09-20 07:43:00.000\", \"2019-10-10 07:43:00.000\", \"2019-10-30 07:43:00.000\", \"2019-11-19 10:06:00.000\", \"2019-12-09 12:06:00.000\", \"2019-12-29 12:06:00.000\", \"2020-01-18 12:06:00.000\", \"2020-02-07 12:06:00.000\", \"2020-02-27 19:01:00.000\", \"2020-03-18 21:10:00.000\", \"2020-04-07 21:10:00.000\", \"2020-04-27 23:40:00.000\", \"2020-05-17 23:40:00.000\", \"2020-06-06 23:40:00.000\", \"2020-06-26 23:40:00.000\", \"2020-07-17 03:10:00.000\", \"2020-08-06 03:10:00.000\", \"2020-08-26 03:10:00.000\", \"2020-09-15 03:10:00.000\", \"2020-10-05 03:10:00.000\", \"2020-10-25 03:10:00.000\", \"2020-11-14 03:10:00.000\", \"2020-12-04 04:10:00.000\", \"2020-12-24 08:01:00.000\", \"2021-01-13 09:01:00.000\", \"2021-02-02 09:01:00.000\"], \"y\": [\"\", \"\", \"\", \"\", \"\", \"\", \"\", \"\", \"\", \"\", \"\", \"\", \"\", \"\", \"\", \"\", \"\", \"\", \"\", 1879.131691950849, 2165.8837770438113, 2579.894939791956, 2342.347276042744, 1732.690400033067, 1185.8186294371362, 1832.3609699993558, 2108.265735074764, 2037.154286489782, 1835.4480287602946, 2087.5133569858854, 2087.3633708981038, 2139.429295944329, 2431.2227626227436, 1981.9915541045498, 1640.7297258115577, 1290.9709206906864, 1211.5254906921937, 1149.9621300737863, 1147.1358193238657, 1155.1649240202223, 1218.0308012135783, 1267.2219344419364, 1547.9707906250333, 2053.0913409710984, 2528.7837651057835, 3157.989931094703, 3514.4462371517375, 4101.799261611199, 4784.5285937018625, 5330.821729258243, 5868.792065837641, 5984.5910142336, 6081.378668713705, 5971.484054766001, 5907.587357103486, 5959.984534954912, 5929.5994487083335, 5604.9654927457295, 4829.841578565169, 3667.8313110723693, 2213.7253172129494, -1355.9493481148893, -3126.7256465096925, -6978.98380767352], \"yaxis\": \"y2\"}, {\"marker\": {\"color\": [\"#808080\", \"#808080\", \"#17BECF\", \"#17BECF\", \"#17BECF\", \"#17BECF\", \"#808080\", \"#808080\", \"#808080\", \"#17BECF\", \"#808080\", \"#17BECF\", \"#17BECF\", \"#808080\", \"#808080\", \"#808080\", \"#17BECF\", \"#808080\", \"#17BECF\", \"#808080\", \"#808080\", \"#17BECF\", \"#808080\", \"#808080\", \"#17BECF\", \"#808080\", \"#17BECF\", \"#17BECF\", \"#17BECF\", \"#17BECF\", \"#17BECF\", \"#17BECF\", \"#17BECF\", \"#17BECF\", \"#17BECF\", \"#17BECF\", \"#808080\", \"#17BECF\", \"#808080\", \"#17BECF\", \"#808080\", \"#808080\", \"#808080\", \"#17BECF\", \"#17BECF\", \"#808080\", \"#808080\", \"#17BECF\", \"#17BECF\", \"#17BECF\", \"#808080\", \"#808080\", \"#808080\", \"#17BECF\", \"#808080\", \"#808080\", \"#808080\", \"#17BECF\", \"#17BECF\", \"#17BECF\", \"#17BECF\", \"#17BECF\", \"#17BECF\", \"#17BECF\"], \"line\": {\"color\": [\"#808080\", \"#808080\", \"#17BECF\", \"#17BECF\", \"#17BECF\", \"#17BECF\", \"#808080\", \"#808080\", \"#808080\", \"#17BECF\", \"#808080\", \"#17BECF\", \"#17BECF\", \"#808080\", \"#808080\", \"#808080\", \"#17BECF\", \"#808080\", \"#17BECF\", \"#808080\", \"#808080\", \"#17BECF\", \"#808080\", \"#808080\", \"#17BECF\", \"#808080\", \"#17BECF\", \"#17BECF\", \"#17BECF\", \"#17BECF\", \"#17BECF\", \"#17BECF\", \"#17BECF\", \"#17BECF\", \"#17BECF\", \"#17BECF\", \"#808080\", \"#17BECF\", \"#808080\", \"#17BECF\", \"#808080\", \"#808080\", \"#808080\", \"#17BECF\", \"#17BECF\", \"#808080\", \"#808080\", \"#17BECF\", \"#17BECF\", \"#17BECF\", \"#808080\", \"#808080\", \"#808080\", \"#17BECF\", \"#808080\", \"#808080\", \"#808080\", \"#17BECF\", \"#17BECF\", \"#17BECF\", \"#17BECF\", \"#17BECF\", \"#17BECF\", \"#17BECF\"], \"width\": 1}}, \"name\": \"volume\", \"opacity\": 0.8, \"orientation\": \"v\", \"text\": \"\", \"type\": \"bar\", \"x\": [\"2017-08-17 04:00:00.000\", \"2017-09-06 04:00:00.000\", \"2017-09-26 11:01:00.000\", \"2017-10-16 11:01:00.000\", \"2017-11-05 11:01:00.000\", \"2017-11-25 11:01:00.000\", \"2017-12-15 11:01:20.799\", \"2018-01-04 14:26:00.000\", \"2018-01-24 14:26:00.000\", \"2018-02-15 00:48:00.000\", \"2018-03-07 00:48:00.000\", \"2018-03-27 00:48:00.000\", \"2018-04-16 00:48:00.000\", \"2018-05-06 00:48:00.000\", \"2018-05-26 00:48:00.000\", \"2018-06-15 00:48:00.000\", \"2018-07-05 20:11:00.000\", \"2018-07-25 20:11:00.000\", \"2018-08-14 20:11:00.000\", \"2018-09-03 20:11:00.000\", \"2018-09-23 20:11:00.000\", \"2018-10-13 20:11:00.000\", \"2018-11-02 23:41:00.000\", \"2018-11-23 06:41:00.000\", \"2018-12-13 06:41:00.000\", \"2019-01-02 06:41:00.000\", \"2019-01-22 06:41:00.000\", \"2019-02-11 06:41:00.000\", \"2019-03-03 06:41:00.000\", \"2019-03-23 12:41:00.000\", \"2019-04-12 12:41:00.000\", \"2019-05-02 12:41:00.000\", \"2019-05-22 22:41:00.000\", \"2019-06-11 23:43:00.000\", \"2019-07-01 23:43:00.000\", \"2019-07-21 23:43:00.000\", \"2019-08-10 23:43:00.000\", \"2019-08-31 07:43:00.000\", \"2019-09-20 07:43:00.000\", \"2019-10-10 07:43:00.000\", \"2019-10-30 07:43:00.000\", \"2019-11-19 10:06:00.000\", \"2019-12-09 12:06:00.000\", \"2019-12-29 12:06:00.000\", \"2020-01-18 12:06:00.000\", \"2020-02-07 12:06:00.000\", \"2020-02-27 19:01:00.000\", \"2020-03-18 21:10:00.000\", \"2020-04-07 21:10:00.000\", \"2020-04-27 23:40:00.000\", \"2020-05-17 23:40:00.000\", \"2020-06-06 23:40:00.000\", \"2020-06-26 23:40:00.000\", \"2020-07-17 03:10:00.000\", \"2020-08-06 03:10:00.000\", \"2020-08-26 03:10:00.000\", \"2020-09-15 03:10:00.000\", \"2020-10-05 03:10:00.000\", \"2020-10-25 03:10:00.000\", \"2020-11-14 03:10:00.000\", \"2020-12-04 04:10:00.000\", \"2020-12-24 08:01:00.000\", \"2021-01-13 09:01:00.000\", \"2021-02-02 09:01:00.000\"], \"y\": [15007.6748046875, 18632.93359375, 17884.791015625, 35634.75390625, 61777.73828125, 177701.796875, 326496.40625, 602568.0, 761788.5625, 772479.9375, 882478.375, 757155.625, 733521.75, 587082.125, 623986.8125, 642114.6875, 711824.0625, 861948.5625, 887738.75, 746953.0625, 537980.5, 356781.21875, 602614.3125, 1198788.0, 1011354.1875, 626371.75, 520559.8125, 639441.875, 538523.0, 823719.0, 531991.1875, 1062112.0, 829823.1875, 1360003.75, 1424673.5, 873717.5, 686339.1875, 648988.8125, 818561.75, 1015799.1875, 786695.375, 1214383.125, 820235.875, 1140336.625, 961755.75, 1156509.75, 2271609.75, 2325807.75, 1404521.625, 2178823.25, 1312694.875, 984456.1875, 783270.0625, 1256810.625, 1221338.5, 1256741.625, 922435.1875, 947984.1875, 1618677.5, 1852182.875, 1526994.125, 2278804.5, 1952338.25, 915206.9375], \"yaxis\": \"y3\"}, {\"close\": [4430.02001953125, 3937.0, 5705.14990234375, 7415.10986328125, 8391.3203125, 17806.51953125, 14472.419921875, 11417.0, 9313.7001953125, 10876.0, 8184.009765625, 8384.0, 9944.0, 7433.66015625, 6603.2099609375, 6497.490234375, 8135.1298828125, 6069.9599609375, 7306.06005859375, 6689.0, 6323.009765625, 6439.02001953125, 4334.35986328125, 3379.889892578125, 3761.110107421875, 3518.860107421875, 3629.800048828125, 3822.080078125, 3996.43994140625, 5050.91015625, 5441.1298828125, 7700.080078125, 7892.330078125, 10617.08984375, 10630.4697265625, 11343.23046875, 9594.75, 10162.6201171875, 8630.6298828125, 9204.7001953125, 8152.5400390625, 7472.97998046875, 7330.330078125, 8885.7001953125, 9808.8603515625, 8886.8095703125, 5342.580078125, 7103.68994140625, 7765.02001953125, 9677.3798828125, 9663.1201171875, 9177.509765625, 9122.0, 11647.8798828125, 11361.0, 10766.3203125, 10698.0, 13136.9501953125, 16171.9501953125, 19219.490234375, 23195.19921875, 34617.83984375, 34822.390625, 47857.75], \"decreasing\": {\"line\": {\"color\": \"#808080\"}}, \"high\": [4939.18994140625, 4788.58984375, 5922.2998046875, 7480.990234375, 8448.990234375, 17982.220703125, 19798.6796875, 17176.240234375, 12244.0, 11786.009765625, 10899.0, 8429.5400390625, 10020.0, 9970.0, 7786.68994140625, 6841.740234375, 8491.76953125, 8337.599609375, 7345.4501953125, 7410.0, 6814.7998046875, 7680.0, 6615.14990234375, 4527.0, 4198.0, 4069.800048828125, 3733.580078125, 4198.0, 4069.320068359375, 5422.0, 5600.0, 8366.0, 9074.259765625, 13970.0, 13147.080078125, 12330.7001953125, 11600.0, 10905.8701171875, 10231.0, 10370.0, 9513.6796875, 8264.2900390625, 7695.3798828125, 9041.650390625, 9885.0, 10500.0, 9188.0, 7459.68994140625, 7792.02001953125, 10067.0, 10380.0, 9992.7197265625, 9470.0, 12123.4599609375, 12468.0, 12050.849609375, 11179.7900390625, 13217.6796875, 16480.0, 19888.0, 24295.0, 41950.0, 40100.0, 48678.8984375], \"increasing\": {\"line\": {\"color\": \"#17BECF\"}}, \"low\": [3400.0, 2817.0, 3872.81005859375, 5037.9501953125, 5325.009765625, 8288.0, 10961.0, 9035.0, 6000.009765625, 9274.7998046875, 7322.0, 6430.0, 7825.39990234375, 7266.990234375, 6118.68017578125, 5750.0, 6070.0, 5880.0, 6046.580078125, 6111.0, 6205.0, 6245.02001953125, 4222.93994140625, 3222.0, 3156.260009765625, 3441.300048828125, 3349.919921875, 3568.110107421875, 3670.68994140625, 3888.7099609375, 4950.0, 5418.10009765625, 7444.580078125, 7788.990234375, 9060.0, 9165.0, 9320.0, 9420.75, 7710.0, 7300.0, 8060.0, 6515.0, 6435.0, 6871.0400390625, 8238.0, 8531.0, 3782.1298828125, 5252.52978515625, 6468.27001953125, 7659.1201171875, 8642.7197265625, 8910.4501953125, 8833.0, 9089.8095703125, 11117.6396484375, 9825.0, 10136.8203125, 10525.0, 12765.0, 15670.0, 17572.330078125, 23012.2890625, 28850.0, 34333.0], \"name\": \"plot\", \"open\": [4261.47998046875, 4430.02001953125, 3931.0, 5705.14013671875, 7416.02978515625, 8391.330078125, 17788.609375, 14448.0703125, 11416.0, 9319.919921875, 10875.7099609375, 8186.0, 8383.91015625, 9944.0, 7434.0400390625, 6604.60009765625, 6497.97021484375, 8135.1298828125, 6069.9599609375, 7306.97021484375, 6688.990234375, 6326.259765625, 6439.02001953125, 4335.6201171875, 3379.6298828125, 3761.0, 3518.860107421875, 3629.81005859375, 3822.3798828125, 3996.43994140625, 5051.97998046875, 5441.1201171875, 7701.81982421875, 7890.39990234375, 10617.08984375, 10630.490234375, 11344.080078125, 9594.7900390625, 10163.58984375, 8630.6298828125, 9205.490234375, 8153.1201171875, 7472.990234375, 7330.0, 8885.7001953125, 9807.76953125, 8887.51953125, 5342.60009765625, 7103.68017578125, 7765.009765625, 9677.33984375, 9662.900390625, 9177.509765625, 9122.009765625, 11647.8798828125, 11361.0, 10766.3203125, 10698.0, 13136.9404296875, 16172.3701171875, 19219.490234375, 23195.189453125, 34617.83984375, 34822.390625], \"showlegend\": true, \"type\": \"candlestick\", \"x\": [\"2017-08-17 04:00:00.000\", \"2017-09-06 04:00:00.000\", \"2017-09-26 11:01:00.000\", \"2017-10-16 11:01:00.000\", \"2017-11-05 11:01:00.000\", \"2017-11-25 11:01:00.000\", \"2017-12-15 11:01:20.799\", \"2018-01-04 14:26:00.000\", \"2018-01-24 14:26:00.000\", \"2018-02-15 00:48:00.000\", \"2018-03-07 00:48:00.000\", \"2018-03-27 00:48:00.000\", \"2018-04-16 00:48:00.000\", \"2018-05-06 00:48:00.000\", \"2018-05-26 00:48:00.000\", \"2018-06-15 00:48:00.000\", \"2018-07-05 20:11:00.000\", \"2018-07-25 20:11:00.000\", \"2018-08-14 20:11:00.000\", \"2018-09-03 20:11:00.000\", \"2018-09-23 20:11:00.000\", \"2018-10-13 20:11:00.000\", \"2018-11-02 23:41:00.000\", \"2018-11-23 06:41:00.000\", \"2018-12-13 06:41:00.000\", \"2019-01-02 06:41:00.000\", \"2019-01-22 06:41:00.000\", \"2019-02-11 06:41:00.000\", \"2019-03-03 06:41:00.000\", \"2019-03-23 12:41:00.000\", \"2019-04-12 12:41:00.000\", \"2019-05-02 12:41:00.000\", \"2019-05-22 22:41:00.000\", \"2019-06-11 23:43:00.000\", \"2019-07-01 23:43:00.000\", \"2019-07-21 23:43:00.000\", \"2019-08-10 23:43:00.000\", \"2019-08-31 07:43:00.000\", \"2019-09-20 07:43:00.000\", \"2019-10-10 07:43:00.000\", \"2019-10-30 07:43:00.000\", \"2019-11-19 10:06:00.000\", \"2019-12-09 12:06:00.000\", \"2019-12-29 12:06:00.000\", \"2020-01-18 12:06:00.000\", \"2020-02-07 12:06:00.000\", \"2020-02-27 19:01:00.000\", \"2020-03-18 21:10:00.000\", \"2020-04-07 21:10:00.000\", \"2020-04-27 23:40:00.000\", \"2020-05-17 23:40:00.000\", \"2020-06-06 23:40:00.000\", \"2020-06-26 23:40:00.000\", \"2020-07-17 03:10:00.000\", \"2020-08-06 03:10:00.000\", \"2020-08-26 03:10:00.000\", \"2020-09-15 03:10:00.000\", \"2020-10-05 03:10:00.000\", \"2020-10-25 03:10:00.000\", \"2020-11-14 03:10:00.000\", \"2020-12-04 04:10:00.000\", \"2020-12-24 08:01:00.000\", \"2021-01-13 09:01:00.000\", \"2021-02-02 09:01:00.000\"], \"yaxis\": \"y2\"}],                        {\"legend\": {\"bgcolor\": \"#F5F6F9\", \"font\": {\"color\": \"#4D5663\"}, \"orientation\": \"h\", \"x\": 0.3, \"y\": 0.95, \"yanchor\": \"bottom\"}, \"margin\": {\"b\": 30, \"l\": 30, \"r\": 30, \"t\": 30}, \"paper_bgcolor\": \"#F5F6F9\", \"plot_bgcolor\": \"#F5F6F9\", \"showlegend\": true, \"template\": {\"data\": {\"bar\": [{\"error_x\": {\"color\": \"#2a3f5f\"}, \"error_y\": {\"color\": \"#2a3f5f\"}, \"marker\": {\"line\": {\"color\": \"#E5ECF6\", \"width\": 0.5}}, \"type\": \"bar\"}], \"barpolar\": [{\"marker\": {\"line\": {\"color\": \"#E5ECF6\", \"width\": 0.5}}, \"type\": \"barpolar\"}], \"carpet\": [{\"aaxis\": {\"endlinecolor\": \"#2a3f5f\", \"gridcolor\": \"white\", \"linecolor\": \"white\", \"minorgridcolor\": \"white\", \"startlinecolor\": \"#2a3f5f\"}, \"baxis\": {\"endlinecolor\": \"#2a3f5f\", \"gridcolor\": \"white\", \"linecolor\": \"white\", \"minorgridcolor\": \"white\", \"startlinecolor\": \"#2a3f5f\"}, \"type\": \"carpet\"}], \"choropleth\": [{\"colorbar\": {\"outlinewidth\": 0, \"ticks\": \"\"}, \"type\": \"choropleth\"}], \"contour\": [{\"colorbar\": {\"outlinewidth\": 0, \"ticks\": \"\"}, \"colorscale\": [[0.0, \"#0d0887\"], [0.1111111111111111, \"#46039f\"], [0.2222222222222222, \"#7201a8\"], [0.3333333333333333, \"#9c179e\"], [0.4444444444444444, \"#bd3786\"], [0.5555555555555556, \"#d8576b\"], [0.6666666666666666, \"#ed7953\"], [0.7777777777777778, \"#fb9f3a\"], [0.8888888888888888, \"#fdca26\"], [1.0, \"#f0f921\"]], \"type\": \"contour\"}], \"contourcarpet\": [{\"colorbar\": {\"outlinewidth\": 0, \"ticks\": \"\"}, \"type\": \"contourcarpet\"}], \"heatmap\": [{\"colorbar\": {\"outlinewidth\": 0, \"ticks\": \"\"}, \"colorscale\": [[0.0, \"#0d0887\"], [0.1111111111111111, \"#46039f\"], [0.2222222222222222, \"#7201a8\"], [0.3333333333333333, \"#9c179e\"], [0.4444444444444444, \"#bd3786\"], [0.5555555555555556, \"#d8576b\"], [0.6666666666666666, \"#ed7953\"], [0.7777777777777778, \"#fb9f3a\"], [0.8888888888888888, \"#fdca26\"], [1.0, \"#f0f921\"]], \"type\": \"heatmap\"}], \"heatmapgl\": [{\"colorbar\": {\"outlinewidth\": 0, \"ticks\": \"\"}, \"colorscale\": [[0.0, \"#0d0887\"], [0.1111111111111111, \"#46039f\"], [0.2222222222222222, \"#7201a8\"], [0.3333333333333333, \"#9c179e\"], [0.4444444444444444, \"#bd3786\"], [0.5555555555555556, \"#d8576b\"], [0.6666666666666666, \"#ed7953\"], [0.7777777777777778, \"#fb9f3a\"], [0.8888888888888888, \"#fdca26\"], [1.0, \"#f0f921\"]], \"type\": \"heatmapgl\"}], \"histogram\": [{\"marker\": {\"colorbar\": {\"outlinewidth\": 0, \"ticks\": \"\"}}, \"type\": \"histogram\"}], \"histogram2d\": [{\"colorbar\": {\"outlinewidth\": 0, \"ticks\": \"\"}, \"colorscale\": [[0.0, \"#0d0887\"], [0.1111111111111111, \"#46039f\"], [0.2222222222222222, \"#7201a8\"], [0.3333333333333333, \"#9c179e\"], [0.4444444444444444, \"#bd3786\"], [0.5555555555555556, \"#d8576b\"], [0.6666666666666666, \"#ed7953\"], [0.7777777777777778, \"#fb9f3a\"], [0.8888888888888888, \"#fdca26\"], [1.0, \"#f0f921\"]], \"type\": \"histogram2d\"}], \"histogram2dcontour\": [{\"colorbar\": {\"outlinewidth\": 0, \"ticks\": \"\"}, \"colorscale\": [[0.0, \"#0d0887\"], [0.1111111111111111, \"#46039f\"], [0.2222222222222222, \"#7201a8\"], [0.3333333333333333, \"#9c179e\"], [0.4444444444444444, \"#bd3786\"], [0.5555555555555556, \"#d8576b\"], [0.6666666666666666, \"#ed7953\"], [0.7777777777777778, \"#fb9f3a\"], [0.8888888888888888, \"#fdca26\"], [1.0, \"#f0f921\"]], \"type\": \"histogram2dcontour\"}], \"mesh3d\": [{\"colorbar\": {\"outlinewidth\": 0, \"ticks\": \"\"}, \"type\": \"mesh3d\"}], \"parcoords\": [{\"line\": {\"colorbar\": {\"outlinewidth\": 0, \"ticks\": \"\"}}, \"type\": \"parcoords\"}], \"pie\": [{\"automargin\": true, \"type\": \"pie\"}], \"scatter\": [{\"marker\": {\"colorbar\": {\"outlinewidth\": 0, \"ticks\": \"\"}}, \"type\": \"scatter\"}], \"scatter3d\": [{\"line\": {\"colorbar\": {\"outlinewidth\": 0, \"ticks\": \"\"}}, \"marker\": {\"colorbar\": {\"outlinewidth\": 0, \"ticks\": \"\"}}, \"type\": \"scatter3d\"}], \"scattercarpet\": [{\"marker\": {\"colorbar\": {\"outlinewidth\": 0, \"ticks\": \"\"}}, \"type\": \"scattercarpet\"}], \"scattergeo\": [{\"marker\": {\"colorbar\": {\"outlinewidth\": 0, \"ticks\": \"\"}}, \"type\": \"scattergeo\"}], \"scattergl\": [{\"marker\": {\"colorbar\": {\"outlinewidth\": 0, \"ticks\": \"\"}}, \"type\": \"scattergl\"}], \"scattermapbox\": [{\"marker\": {\"colorbar\": {\"outlinewidth\": 0, \"ticks\": \"\"}}, \"type\": \"scattermapbox\"}], \"scatterpolar\": [{\"marker\": {\"colorbar\": {\"outlinewidth\": 0, \"ticks\": \"\"}}, \"type\": \"scatterpolar\"}], \"scatterpolargl\": [{\"marker\": {\"colorbar\": {\"outlinewidth\": 0, \"ticks\": \"\"}}, \"type\": \"scatterpolargl\"}], \"scatterternary\": [{\"marker\": {\"colorbar\": {\"outlinewidth\": 0, \"ticks\": \"\"}}, \"type\": \"scatterternary\"}], \"surface\": [{\"colorbar\": {\"outlinewidth\": 0, \"ticks\": \"\"}, \"colorscale\": [[0.0, \"#0d0887\"], [0.1111111111111111, \"#46039f\"], [0.2222222222222222, \"#7201a8\"], [0.3333333333333333, \"#9c179e\"], [0.4444444444444444, \"#bd3786\"], [0.5555555555555556, \"#d8576b\"], [0.6666666666666666, \"#ed7953\"], [0.7777777777777778, \"#fb9f3a\"], [0.8888888888888888, \"#fdca26\"], [1.0, \"#f0f921\"]], \"type\": \"surface\"}], \"table\": [{\"cells\": {\"fill\": {\"color\": \"#EBF0F8\"}, \"line\": {\"color\": \"white\"}}, \"header\": {\"fill\": {\"color\": \"#C8D4E3\"}, \"line\": {\"color\": \"white\"}}, \"type\": \"table\"}]}, \"layout\": {\"annotationdefaults\": {\"arrowcolor\": \"#2a3f5f\", \"arrowhead\": 0, \"arrowwidth\": 1}, \"autotypenumbers\": \"strict\", \"coloraxis\": {\"colorbar\": {\"outlinewidth\": 0, \"ticks\": \"\"}}, \"colorscale\": {\"diverging\": [[0, \"#8e0152\"], [0.1, \"#c51b7d\"], [0.2, \"#de77ae\"], [0.3, \"#f1b6da\"], [0.4, \"#fde0ef\"], [0.5, \"#f7f7f7\"], [0.6, \"#e6f5d0\"], [0.7, \"#b8e186\"], [0.8, \"#7fbc41\"], [0.9, \"#4d9221\"], [1, \"#276419\"]], \"sequential\": [[0.0, \"#0d0887\"], [0.1111111111111111, \"#46039f\"], [0.2222222222222222, \"#7201a8\"], [0.3333333333333333, \"#9c179e\"], [0.4444444444444444, \"#bd3786\"], [0.5555555555555556, \"#d8576b\"], [0.6666666666666666, \"#ed7953\"], [0.7777777777777778, \"#fb9f3a\"], [0.8888888888888888, \"#fdca26\"], [1.0, \"#f0f921\"]], \"sequentialminus\": [[0.0, \"#0d0887\"], [0.1111111111111111, \"#46039f\"], [0.2222222222222222, \"#7201a8\"], [0.3333333333333333, \"#9c179e\"], [0.4444444444444444, \"#bd3786\"], [0.5555555555555556, \"#d8576b\"], [0.6666666666666666, \"#ed7953\"], [0.7777777777777778, \"#fb9f3a\"], [0.8888888888888888, \"#fdca26\"], [1.0, \"#f0f921\"]]}, \"colorway\": [\"#636efa\", \"#EF553B\", \"#00cc96\", \"#ab63fa\", \"#FFA15A\", \"#19d3f3\", \"#FF6692\", \"#B6E880\", \"#FF97FF\", \"#FECB52\"], \"font\": {\"color\": \"#2a3f5f\"}, \"geo\": {\"bgcolor\": \"white\", \"lakecolor\": \"white\", \"landcolor\": \"#E5ECF6\", \"showlakes\": true, \"showland\": true, \"subunitcolor\": \"white\"}, \"hoverlabel\": {\"align\": \"left\"}, \"hovermode\": \"closest\", \"mapbox\": {\"style\": \"light\"}, \"paper_bgcolor\": \"white\", \"plot_bgcolor\": \"#E5ECF6\", \"polar\": {\"angularaxis\": {\"gridcolor\": \"white\", \"linecolor\": \"white\", \"ticks\": \"\"}, \"bgcolor\": \"#E5ECF6\", \"radialaxis\": {\"gridcolor\": \"white\", \"linecolor\": \"white\", \"ticks\": \"\"}}, \"scene\": {\"xaxis\": {\"backgroundcolor\": \"#E5ECF6\", \"gridcolor\": \"white\", \"gridwidth\": 2, \"linecolor\": \"white\", \"showbackground\": true, \"ticks\": \"\", \"zerolinecolor\": \"white\"}, \"yaxis\": {\"backgroundcolor\": \"#E5ECF6\", \"gridcolor\": \"white\", \"gridwidth\": 2, \"linecolor\": \"white\", \"showbackground\": true, \"ticks\": \"\", \"zerolinecolor\": \"white\"}, \"zaxis\": {\"backgroundcolor\": \"#E5ECF6\", \"gridcolor\": \"white\", \"gridwidth\": 2, \"linecolor\": \"white\", \"showbackground\": true, \"ticks\": \"\", \"zerolinecolor\": \"white\"}}, \"shapedefaults\": {\"line\": {\"color\": \"#2a3f5f\"}}, \"ternary\": {\"aaxis\": {\"gridcolor\": \"white\", \"linecolor\": \"white\", \"ticks\": \"\"}, \"baxis\": {\"gridcolor\": \"white\", \"linecolor\": \"white\", \"ticks\": \"\"}, \"bgcolor\": \"#E5ECF6\", \"caxis\": {\"gridcolor\": \"white\", \"linecolor\": \"white\", \"ticks\": \"\"}}, \"title\": {\"x\": 0.05}, \"xaxis\": {\"automargin\": true, \"gridcolor\": \"white\", \"linecolor\": \"white\", \"ticks\": \"\", \"title\": {\"standoff\": 15}, \"zerolinecolor\": \"white\", \"zerolinewidth\": 2}, \"yaxis\": {\"automargin\": true, \"gridcolor\": \"white\", \"linecolor\": \"white\", \"ticks\": \"\", \"title\": {\"standoff\": 15}, \"zerolinecolor\": \"white\", \"zerolinewidth\": 2}}}, \"title\": {\"font\": {\"color\": \"#4D5663\"}, \"text\": \"BTC-USDT data\"}, \"xaxis\": {\"anchor\": \"y2\", \"gridcolor\": \"#E1E5ED\", \"rangeselector\": {\"bgcolor\": \"rgba(150, 200, 250, 1)\", \"buttons\": [{\"count\": 1, \"label\": \"1m\", \"step\": \"month\", \"stepmode\": \"backward\"}, {\"count\": 1, \"label\": \"1y\", \"step\": \"year\", \"stepmode\": \"backward\"}], \"font\": {\"size\": 13}, \"visible\": false, \"x\": 0, \"y\": 0.9}, \"rangeslider\": {\"visible\": false}, \"showgrid\": true, \"tickfont\": {\"color\": \"#4D5663\"}, \"title\": {\"font\": {\"color\": \"#4D5663\"}, \"text\": \"\"}, \"zerolinecolor\": \"#E1E5ED\"}, \"yaxis\": {\"gridcolor\": \"#E1E5ED\", \"showgrid\": true, \"showticklabels\": false, \"tickfont\": {\"color\": \"#4D5663\"}, \"title\": {\"font\": {\"color\": \"#4D5663\"}, \"text\": \"\"}, \"zerolinecolor\": \"#E1E5ED\"}, \"yaxis2\": {\"domain\": [0.23, 0.9], \"gridcolor\": \"#E1E5ED\", \"showgrid\": true, \"tickfont\": {\"color\": \"#4D5663\"}, \"title\": {\"font\": {\"color\": \"#4D5663\"}, \"text\": \"\"}, \"zerolinecolor\": \"#E1E5ED\"}, \"yaxis3\": {\"domain\": [0.0, 0.15], \"gridcolor\": \"#E1E5ED\", \"showgrid\": true, \"tickfont\": {\"color\": \"#4D5663\"}, \"title\": {\"font\": {\"color\": \"#4D5663\"}, \"text\": \"\"}, \"zerolinecolor\": \"#E1E5ED\"}},                        {\"showLink\": true, \"linkText\": \"Export to plot.ly\", \"plotlyServerURL\": \"https://plot.ly\", \"responsive\": true}                    ).then(function(){\n",
       "                            \n",
       "var gd = document.getElementById('9ca9d6ef-5166-4ab7-8aee-5bc63d798504');\n",
       "var x = new MutationObserver(function (mutations, observer) {{\n",
       "        var display = window.getComputedStyle(gd).display;\n",
       "        if (!display || display === 'none') {{\n",
       "            console.log([gd, 'removed!']);\n",
       "            Plotly.purge(gd);\n",
       "            observer.disconnect();\n",
       "        }}\n",
       "}});\n",
       "\n",
       "// Listen for the removal of the full notebook cells\n",
       "var notebookContainer = gd.closest('#notebook-container');\n",
       "if (notebookContainer) {{\n",
       "    x.observe(notebookContainer, {childList: true});\n",
       "}}\n",
       "\n",
       "// Listen for the clearing of the current output cell\n",
       "var outputEl = gd.closest('.output');\n",
       "if (outputEl) {{\n",
       "    x.observe(outputEl, {childList: true});\n",
       "}}\n",
       "\n",
       "                        })                };                });            </script>        </div>"
      ]
     },
     "metadata": {},
     "output_type": "display_data"
    }
   ],
   "source": [
    "#apple_df = pd.read_csv('/datasets/AAPL.csv', index_col=0, parse_dates=True)\n",
    "\n",
    "qf=cf.QuantFig(output,title='BTC-USDT data',legend='top',name='plot')\n",
    "\n",
    "qf.add_bollinger_bands()\n",
    "qf.add_volume()\n",
    "#qf.add_resistance(date = '2018-03-17')\n",
    "qf.add_support(date = '2018-03-17')\n",
    "#qf.add_trendline(date0 = '2017-11-15',date1 ='2020-12-04',text ='Trend')\n",
    "#qf.add_volume()\n",
    "\n",
    "qf.iplot()"
   ]
  },
  {
   "cell_type": "code",
   "execution_count": 91,
   "metadata": {},
   "outputs": [
    {
     "data": {
      "text/html": [
       "<div>\n",
       "<style scoped>\n",
       "    .dataframe tbody tr th:only-of-type {\n",
       "        vertical-align: middle;\n",
       "    }\n",
       "\n",
       "    .dataframe tbody tr th {\n",
       "        vertical-align: top;\n",
       "    }\n",
       "\n",
       "    .dataframe thead th {\n",
       "        text-align: right;\n",
       "    }\n",
       "</style>\n",
       "<table border=\"1\" class=\"dataframe\">\n",
       "  <thead>\n",
       "    <tr style=\"text-align: right;\">\n",
       "      <th></th>\n",
       "      <th>open</th>\n",
       "      <th>high</th>\n",
       "      <th>low</th>\n",
       "      <th>close</th>\n",
       "      <th>volume</th>\n",
       "      <th>date</th>\n",
       "    </tr>\n",
       "    <tr>\n",
       "      <th>date</th>\n",
       "      <th></th>\n",
       "      <th></th>\n",
       "      <th></th>\n",
       "      <th></th>\n",
       "      <th></th>\n",
       "      <th></th>\n",
       "    </tr>\n",
       "  </thead>\n",
       "  <tbody>\n",
       "    <tr>\n",
       "      <th>2017-08-17 04:00:00.000</th>\n",
       "      <td>4261.479980</td>\n",
       "      <td>4939.189941</td>\n",
       "      <td>2817.000000</td>\n",
       "      <td>3529.989990</td>\n",
       "      <td>2.543288e+04</td>\n",
       "      <td>2017-08-17 04:00:00.000</td>\n",
       "    </tr>\n",
       "    <tr>\n",
       "      <th>2017-09-16 11:01:00.000</th>\n",
       "      <td>3529.989990</td>\n",
       "      <td>5922.299805</td>\n",
       "      <td>3499.020020</td>\n",
       "      <td>5705.149902</td>\n",
       "      <td>2.609252e+04</td>\n",
       "      <td>2017-09-16 11:01:00.000</td>\n",
       "    </tr>\n",
       "    <tr>\n",
       "      <th>2017-10-16 11:01:00.000</th>\n",
       "      <td>5705.140137</td>\n",
       "      <td>7770.020020</td>\n",
       "      <td>5037.950195</td>\n",
       "      <td>6898.879883</td>\n",
       "      <td>6.000060e+04</td>\n",
       "      <td>2017-10-16 11:01:00.000</td>\n",
       "    </tr>\n",
       "    <tr>\n",
       "      <th>2017-11-15 11:01:00.000</th>\n",
       "      <td>6888.060059</td>\n",
       "      <td>17982.220703</td>\n",
       "      <td>6888.060059</td>\n",
       "      <td>17806.519531</td>\n",
       "      <td>2.151137e+05</td>\n",
       "      <td>2017-11-15 11:01:00.000</td>\n",
       "    </tr>\n",
       "    <tr>\n",
       "      <th>2017-12-15 11:01:20.799</th>\n",
       "      <td>17788.609375</td>\n",
       "      <td>19798.679688</td>\n",
       "      <td>10961.000000</td>\n",
       "      <td>13220.000000</td>\n",
       "      <td>5.211288e+05</td>\n",
       "      <td>2017-12-15 11:01:20.799</td>\n",
       "    </tr>\n",
       "    <tr>\n",
       "      <th>2018-01-14 14:26:00.000</th>\n",
       "      <td>13220.000000</td>\n",
       "      <td>14249.990234</td>\n",
       "      <td>6000.009766</td>\n",
       "      <td>9313.700195</td>\n",
       "      <td>1.169724e+06</td>\n",
       "      <td>2018-01-14 14:26:00.000</td>\n",
       "    </tr>\n",
       "    <tr>\n",
       "      <th>2018-02-15 00:48:00.000</th>\n",
       "      <td>9319.919922</td>\n",
       "      <td>11786.009766</td>\n",
       "      <td>7650.000000</td>\n",
       "      <td>8261.009766</td>\n",
       "      <td>1.233179e+06</td>\n",
       "      <td>2018-02-15 00:48:00.000</td>\n",
       "    </tr>\n",
       "    <tr>\n",
       "      <th>2018-03-17 00:48:00.000</th>\n",
       "      <td>8261.040039</td>\n",
       "      <td>9177.009766</td>\n",
       "      <td>6430.000000</td>\n",
       "      <td>8384.000000</td>\n",
       "      <td>1.178935e+06</td>\n",
       "      <td>2018-03-17 00:48:00.000</td>\n",
       "    </tr>\n",
       "    <tr>\n",
       "      <th>2018-04-16 00:48:00.000</th>\n",
       "      <td>8383.910156</td>\n",
       "      <td>10020.000000</td>\n",
       "      <td>7825.399902</td>\n",
       "      <td>8427.370117</td>\n",
       "      <td>1.050933e+06</td>\n",
       "      <td>2018-04-16 00:48:00.000</td>\n",
       "    </tr>\n",
       "    <tr>\n",
       "      <th>2018-05-16 00:48:00.000</th>\n",
       "      <td>8427.330078</td>\n",
       "      <td>8609.000000</td>\n",
       "      <td>6118.680176</td>\n",
       "      <td>6603.209961</td>\n",
       "      <td>8.936577e+05</td>\n",
       "      <td>2018-05-16 00:48:00.000</td>\n",
       "    </tr>\n",
       "    <tr>\n",
       "      <th>2018-06-15 00:48:00.000</th>\n",
       "      <td>6604.600098</td>\n",
       "      <td>6841.740234</td>\n",
       "      <td>5750.000000</td>\n",
       "      <td>6359.890137</td>\n",
       "      <td>9.139457e+05</td>\n",
       "      <td>2018-06-15 00:48:00.000</td>\n",
       "    </tr>\n",
       "    <tr>\n",
       "      <th>2018-07-15 20:11:00.000</th>\n",
       "      <td>6359.129883</td>\n",
       "      <td>8491.769531</td>\n",
       "      <td>5880.000000</td>\n",
       "      <td>6069.959961</td>\n",
       "      <td>1.301942e+06</td>\n",
       "      <td>2018-07-15 20:11:00.000</td>\n",
       "    </tr>\n",
       "    <tr>\n",
       "      <th>2018-08-14 20:11:00.000</th>\n",
       "      <td>6069.959961</td>\n",
       "      <td>7410.000000</td>\n",
       "      <td>6046.580078</td>\n",
       "      <td>6438.750000</td>\n",
       "      <td>1.298410e+06</td>\n",
       "      <td>2018-08-14 20:11:00.000</td>\n",
       "    </tr>\n",
       "    <tr>\n",
       "      <th>2018-09-13 20:11:00.000</th>\n",
       "      <td>6438.259766</td>\n",
       "      <td>6839.029785</td>\n",
       "      <td>6123.000000</td>\n",
       "      <td>6323.009766</td>\n",
       "      <td>8.742619e+05</td>\n",
       "      <td>2018-09-13 20:11:00.000</td>\n",
       "    </tr>\n",
       "    <tr>\n",
       "      <th>2018-10-13 20:11:00.000</th>\n",
       "      <td>6326.259766</td>\n",
       "      <td>7680.000000</td>\n",
       "      <td>6245.020020</td>\n",
       "      <td>6452.160156</td>\n",
       "      <td>4.613153e+05</td>\n",
       "      <td>2018-10-13 20:11:00.000</td>\n",
       "    </tr>\n",
       "    <tr>\n",
       "      <th>2018-11-12 23:41:00.000</th>\n",
       "      <td>6450.640137</td>\n",
       "      <td>6498.000000</td>\n",
       "      <td>3222.000000</td>\n",
       "      <td>3379.889893</td>\n",
       "      <td>1.696868e+06</td>\n",
       "      <td>2018-11-12 23:41:00.000</td>\n",
       "    </tr>\n",
       "    <tr>\n",
       "      <th>2018-12-13 06:41:00.000</th>\n",
       "      <td>3379.629883</td>\n",
       "      <td>4198.000000</td>\n",
       "      <td>3156.260010</td>\n",
       "      <td>3579.179932</td>\n",
       "      <td>1.370514e+06</td>\n",
       "      <td>2018-12-13 06:41:00.000</td>\n",
       "    </tr>\n",
       "    <tr>\n",
       "      <th>2019-01-12 06:41:00.000</th>\n",
       "      <td>3579.159912</td>\n",
       "      <td>3733.580078</td>\n",
       "      <td>3349.919922</td>\n",
       "      <td>3629.800049</td>\n",
       "      <td>7.877722e+05</td>\n",
       "      <td>2019-01-12 06:41:00.000</td>\n",
       "    </tr>\n",
       "    <tr>\n",
       "      <th>2019-02-11 06:41:00.000</th>\n",
       "      <td>3629.810059</td>\n",
       "      <td>4198.000000</td>\n",
       "      <td>3568.110107</td>\n",
       "      <td>3864.479980</td>\n",
       "      <td>9.397477e+05</td>\n",
       "      <td>2019-02-11 06:41:00.000</td>\n",
       "    </tr>\n",
       "    <tr>\n",
       "      <th>2019-03-13 12:41:00.000</th>\n",
       "      <td>3864.419922</td>\n",
       "      <td>5422.000000</td>\n",
       "      <td>3810.429932</td>\n",
       "      <td>5050.910156</td>\n",
       "      <td>1.061936e+06</td>\n",
       "      <td>2019-03-13 12:41:00.000</td>\n",
       "    </tr>\n",
       "    <tr>\n",
       "      <th>2019-04-12 12:41:00.000</th>\n",
       "      <td>5051.979980</td>\n",
       "      <td>7521.779785</td>\n",
       "      <td>4950.000000</td>\n",
       "      <td>7061.870117</td>\n",
       "      <td>9.310362e+05</td>\n",
       "      <td>2019-04-12 12:41:00.000</td>\n",
       "    </tr>\n",
       "    <tr>\n",
       "      <th>2019-05-12 12:41:00.000</th>\n",
       "      <td>7062.100098</td>\n",
       "      <td>9074.259766</td>\n",
       "      <td>6750.000000</td>\n",
       "      <td>7892.330078</td>\n",
       "      <td>1.492890e+06</td>\n",
       "      <td>2019-05-12 12:41:00.000</td>\n",
       "    </tr>\n",
       "    <tr>\n",
       "      <th>2019-06-11 23:43:00.000</th>\n",
       "      <td>7890.399902</td>\n",
       "      <td>13970.000000</td>\n",
       "      <td>7788.990234</td>\n",
       "      <td>11250.000000</td>\n",
       "      <td>2.113732e+06</td>\n",
       "      <td>2019-06-11 23:43:00.000</td>\n",
       "    </tr>\n",
       "    <tr>\n",
       "      <th>2019-07-11 23:43:00.000</th>\n",
       "      <td>11250.000000</td>\n",
       "      <td>12330.700195</td>\n",
       "      <td>9060.000000</td>\n",
       "      <td>11343.230469</td>\n",
       "      <td>1.544663e+06</td>\n",
       "      <td>2019-07-11 23:43:00.000</td>\n",
       "    </tr>\n",
       "    <tr>\n",
       "      <th>2019-08-10 23:43:00.000</th>\n",
       "      <td>11344.080078</td>\n",
       "      <td>11600.000000</td>\n",
       "      <td>9320.000000</td>\n",
       "      <td>10297.650391</td>\n",
       "      <td>1.047180e+06</td>\n",
       "      <td>2019-08-10 23:43:00.000</td>\n",
       "    </tr>\n",
       "    <tr>\n",
       "      <th>2019-09-10 07:43:00.000</th>\n",
       "      <td>10297.650391</td>\n",
       "      <td>10448.809570</td>\n",
       "      <td>7710.000000</td>\n",
       "      <td>8630.629883</td>\n",
       "      <td>1.106709e+06</td>\n",
       "      <td>2019-09-10 07:43:00.000</td>\n",
       "    </tr>\n",
       "    <tr>\n",
       "      <th>2019-10-10 07:43:00.000</th>\n",
       "      <td>8630.629883</td>\n",
       "      <td>10370.000000</td>\n",
       "      <td>7300.000000</td>\n",
       "      <td>8860.000000</td>\n",
       "      <td>1.450041e+06</td>\n",
       "      <td>2019-10-10 07:43:00.000</td>\n",
       "    </tr>\n",
       "    <tr>\n",
       "      <th>2019-11-09 07:43:00.000</th>\n",
       "      <td>8859.990234</td>\n",
       "      <td>9147.190430</td>\n",
       "      <td>6515.000000</td>\n",
       "      <td>7472.979980</td>\n",
       "      <td>1.566837e+06</td>\n",
       "      <td>2019-11-09 07:43:00.000</td>\n",
       "    </tr>\n",
       "    <tr>\n",
       "      <th>2019-12-09 12:06:00.000</th>\n",
       "      <td>7472.990234</td>\n",
       "      <td>8455.000000</td>\n",
       "      <td>6435.000000</td>\n",
       "      <td>8342.000000</td>\n",
       "      <td>1.278426e+06</td>\n",
       "      <td>2019-12-09 12:06:00.000</td>\n",
       "    </tr>\n",
       "    <tr>\n",
       "      <th>2020-01-08 12:06:00.000</th>\n",
       "      <td>8341.650391</td>\n",
       "      <td>9885.000000</td>\n",
       "      <td>7672.000000</td>\n",
       "      <td>9808.860352</td>\n",
       "      <td>1.643902e+06</td>\n",
       "      <td>2020-01-08 12:06:00.000</td>\n",
       "    </tr>\n",
       "    <tr>\n",
       "      <th>2020-02-07 12:06:00.000</th>\n",
       "      <td>9807.769531</td>\n",
       "      <td>10500.000000</td>\n",
       "      <td>8149.270020</td>\n",
       "      <td>8280.000000</td>\n",
       "      <td>1.688757e+06</td>\n",
       "      <td>2020-02-07 12:06:00.000</td>\n",
       "    </tr>\n",
       "    <tr>\n",
       "      <th>2020-03-08 21:10:00.000</th>\n",
       "      <td>8279.820312</td>\n",
       "      <td>8280.000000</td>\n",
       "      <td>3782.129883</td>\n",
       "      <td>7103.689941</td>\n",
       "      <td>4.065170e+06</td>\n",
       "      <td>2020-03-08 21:10:00.000</td>\n",
       "    </tr>\n",
       "    <tr>\n",
       "      <th>2020-04-07 21:10:00.000</th>\n",
       "      <td>7103.680176</td>\n",
       "      <td>9999.000000</td>\n",
       "      <td>6468.270020</td>\n",
       "      <td>9957.629883</td>\n",
       "      <td>2.489284e+06</td>\n",
       "      <td>2020-04-07 21:10:00.000</td>\n",
       "    </tr>\n",
       "    <tr>\n",
       "      <th>2020-05-07 23:40:00.000</th>\n",
       "      <td>9957.589844</td>\n",
       "      <td>10380.000000</td>\n",
       "      <td>8117.000000</td>\n",
       "      <td>9663.120117</td>\n",
       "      <td>2.406756e+06</td>\n",
       "      <td>2020-05-07 23:40:00.000</td>\n",
       "    </tr>\n",
       "    <tr>\n",
       "      <th>2020-06-06 23:40:00.000</th>\n",
       "      <td>9662.900391</td>\n",
       "      <td>9992.719727</td>\n",
       "      <td>8833.000000</td>\n",
       "      <td>9288.559570</td>\n",
       "      <td>1.369066e+06</td>\n",
       "      <td>2020-06-06 23:40:00.000</td>\n",
       "    </tr>\n",
       "    <tr>\n",
       "      <th>2020-07-07 03:10:00.000</th>\n",
       "      <td>9288.559570</td>\n",
       "      <td>12123.459961</td>\n",
       "      <td>9047.250000</td>\n",
       "      <td>11647.879883</td>\n",
       "      <td>1.655471e+06</td>\n",
       "      <td>2020-07-07 03:10:00.000</td>\n",
       "    </tr>\n",
       "    <tr>\n",
       "      <th>2020-08-06 03:10:00.000</th>\n",
       "      <td>11647.879883</td>\n",
       "      <td>12468.000000</td>\n",
       "      <td>9875.500000</td>\n",
       "      <td>10458.259766</td>\n",
       "      <td>1.895939e+06</td>\n",
       "      <td>2020-08-06 03:10:00.000</td>\n",
       "    </tr>\n",
       "    <tr>\n",
       "      <th>2020-09-05 03:10:00.000</th>\n",
       "      <td>10458.269531</td>\n",
       "      <td>11179.790039</td>\n",
       "      <td>9825.000000</td>\n",
       "      <td>10698.000000</td>\n",
       "      <td>1.504576e+06</td>\n",
       "      <td>2020-09-05 03:10:00.000</td>\n",
       "    </tr>\n",
       "    <tr>\n",
       "      <th>2020-10-05 03:10:00.000</th>\n",
       "      <td>10698.000000</td>\n",
       "      <td>14100.000000</td>\n",
       "      <td>10525.000000</td>\n",
       "      <td>13846.490234</td>\n",
       "      <td>1.621064e+06</td>\n",
       "      <td>2020-10-05 03:10:00.000</td>\n",
       "    </tr>\n",
       "    <tr>\n",
       "      <th>2020-11-04 03:10:00.000</th>\n",
       "      <td>13846.490234</td>\n",
       "      <td>19888.000000</td>\n",
       "      <td>13525.000000</td>\n",
       "      <td>19219.490234</td>\n",
       "      <td>2.797780e+06</td>\n",
       "      <td>2020-11-04 03:10:00.000</td>\n",
       "    </tr>\n",
       "    <tr>\n",
       "      <th>2020-12-04 04:10:00.000</th>\n",
       "      <td>19219.490234</td>\n",
       "      <td>34778.109375</td>\n",
       "      <td>17572.330078</td>\n",
       "      <td>34437.421875</td>\n",
       "      <td>2.442490e+06</td>\n",
       "      <td>2020-12-04 04:10:00.000</td>\n",
       "    </tr>\n",
       "    <tr>\n",
       "      <th>2021-01-03 09:01:00.000</th>\n",
       "      <td>34437.421875</td>\n",
       "      <td>41950.000000</td>\n",
       "      <td>28130.000000</td>\n",
       "      <td>34822.390625</td>\n",
       "      <td>3.315646e+06</td>\n",
       "      <td>2021-01-03 09:01:00.000</td>\n",
       "    </tr>\n",
       "    <tr>\n",
       "      <th>2021-02-02 09:01:00.000</th>\n",
       "      <td>34822.390625</td>\n",
       "      <td>48678.898438</td>\n",
       "      <td>34333.000000</td>\n",
       "      <td>47857.750000</td>\n",
       "      <td>9.152069e+05</td>\n",
       "      <td>2021-02-02 09:01:00.000</td>\n",
       "    </tr>\n",
       "  </tbody>\n",
       "</table>\n",
       "</div>"
      ],
      "text/plain": [
       "                                 open          high           low  \\\n",
       "date                                                                \n",
       "2017-08-17 04:00:00.000   4261.479980   4939.189941   2817.000000   \n",
       "2017-09-16 11:01:00.000   3529.989990   5922.299805   3499.020020   \n",
       "2017-10-16 11:01:00.000   5705.140137   7770.020020   5037.950195   \n",
       "2017-11-15 11:01:00.000   6888.060059  17982.220703   6888.060059   \n",
       "2017-12-15 11:01:20.799  17788.609375  19798.679688  10961.000000   \n",
       "2018-01-14 14:26:00.000  13220.000000  14249.990234   6000.009766   \n",
       "2018-02-15 00:48:00.000   9319.919922  11786.009766   7650.000000   \n",
       "2018-03-17 00:48:00.000   8261.040039   9177.009766   6430.000000   \n",
       "2018-04-16 00:48:00.000   8383.910156  10020.000000   7825.399902   \n",
       "2018-05-16 00:48:00.000   8427.330078   8609.000000   6118.680176   \n",
       "2018-06-15 00:48:00.000   6604.600098   6841.740234   5750.000000   \n",
       "2018-07-15 20:11:00.000   6359.129883   8491.769531   5880.000000   \n",
       "2018-08-14 20:11:00.000   6069.959961   7410.000000   6046.580078   \n",
       "2018-09-13 20:11:00.000   6438.259766   6839.029785   6123.000000   \n",
       "2018-10-13 20:11:00.000   6326.259766   7680.000000   6245.020020   \n",
       "2018-11-12 23:41:00.000   6450.640137   6498.000000   3222.000000   \n",
       "2018-12-13 06:41:00.000   3379.629883   4198.000000   3156.260010   \n",
       "2019-01-12 06:41:00.000   3579.159912   3733.580078   3349.919922   \n",
       "2019-02-11 06:41:00.000   3629.810059   4198.000000   3568.110107   \n",
       "2019-03-13 12:41:00.000   3864.419922   5422.000000   3810.429932   \n",
       "2019-04-12 12:41:00.000   5051.979980   7521.779785   4950.000000   \n",
       "2019-05-12 12:41:00.000   7062.100098   9074.259766   6750.000000   \n",
       "2019-06-11 23:43:00.000   7890.399902  13970.000000   7788.990234   \n",
       "2019-07-11 23:43:00.000  11250.000000  12330.700195   9060.000000   \n",
       "2019-08-10 23:43:00.000  11344.080078  11600.000000   9320.000000   \n",
       "2019-09-10 07:43:00.000  10297.650391  10448.809570   7710.000000   \n",
       "2019-10-10 07:43:00.000   8630.629883  10370.000000   7300.000000   \n",
       "2019-11-09 07:43:00.000   8859.990234   9147.190430   6515.000000   \n",
       "2019-12-09 12:06:00.000   7472.990234   8455.000000   6435.000000   \n",
       "2020-01-08 12:06:00.000   8341.650391   9885.000000   7672.000000   \n",
       "2020-02-07 12:06:00.000   9807.769531  10500.000000   8149.270020   \n",
       "2020-03-08 21:10:00.000   8279.820312   8280.000000   3782.129883   \n",
       "2020-04-07 21:10:00.000   7103.680176   9999.000000   6468.270020   \n",
       "2020-05-07 23:40:00.000   9957.589844  10380.000000   8117.000000   \n",
       "2020-06-06 23:40:00.000   9662.900391   9992.719727   8833.000000   \n",
       "2020-07-07 03:10:00.000   9288.559570  12123.459961   9047.250000   \n",
       "2020-08-06 03:10:00.000  11647.879883  12468.000000   9875.500000   \n",
       "2020-09-05 03:10:00.000  10458.269531  11179.790039   9825.000000   \n",
       "2020-10-05 03:10:00.000  10698.000000  14100.000000  10525.000000   \n",
       "2020-11-04 03:10:00.000  13846.490234  19888.000000  13525.000000   \n",
       "2020-12-04 04:10:00.000  19219.490234  34778.109375  17572.330078   \n",
       "2021-01-03 09:01:00.000  34437.421875  41950.000000  28130.000000   \n",
       "2021-02-02 09:01:00.000  34822.390625  48678.898438  34333.000000   \n",
       "\n",
       "                                close        volume                    date  \n",
       "date                                                                         \n",
       "2017-08-17 04:00:00.000   3529.989990  2.543288e+04 2017-08-17 04:00:00.000  \n",
       "2017-09-16 11:01:00.000   5705.149902  2.609252e+04 2017-09-16 11:01:00.000  \n",
       "2017-10-16 11:01:00.000   6898.879883  6.000060e+04 2017-10-16 11:01:00.000  \n",
       "2017-11-15 11:01:00.000  17806.519531  2.151137e+05 2017-11-15 11:01:00.000  \n",
       "2017-12-15 11:01:20.799  13220.000000  5.211288e+05 2017-12-15 11:01:20.799  \n",
       "2018-01-14 14:26:00.000   9313.700195  1.169724e+06 2018-01-14 14:26:00.000  \n",
       "2018-02-15 00:48:00.000   8261.009766  1.233179e+06 2018-02-15 00:48:00.000  \n",
       "2018-03-17 00:48:00.000   8384.000000  1.178935e+06 2018-03-17 00:48:00.000  \n",
       "2018-04-16 00:48:00.000   8427.370117  1.050933e+06 2018-04-16 00:48:00.000  \n",
       "2018-05-16 00:48:00.000   6603.209961  8.936577e+05 2018-05-16 00:48:00.000  \n",
       "2018-06-15 00:48:00.000   6359.890137  9.139457e+05 2018-06-15 00:48:00.000  \n",
       "2018-07-15 20:11:00.000   6069.959961  1.301942e+06 2018-07-15 20:11:00.000  \n",
       "2018-08-14 20:11:00.000   6438.750000  1.298410e+06 2018-08-14 20:11:00.000  \n",
       "2018-09-13 20:11:00.000   6323.009766  8.742619e+05 2018-09-13 20:11:00.000  \n",
       "2018-10-13 20:11:00.000   6452.160156  4.613153e+05 2018-10-13 20:11:00.000  \n",
       "2018-11-12 23:41:00.000   3379.889893  1.696868e+06 2018-11-12 23:41:00.000  \n",
       "2018-12-13 06:41:00.000   3579.179932  1.370514e+06 2018-12-13 06:41:00.000  \n",
       "2019-01-12 06:41:00.000   3629.800049  7.877722e+05 2019-01-12 06:41:00.000  \n",
       "2019-02-11 06:41:00.000   3864.479980  9.397477e+05 2019-02-11 06:41:00.000  \n",
       "2019-03-13 12:41:00.000   5050.910156  1.061936e+06 2019-03-13 12:41:00.000  \n",
       "2019-04-12 12:41:00.000   7061.870117  9.310362e+05 2019-04-12 12:41:00.000  \n",
       "2019-05-12 12:41:00.000   7892.330078  1.492890e+06 2019-05-12 12:41:00.000  \n",
       "2019-06-11 23:43:00.000  11250.000000  2.113732e+06 2019-06-11 23:43:00.000  \n",
       "2019-07-11 23:43:00.000  11343.230469  1.544663e+06 2019-07-11 23:43:00.000  \n",
       "2019-08-10 23:43:00.000  10297.650391  1.047180e+06 2019-08-10 23:43:00.000  \n",
       "2019-09-10 07:43:00.000   8630.629883  1.106709e+06 2019-09-10 07:43:00.000  \n",
       "2019-10-10 07:43:00.000   8860.000000  1.450041e+06 2019-10-10 07:43:00.000  \n",
       "2019-11-09 07:43:00.000   7472.979980  1.566837e+06 2019-11-09 07:43:00.000  \n",
       "2019-12-09 12:06:00.000   8342.000000  1.278426e+06 2019-12-09 12:06:00.000  \n",
       "2020-01-08 12:06:00.000   9808.860352  1.643902e+06 2020-01-08 12:06:00.000  \n",
       "2020-02-07 12:06:00.000   8280.000000  1.688757e+06 2020-02-07 12:06:00.000  \n",
       "2020-03-08 21:10:00.000   7103.689941  4.065170e+06 2020-03-08 21:10:00.000  \n",
       "2020-04-07 21:10:00.000   9957.629883  2.489284e+06 2020-04-07 21:10:00.000  \n",
       "2020-05-07 23:40:00.000   9663.120117  2.406756e+06 2020-05-07 23:40:00.000  \n",
       "2020-06-06 23:40:00.000   9288.559570  1.369066e+06 2020-06-06 23:40:00.000  \n",
       "2020-07-07 03:10:00.000  11647.879883  1.655471e+06 2020-07-07 03:10:00.000  \n",
       "2020-08-06 03:10:00.000  10458.259766  1.895939e+06 2020-08-06 03:10:00.000  \n",
       "2020-09-05 03:10:00.000  10698.000000  1.504576e+06 2020-09-05 03:10:00.000  \n",
       "2020-10-05 03:10:00.000  13846.490234  1.621064e+06 2020-10-05 03:10:00.000  \n",
       "2020-11-04 03:10:00.000  19219.490234  2.797780e+06 2020-11-04 03:10:00.000  \n",
       "2020-12-04 04:10:00.000  34437.421875  2.442490e+06 2020-12-04 04:10:00.000  \n",
       "2021-01-03 09:01:00.000  34822.390625  3.315646e+06 2021-01-03 09:01:00.000  \n",
       "2021-02-02 09:01:00.000  47857.750000  9.152069e+05 2021-02-02 09:01:00.000  "
      ]
     },
     "execution_count": 91,
     "metadata": {},
     "output_type": "execute_result"
    }
   ],
   "source": [
    "output"
   ]
  },
  {
   "cell_type": "code",
   "execution_count": null,
   "metadata": {},
   "outputs": [],
   "source": []
  }
 ],
 "metadata": {
  "kernelspec": {
   "display_name": "Python 3",
   "language": "python",
   "name": "python3"
  },
  "language_info": {
   "codemirror_mode": {
    "name": "ipython",
    "version": 3
   },
   "file_extension": ".py",
   "mimetype": "text/x-python",
   "name": "python",
   "nbconvert_exporter": "python",
   "pygments_lexer": "ipython3",
   "version": "3.8.5"
  }
 },
 "nbformat": 4,
 "nbformat_minor": 4
}
